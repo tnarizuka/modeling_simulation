{
 "cells": [
  {
   "attachments": {},
   "cell_type": "markdown",
   "metadata": {},
   "source": [
    "# 微分方程式モデル"
   ]
  },
  {
   "cell_type": "code",
   "execution_count": 1,
   "metadata": {},
   "outputs": [],
   "source": [
    "import numpy as np\n",
    "import matplotlib.pyplot as plt\n",
    "from matplotlib.animation import FuncAnimation\n",
    "import pandas as pd\n",
    "import scipy as sp\n",
    "from scipy.integrate import odeint, solve_ivp\n",
    "from scipy.optimize import curve_fit\n",
    "import japanize_matplotlib"
   ]
  },
  {
   "attachments": {},
   "cell_type": "markdown",
   "metadata": {},
   "source": [
    "本章の内容は，文献{cite}`Kawamura2021,Endo2017,Odaka2018,Hashimoto2021` を主に参考にしている．"
   ]
  },
  {
   "attachments": {},
   "cell_type": "markdown",
   "metadata": {},
   "source": [
    "## 微分方程式とは？"
   ]
  },
  {
   "attachments": {},
   "cell_type": "markdown",
   "metadata": {},
   "source": [
    "### 微分方程式の定義\n",
    "\n",
    "独立変数を $ t $，$ t $に伴って決まる従属変数を $ x(t) $ とする．\n",
    "このとき，$ x $ の $ t $ による微分を含む方程式を**微分方程式**と呼ぶ．\n",
    "例えば，以下は微分方程式の例である：\n",
    "\n",
    "\\begin{align*}\n",
    "    \\frac{dx}{dt} &= 2t \\\\[10pt]\n",
    "    m\\frac{d^2x}{dt^2} &= -mg-k\\left(\\frac{dx}{dt}\\right)^2 \\\\\n",
    "\\end{align*}\n",
    "\n",
    "微分方程式は高階の微分を含んでいても良い．最も高次の微分の次数は**微分方程式の階数**と呼ばれる．\n",
    "また，$ x $ と $ x $ の微分が全て1次式である場合を**線形微分方程式**，それ以外を**非線形微分方程式**と呼ぶ．\n",
    "例えば，上の式は，線形の1階微分方程式と非線形の2階微分方程式である．\n",
    "なお，微分方程式には，独立変数が1つである**常微分方程式**と独立変数が複数ある**偏微分方程式**があるが，本章では常微分方程式のみを扱う．\n",
    "\n",
    "微分方程式は2次方程式や連立方程式などの他の方程式のように解を求めることができる．\n",
    "微分方程式において解を求めるとは，与えられた微分方程式を満たすような関数 $ x(t) $ を求めることを指し，これを**微分方程式を解く**という．\n",
    "\n",
    "微分方程式を解く方法は主に２つ存在する．\n",
    "１つ目は数式の変形だけを使って解く方法で，これを**解析的に解く**という．\n",
    "一般に，微分方程式が与えられたときにそれを解析的に解くのは困難であることが多く，非線形の微分方程式や偏微分方程式の場合は特に難しい．\n",
    "そこで，このような場合には２つ目の方法として，微分方程式を離散化してコンピュータ等で解を求める方法がある．\n",
    "これを**数値的に解く**という．\n",
    "数値解には必ず誤差が含まれるため，誤差を小さくするための様々なアルゴリズムが提案されている．\n",
    "\n",
    "以下では解析的に解ける微分方程式の例をいくつか紹介する．\n",
    "また，Pythonを使って微分方程式を数値的に解く方法についても紹介する．"
   ]
  },
  {
   "attachments": {},
   "cell_type": "markdown",
   "metadata": {},
   "source": [
    "### 簡単な微分方程式\n",
    "\n",
    "$ t $ を時刻，$ x(t) $ を時刻 $ t $ における物体の位置とすると，物体の速度 $ v(t) $ は $ v(t) = \\frac{dx}{dt} $ で与えられる．\n",
    "いま，速度が一定値 $ v_{0} $ であると仮定すると，\n",
    "\n",
    "$$\n",
    "    \\frac{dx}{dt} = v_{0} \n",
    "$$\n",
    "\n",
    "が成り立つ．\n",
    "このように，直線上を等速で運動するような運動を**等速直線運動**と呼ぶ．\n",
    "\n",
    "この微分方程式の解を求めるには， $ t $ で微分して一定値 $ v_{0} $ になるような $ x(t) $ を求めれば良いので，両辺を $ t $ で積分すれば良い：\n",
    "\n",
    "$$\n",
    "    \\int \\frac{dx}{dt} dt = \\int v_{0} dt \\\\[10pt]\n",
    "    x(t) = v_{0} t + C\n",
    "$$\n",
    "\n",
    "ここで，$ C $ は積分定数であるが，$ t=0 $ の位置を $ x(0)=x_{0} $ とすると，$ C=x_{0} $ となる．\n",
    "よって，微分方程式の解は，\n",
    "\n",
    "$$\n",
    "    x(t) = v_{0} t + x_{0}\n",
    "$$\n",
    "\n",
    "と表される．\n",
    "このように，$ v_{0},\\ x_{0} $ のような未知定数を含む解を**一般解**と呼ぶ．\n",
    "一方，初期位置が $ x_{0}=0 $，初速が $ 2 $ m/s であるとすると，$ x(t)=2t $ となる．\n",
    "このように，未知定数に具体的な値を代入して得られる解を**特殊解**と呼ぶ．\n",
    "<!-- 以上のように，時間 $ t $ を独立変数とする微分方程式に対し，$ t=0 $ のときの条件（**初期条件**）を用いて解を求めることを**初期値問題**と呼ぶ． -->"
   ]
  },
  {
   "attachments": {},
   "cell_type": "markdown",
   "metadata": {},
   "source": [
    "## 人口の増加\n",
    "\n",
    "個体数の増減という問題は，実社会から自然界まで幅広く存在する．\n",
    "例えば，実社会において，今後数十年で人口がどのように増減するかを予測することは，国家レベルで議論するべき大問題である．\n",
    "また，自然界においても，様々な生物種の個体数がどのように増減するか分かれば，食物連鎖のダイナミクスを理解したり，獣害に関する対策を立てたりするのに役立つ．\n",
    "個体数の増減は，微分方程式で記述される現象の典型例であり，微分方程式の基礎を理解するのにも適した問題である．\n",
    "以下では，個体数の増減に関する微分方程式のうち，いくつかの基本的な例を紹介する．"
   ]
  },
  {
   "attachments": {},
   "cell_type": "markdown",
   "metadata": {},
   "source": [
    "### マルサスモデル\n",
    "\n",
    "時刻 $ t $ におけるある国の総人口を $ N(t) $ とすると，人口の増加率は $ dN(t)/dt $ と表される．\n",
    "経済学者のマルサス（Thomas Robert Malthus）は，人口の増加率がそのときの人口に比例すると考え，以下のようなモデルを提案した：\n",
    "\n",
    "$$\n",
    "\t\\frac{dN}{dt} = \\alpha N(t)\n",
    "$$\n",
    "\n",
    "この式は1階微分方程式であり，**マルサスモデル**と呼ばれる．"
   ]
  },
  {
   "attachments": {},
   "cell_type": "markdown",
   "metadata": {},
   "source": [
    "マルサスモデルは，以下のように独立変数 $ t $ と従属変数 $ N(t) $ を左辺と右辺に分離することができる：\n",
    "\n",
    "$$\n",
    "\t\\frac{1}{N} dN = \\alpha dt\n",
    "$$\n",
    "\n",
    "このような変数の分離が可能な微分方程式は，**変数分離形**と呼ばれ，変数分離することで積分が可能となる．\n",
    "実際に両辺を不定積分すると，\n",
    "\n",
    "$$\n",
    "\t\\ln N = \\alpha t + C\n",
    "$$\n",
    "\n",
    "より\n",
    "\n",
    "$$\n",
    "\tN(t) = \\mathrm{e}^{\\alpha t + C}\n",
    "$$\n",
    "\n",
    "となる．\n",
    "また，$ N(t) $ の初期条件を $ t=0 $ で $ N(0)=N_{0} $ とすると\n",
    "\n",
    "$$\n",
    "\tN(0) = \\mathrm{e}^{C} = N_{0}\n",
    "$$\n",
    "\n",
    "となるので，一般解は\n",
    "\n",
    "$$\n",
    "\tN(t) = N_{0} \\mathrm{e}^{\\alpha t}\n",
    "$$\n",
    "\n",
    "となる．\n",
    "\n",
    "マルサスモデルの解は $ N(t) $ が $ t $ の関数として表されているので，初期時刻での人口 $ N_{0} $ を与えれば，その後の任意の時刻において人口を予測できる．\n",
    "特に，人口が指数関数的に際限なく増加するというのがマルサスモデルの特徴である．\n",
    "なお，$ \\alpha < 0 $ の場合には指数関数的な減少を表すことになる．\n",
    "この場合のモデルは，放射性元素の崩壊や，ある種の病気の感染者数の減少などに適用できる．"
   ]
  },
  {
   "attachments": {},
   "cell_type": "markdown",
   "metadata": {},
   "source": [
    "### ロジスティックモデル\n",
    "\n",
    "マルサスモデルでは，指数関数的な増加がいつまでも続くが，人口が増えすぎると食料資源の不足や環境的要因などによって人口の増加を抑制する効果がはたらくのが自然である．\n",
    "このような考察から，より現実に即したモデルとしてVerhulstによって導入されたのが以下の微分方程式である：\n",
    "\n",
    "$$\n",
    "\t\\frac{dN}{dt} = \\gamma \\left(1 - \\frac{N(t)}{N_{\\infty}}\\right)N(t)\n",
    "$$\n",
    "\n",
    "これは**ロジスティックモデル**と呼ばれる．\n",
    "ここで，$ \\gamma,\\ N_{\\infty} $ は定数である．\n",
    "ロジスティックモデルは，マルサスモデルの $ \\alpha $ を以下のように置き換えた形になっている：\n",
    "\n",
    "$$\n",
    "\t\\alpha \\rightarrow \\gamma \\left(1 - \\frac{N(t)}{N_{\\infty}}\\right)\n",
    "$$\n",
    "\n",
    "ロジスティックモデルは右辺が非線形な関数となっているが，これも変数分離形なのでマルサスモデルと同じように解くことができる．\n",
    "まず，式を以下のように変形する：\n",
    "\n",
    "$$\n",
    "\t\\int \\frac{dN}{N(1 - N/N_{\\infty})} = \\int \\gamma dt\n",
    "$$\n",
    "\n",
    "ここで，左辺の被積分変数を部分分数分解すると，\n",
    "\n",
    "$$\n",
    "\t\\int \\left[\\frac{1}{N} - \\frac{1/N_{\\infty}}{(1-N/N_{\\infty})}\\right]dN = \\int \\gamma dt\n",
    "$$\n",
    "\n",
    "となる．\n",
    "これより，両辺を不定積分することができて，\n",
    "\n",
    "\\begin{align*}\n",
    "\t\\ln \\left(\\frac{N}{1-N/N_{\\infty}}\\right) &= \\gamma t + C\n",
    "\\end{align*}\n",
    "\n",
    "となる．\n",
    "さらに，初期条件として　$ t=0 $　で　$ N(0)=N_{0} $　とすれば，最終的に\n",
    "\n",
    "$$\n",
    "\tN(t) = \\frac{N_{\\infty}}{1+[(N_{\\infty}/N_{0})-1]\\mathrm{e}^{-\\gamma t}}\n",
    "$$\n",
    "\n",
    "という一般解を得る．"
   ]
  },
  {
   "attachments": {},
   "cell_type": "markdown",
   "metadata": {},
   "source": [
    "得られた一般解は**シグモイド関数**と呼ばれ，下図のような時間変化となる．\n",
    "初期の個体数が $ N_{0} < N_{\\infty} $ を満たす場合には，最初は指数関数的な増加を示すが，次第に増加率が小さくなっていき，最終的には $ N_{\\infty} $ に収束する．\n",
    "この意味で，$ N_{\\infty} $ は人口の上限を表す定数であることが分かる．\n",
    "一方，$ N_{0} > N_{\\infty} $ の場合には指数関数的な減少を示すが，この場合にも最終的には $ N_{\\infty} $ へと収束する．\n",
    "\n",
    "なお，実社会における人口の増加はマルサスモデルよりもロジスティックモデルに近いふるまいをするが，完璧に記述できるわけではない．\n",
    "それでも，微生物などの場合には，環境をコントロールした実験によって，その増殖の仕方がロジスティックモデルによく従うことが分かっている．\n",
    "また，感染症のモデルとして知られるSIモデル（未感染者が感染者と接触すると一定の確率で感染するモデル）は感染者数がロジスティックモデルに従う．\n",
    "さらに，家電の普及率など，近似的にロジスティックモデルで記述できる現象は多い．\n",
    "\n",
    "生物集団における個体数変化のモデルをより現実に近づけるためには，多数の生物種の間の捕食・被食関係を考慮する方法が考えられる．\n",
    "このようなモデルの中で単純なものとして，2種の生物間の相互作用を考慮した**ロトカ・ヴォルテラモデル**が知られている．"
   ]
  },
  {
   "cell_type": "code",
   "execution_count": 2,
   "metadata": {},
   "outputs": [],
   "source": [
    "# シグモイド関数の定義\n",
    "def f_logistic(t, N0, N_inf, gamma): \n",
    "    return N_inf * (1+(N_inf/N0-1)*np.exp(-np.clip(gamma*t, -709, 100000)))**(-1)"
   ]
  },
  {
   "cell_type": "code",
   "execution_count": 3,
   "metadata": {},
   "outputs": [
    {
     "data": {
      "image/png": "[encoded data removed]",
      "text/plain": [
       "<Figure size 400x300 with 1 Axes>"
      ]
     },
     "metadata": {},
     "output_type": "display_data"
    }
   ],
   "source": [
    "fig, ax = plt.subplots(figsize=(4, 3))\n",
    "t = np.arange(200)\n",
    "ax.plot(t, f_logistic(t, 10, 1000, 0.05), 'r-')\n",
    "ax.plot(t, f_logistic(t, 1500, 1000, 0.05), 'b-')\n",
    "\n",
    "ax.set_xlim(0, 200), ax.set_ylim(0, 1500); \n",
    "ax.set_xlabel('$t$', fontsize=15)\n",
    "ax.set_ylabel('$N(t)$', fontsize=15);"
   ]
  },
  {
   "cell_type": "markdown",
   "metadata": {},
   "source": [
    "改めて，韓国における新型コロナウイルス感染者数の推移データ（[covid19_korea.csv](https://drive.google.com/uc?export=download&id=14l9chvX4PqHMQQl2yTQTPm7J7S5Us6Xz)）を調べてみよう．\n",
    "このデータを読み込み，横軸に2020年1月22日を0日とした経過日数，縦軸に感染者数を取った散布図を50日目までと100日目までに分けて描くと，いずれもシグモイド関数のような変化となる．\n",
    "そこで，$ N_{0},\\ N_{\\infty}, \\gamma $ をフィッティングパラメータとして最小二乗法でフィッティングを行うと，以下のような結果が得られる．\n",
    "50日目まではほぼシグモイド関数に従っているが，50日目以降で増加の仕方に変化があり，シグモイド関数からのズレが見られることが分かる．\n",
    "\n",
    "※ 本データの出典：[John Hopkins CSSE](https://github.com/CSSEGISandData/COVID-19/tree/master/csse_covid_19_data/csse_covid_19_time_series)"
   ]
  },
  {
   "cell_type": "code",
   "execution_count": 4,
   "metadata": {},
   "outputs": [
    {
     "name": "stdout",
     "output_type": "stream",
     "text": [
      "[6.44366653e-03 7.94804315e+03 3.55899256e-01]\n",
      "[4.72313866e+00 1.01973783e+04 1.79595488e-01]\n"
     ]
    },
    {
     "data": {
      "image/png": "[encoded data removed]",
      "text/plain": [
       "<Figure size 500x400 with 1 Axes>"
      ]
     },
     "metadata": {},
     "output_type": "display_data"
    }
   ],
   "source": [
    "# データの読み込み\n",
    "data = pd.read_csv('./covid19_korea.csv', header=0)\n",
    "\n",
    "fig, ax = plt.subplots(figsize=(5, 4))\n",
    "ax.plot(data.index[:100], data['num'][:100], 'x', ms=6)\n",
    "\n",
    "for tmax in [50, 100]:\n",
    "    t, Nt = data.index[:tmax], data['num'][:tmax] \n",
    "    p_opt = curve_fit(f_logistic, t, Nt)[0]\n",
    "    print(p_opt)\n",
    "    ax.plot(t, f_logistic(t, p_opt[0], p_opt[1], p_opt[2]), '-', lw=2, label='%s日まで' % tmax)\n",
    "\n",
    "ax.set_xlim(0, 100), ax.set_ylim(0, 11000)\n",
    "ax.set_xlabel('time (day)', fontsize=15); ax.set_ylabel('Number of infected', fontsize=15)\n",
    "ax.legend(loc='upper left', fontsize=12);"
   ]
  },
  {
   "attachments": {},
   "cell_type": "markdown",
   "metadata": {},
   "source": [
    "## 微分方程式の数値計算"
   ]
  },
  {
   "attachments": {},
   "cell_type": "markdown",
   "metadata": {},
   "source": [
    "### オイラー法による数値計算"
   ]
  },
  {
   "attachments": {},
   "cell_type": "markdown",
   "metadata": {},
   "source": [
    "マルサスモデルとロジスティックモデルのように解析的に解けるような微分方程式は一般的には多くない．\n",
    "そこで，微分方程式を解くもう一つの方法である数値解法について考えてみよう．\n",
    "数値解法は，非線形項を含む微分方程式や偏微分方程式などに対しても解を求めることができるが，ここでは次のような１階微分方程式を対象とする：\n",
    "\n",
    "\\begin{align*}\n",
    "    \\frac{du}{dt} &= g(t, u(t)) \\\\[10pt]\n",
    "    u(0) &= u_{0}\n",
    "\\end{align*}\n",
    "\n",
    "ここで，$ g(t, u(t)) $ は独立変数 $ t $ と従属変数 $ u(t) $ の任意関数であり，マルサスモデルやロジスティックモデルはこの形に帰着できる．\n",
    "\n",
    "さて，この微分方程式をコンピュータで数値的に扱うには微分の計算\n",
    "\n",
    "$$\n",
    "    \\frac{du}{dt} = \\lim_{\\Delta t \\to 0} \\frac{u(t+\\Delta t) - u(t)}{\\Delta t}\n",
    "$$\n",
    "\n",
    "を行う必要があるが，コンピュータ上で $ \\Delta t $ を厳密に0にすることはできない．\n",
    "しかし，$ \\Delta t $ を十分に小さくとれば，微分の近似値として十分に精度の高い値を得ることができるだろう．\n",
    "そこで，元の微分方程式を以下のように置き換えてみる：\n",
    "\n",
    "\\begin{align*}\n",
    "    \\frac{u(t+\\Delta t) - u(t)}{\\Delta t} &= g(t, u(t)) \\\\[10pt]\n",
    "    u(t+\\Delta t) &= u(t) + \\Delta t g(t, u(t))\n",
    "\\end{align*}\n",
    "\n",
    "すると，この式は $ u(t) $ から次の時刻の $ u(t+\\Delta t) $ を求める漸化式と見なすことができる．\n",
    "よって，初期条件 $ u(0) $ から $ u(\\Delta t) $ を求め，さらに $ u(2\\Delta t) $ を求めていけば，任意の時刻における $ u(t) $ を求めることができる．"
   ]
  },
  {
   "cell_type": "markdown",
   "metadata": {},
   "source": [
    "以上の方法は**オイラー法**と呼ばれ，微分方程式の数値解法の中で最も基本的なアルゴリズムである．\n",
    "オイラー法は $ \\Delta t $ を小さくとると精度が向上するが，その分計算量が増えてしまうという欠点がある．\n",
    "そこで，ホイン法やルンゲクッタ法などより精度の高い方法が数多く提案されている．"
   ]
  },
  {
   "attachments": {},
   "cell_type": "markdown",
   "metadata": {},
   "source": [
    "オイラー法をPythonで実装するために，式の整理をしておこう．\n",
    "まず，$ 0\\sim t $ の時刻を $ \\Delta t $ の間隔で $ n $ 個に分割すると，\n",
    "\n",
    "$$\n",
    "    0, \\Delta t, 2\\Delta t, \\cdots, (n-1)\\Delta t, n\\Delta t\n",
    "$$\n",
    "\n",
    "となる．\n",
    "そこで，離散化した時刻を順に $ t_{0},\\ t_{1},\\ \\cdots, t_{n} $ とすれば， $ t_{n} = n\\Delta t $ が成り立つ．\n",
    "このとき，離散化した従属変数を $ u(t_{n}) = u_{n} $ と表記すれば，微分方程式は以下のように表すことができる：\n",
    "\n",
    "\\begin{align*}\n",
    "    u_{n+1} &= u_{n} + \\Delta t g(t_{n}, u_{n})\n",
    "\\end{align*}"
   ]
  },
  {
   "cell_type": "markdown",
   "metadata": {},
   "source": [
    "**マルサスモデル**\n",
    "\n",
    "マルサスモデルをオイラー法で離散化すると，以下のようになる：\n",
    "\n",
    "$$\n",
    "    u_{n+1} = u_{n} + \\Delta t \\alpha u_{n}\n",
    "$$\n",
    "\n",
    "実際に数値計算すると，時間刻み $ \\Delta t $ を小さくするほど厳密解に近づくことが分かる．"
   ]
  },
  {
   "cell_type": "code",
   "execution_count": 5,
   "metadata": {},
   "outputs": [],
   "source": [
    "a = 2\n",
    "def g_malthus(t_n, u_n):\n",
    "    return a*u_n"
   ]
  },
  {
   "cell_type": "code",
   "execution_count": 19,
   "metadata": {},
   "outputs": [
    {
     "data": {
      "text/plain": [
       "Text(0, 0.5, '$N(t)$')"
      ]
     },
     "execution_count": 19,
     "metadata": {},
     "output_type": "execute_result"
    },
    {
     "data": {
      "image/png": "[encoded data removed]",
      "text/plain": [
       "<Figure size 350x300 with 1 Axes>"
      ]
     },
     "metadata": {},
     "output_type": "display_data"
    }
   ],
   "source": [
    "T, dt = 1, 0.05\n",
    "\n",
    "# 離散化した独立変数と従属変数\n",
    "t = np.arange(0, T, dt) \n",
    "u = np.zeros(len(t))\n",
    "\n",
    "# 数値計算\n",
    "u[0] = 1 # 初期値\n",
    "for n in range(len(t)-1):\n",
    "    u[n+1] = u[n] + dt * g_malthus(t[n], u[n])\n",
    "\n",
    "# グラフの描画\n",
    "fig, ax = plt.subplots()\n",
    "ax.plot(t, u, '.', ms=3) # 数値解\n",
    "ax.plot(t, np.exp(a*t), 'r-'); # 厳密解\n",
    "\n",
    "ax.set_xlabel('$t$', fontsize=15)\n",
    "ax.set_ylabel('$N(t)$', fontsize=15)"
   ]
  },
  {
   "cell_type": "markdown",
   "metadata": {},
   "source": [
    "**ロジスティックモデル**\n",
    "\n",
    "ロジスティックモデルをオイラー法で離散化すると，以下のようになる：\n",
    "\n",
    "$$\n",
    "    u_{n+1} = u_{n} + \\Delta t \\gamma \\left(1 - \\frac{u_{n}}{N_{\\infty}}\\right)u_{n}\n",
    "$$\n",
    "\n",
    "この場合も時間刻み $ \\Delta t $ を小さくすると数値解と厳密解がよく一致することが分かる．\n",
    "一方，$ \\Delta t $ を大きくしていくと，マルサスモデルの場合とは異なった振る舞いが見られる．\n",
    "詳しくは，演習問題をやれば分かるが，オイラー法が全く役に立たないことが実感できるだろう．\n",
    "実は，ロジスティック方程式をオイラー法で離散化した方程式は**ロジスティック写像**と呼ばれており，**周期倍分岐**と呼ばれる特異な振る舞いをすることが知られている．\n",
    "特に，パラメータ（今の場合は $ 1+\\Delta t \\gamma $ ）がある値（3.5699456...）を超えると，特定の周期を持たない非常に複雑な振る舞いを示す．\n",
    "これは，**カオス**の一例として知られている．"
   ]
  },
  {
   "cell_type": "code",
   "execution_count": 23,
   "metadata": {},
   "outputs": [],
   "source": [
    "# 離散化したロジスティック方程式\n",
    "gamma, N_inf = 1, 1000\n",
    "def g_logistic(t_n, u_n):\n",
    "    return gamma*(1-u_n/N_inf)*u_n"
   ]
  },
  {
   "cell_type": "code",
   "execution_count": 26,
   "metadata": {},
   "outputs": [
    {
     "data": {
      "image/png": "[encoded data removed]",
      "text/plain": [
       "<Figure size 700x500 with 1 Axes>"
      ]
     },
     "metadata": {},
     "output_type": "display_data"
    }
   ],
   "source": [
    "T = 100\n",
    "dt = 0.1\n",
    "\n",
    "# 離散化した独立変数と従属変数\n",
    "t = np.arange(0, T, dt) \n",
    "u = np.zeros(len(t))\n",
    "\n",
    "# 数値計算\n",
    "u[0] = 0.5  # 初期値\n",
    "for n in range(len(t)-1):\n",
    "    u[n+1] = u[n] + dt * g_logistic(t[n], u[n])\n",
    "\n",
    "# 数値解の描画\n",
    "fig, ax = plt.subplots(figsize=(7, 5))\n",
    "ax.plot(t, u, '-x', ms=3) # 数値解\n",
    "\n",
    "# 厳密解（シグモイド関数）の描画\n",
    "f_logistic = lambda t, N0, N_inf, gamma: N_inf * (1+(N_inf/N0-1)*np.exp(-np.clip(gamma*t, -709, 100000)))**(-1)\n",
    "t2 = np.arange(0, T, 0.01)\n",
    "ax.plot(t2, f_logistic(t2, u[0], N_inf, gamma), 'r-')\n",
    "\n",
    "ax.set_xlim(0, T);"
   ]
  },
  {
   "cell_type": "markdown",
   "metadata": {},
   "source": [
    "**演習問題**\n",
    "\n",
    "- $ N_{\\infty}=1000,\\ \\gamma=1 $ のロジスティックモデルについて，$ \\Delta t $ を以下の値に設定して数値計算せよ．初期値は何でも良い．\n",
    "  - $ 0 < \\Delta t \\le 1 $\n",
    "  - $ 1 < \\Delta t \\le 2 $\n",
    "  - $ 2 < \\Delta t \\le 2.4494879 $\n",
    "  - $ 2.4494897 < \\Delta t \\le 2.5699456 $\n",
    "  - $ 2.5699456 < \\Delta t < 3 $\n",
    "  - $ 3 < \\Delta t $\n",
    "- 同様に，$ \\Delta t = 3 $ の場合に様々な初期条件で数値計算せよ．"
   ]
  },
  {
   "attachments": {},
   "cell_type": "markdown",
   "metadata": {},
   "source": [
    "### scipy.integrate.solve_ivpによる数値計算"
   ]
  },
  {
   "attachments": {},
   "cell_type": "markdown",
   "metadata": {},
   "source": [
    "現在，非常に精度が良く高速な数値アルゴリズムが数多く開発されているが，これらを実装するのは容易ではない．\n",
    "そこで，通常は数値計算用のライブラリを用いるのが一般的である．\n",
    "ここでは，`scipy.integrate.solve_ivp`を用いて，様々な常微分方程式を解く方法を紹介する．<br>\n",
    "なお，`scipy.integrate.odeint`も同様の機能を備えているが，現在は`solve_ivp`の使用が推奨されている．"
   ]
  },
  {
   "cell_type": "markdown",
   "metadata": {},
   "source": [
    "まずは，以下のように`solve_ivp`をインポートしておく．"
   ]
  },
  {
   "cell_type": "code",
   "execution_count": null,
   "metadata": {},
   "outputs": [],
   "source": [
    "from scipy.integrate import solve_ivp"
   ]
  },
  {
   "cell_type": "markdown",
   "metadata": {},
   "source": [
    "`solve_ivp`は以下のような連立常微分方程式を解くことができる：\n",
    "\n",
    "\\begin{align*}\n",
    "    \\frac{dx}{dt} &= f(t, x, y,\\ldots) \\\\[10pt]\n",
    "    \\frac{dy}{dt} &= g(t, x, y,\\ldots) \\\\[10pt]\n",
    "    \\vdots \\\\[10pt]\n",
    "\\end{align*}\n",
    "\n",
    "ただし，初期条件を $ x(t_0) = x_0,\\ y(t_0) = y_0, \\ldots $ とする．\n",
    "\n",
    "`solve_ivp`は以下のように実行する：\n",
    "```python\n",
    "    solve_ivp(func, t_span, y0, method, t_eval, args)\n",
    "```\n",
    "それぞれの引数の意味は以下の通りである：\n",
    "\n",
    "| 引数 | 意味 | 例 |\n",
    "|:---|:---| :---|\n",
    "| `func` | 微分方程式の右辺を定義した関数 | func(t, x, y, ..., params) |\n",
    "| `t_span` | 数値解を求める時間範囲 | `[t_min, t_max]` |\n",
    "| `y0` | 初期値 | `[1, 0]` |\n",
    "| `method` | 数値解を求めるためのアルゴリズム | `'RK45'`, `'RK23'`, `'DOP853'`, `'Radau'`, `'BDF'` |\n",
    "| `t_eval` | 数値解を求める時間 | np.arange(t_min, t_max, dt) |\n",
    "| `args` | `func`に渡す引数 |  |"
   ]
  },
  {
   "cell_type": "markdown",
   "metadata": {},
   "source": [
    "**マルサスモデル**"
   ]
  },
  {
   "cell_type": "code",
   "execution_count": 156,
   "metadata": {},
   "outputs": [],
   "source": [
    "def ode_malthus(t, N, a):\n",
    "    dNdt = a*N\n",
    "\n",
    "    return [dNdt]"
   ]
  },
  {
   "cell_type": "code",
   "execution_count": 157,
   "metadata": {},
   "outputs": [
    {
     "data": {
      "text/plain": [
       "[<matplotlib.lines.Line2D at 0x1d8621250>]"
      ]
     },
     "execution_count": 157,
     "metadata": {},
     "output_type": "execute_result"
    }
   ],
   "source": [
    "# パラメータと初期条件\n",
    "a = 2   # パラメータ\n",
    "N0 = [1]  # 初期値\n",
    "\n",
    "# 数値計算\n",
    "t = np.arange(0, 1, 0.05)\n",
    "sol = solve_ivp(ode_malthus, [t[0], t[-1]], N0, method='RK45', t_eval=t, args=[a])\n",
    "\n",
    "# グラフの描画\n",
    "fig, ax = plt.subplots(figsize=(5, 4))\n",
    "ax.plot(t, sol.y[0], 'x') # 数値解\n",
    "ax.plot(t, N0*np.exp(a*t), lw=2) # 解析解"
   ]
  },
  {
   "cell_type": "markdown",
   "metadata": {},
   "source": [
    "**ロジスティックモデル**"
   ]
  },
  {
   "cell_type": "code",
   "execution_count": 158,
   "metadata": {},
   "outputs": [],
   "source": [
    "def ode_logistic(t, N, N_inf, gamma):\n",
    "    dNdt = gamma * (1 - N / N_inf) * N\n",
    "\n",
    "    return [dNdt]"
   ]
  },
  {
   "cell_type": "code",
   "execution_count": 162,
   "metadata": {},
   "outputs": [],
   "source": [
    "# パラメータと初期条件\n",
    "gamma, N_inf = 1, 1000  # パラメータ\n",
    "N0 = [1]  # 初期値\n",
    "\n",
    "# 数値計算\n",
    "t = np.arange(0, 100, 0.1)\n",
    "sol = solve_ivp(ode_logistic, [t[0], t[-1]], N0, args=[N_inf, gamma], method='RK45', t_eval=t)\n",
    "\n",
    "# グラフの描画\n",
    "fig, ax = plt.subplots(figsize=(5, 4))\n",
    "ax.plot(t, sol.y[0], '-x', ms=3) # 数値解\n",
    "\n",
    "# 解析解\n",
    "f_logistic = lambda t, N0, N_inf, gamma: N_inf * (1+(N_inf/N0-1)*np.exp(-np.clip(gamma*t, -709, 100000)))**(-1)\n",
    "ax.plot(t, f_logistic(t, N0[0], N_inf, gamma), 'r-')\n",
    "ax.set_xlim(0, t[-1]);"
   ]
  },
  {
   "cell_type": "markdown",
   "metadata": {},
   "source": [
    "**斜方投射**"
   ]
  },
  {
   "cell_type": "markdown",
   "metadata": {},
   "source": [
    "位置 $ (x_{0}, y_{0}) $ から角度 $ \\theta $ の方向に初速 $ v_{0} $ で質量 $ m $ の物体を投げたときの物体の運動を考える．\n",
    "これを斜方投射と呼ぶ．\n",
    "物体には重力と速度に比例した空気抵抗がはたらくとすると，物体の運動は以下の微分方程式（運動方程式）で表される\n",
    "\n",
    "\\begin{align*}\n",
    "    m\\frac{d^{2}x}{dt^2} &= -k\\frac{dx}{dt} \\\\[10pt]\n",
    "    m\\frac{d^{2}y}{dt^2} &= -mg -k\\frac{dy}{dt}\n",
    "\\end{align*}\n",
    "\n",
    "この微分方程式は解析的に解くことができ，以下のように表される：\n",
    "\n",
    "\\begin{align*}\n",
    "    x(t) &= x_{0} + \\frac{m}{k}v_{0}\\cos\\theta \\left(1 - \\mathrm{e}^{-\\frac{k}{m}t}\\right) \\\\[10pt]\n",
    "    y(t) &= y_{0} -\\frac{mg}{k}t + \\frac{m}{k} \\left(v_{0}\\sin\\theta + \\frac{mg}{k}\\right) \\left(1 - \\mathrm{e}^{-\\frac{k}{m}t}\\right)\n",
    "\\end{align*}"
   ]
  },
  {
   "cell_type": "markdown",
   "metadata": {},
   "source": [
    "この微分方程式は2階微分方程式なので，このままだと数値的に解くことができない．\n",
    "しかし，$ \\frac{dx}{dt}=v_{x},\\ \\frac{dy}{dt}=v_{y} $ と置くと，以下のように連立1階微分方程式に変換することができる：\n",
    "\n",
    "\\begin{align*}\n",
    "    \\frac{dx}{dt} &= v_{x} \\\\[10pt]\n",
    "    \\frac{dy}{dt} &= v_{y} \\\\[10pt]\n",
    "    m\\frac{dv_{x}}{dt} &= -kv_{x} \\\\[10pt]\n",
    "    m\\frac{dv_{y}}{dt} &= -mg -kv_{y}\n",
    "\\end{align*}\n",
    "\n",
    "これより，元の微分方程式を4変数の連立微分方程式と見なせば，`solve_ivp`を用いて解くことができる．\n",
    "\n",
    "以下では，matplotlibの`FuncAnimation`関数を使って数値解をアニメーションで表示してみよう．"
   ]
  },
  {
   "cell_type": "code",
   "execution_count": 163,
   "metadata": {},
   "outputs": [],
   "source": [
    "from matplotlib.animation import FuncAnimation"
   ]
  },
  {
   "cell_type": "code",
   "execution_count": 164,
   "metadata": {},
   "outputs": [],
   "source": [
    "# 描画結果の出力先を別ウインドウとする\n",
    "# 元に戻すには %matplotlib inline を実行する\n",
    "%matplotlib tk"
   ]
  },
  {
   "cell_type": "code",
   "execution_count": 165,
   "metadata": {},
   "outputs": [],
   "source": [
    "def ode_projectile(t, var, g, m_k):\n",
    "    '''\n",
    "    斜方投射（空気抵抗あり）の運動方程式\n",
    "    ---\n",
    "    m_k: m/k\n",
    "    '''\n",
    "    x, y, vx, vy = var\n",
    "    dxdt = vx\n",
    "    dydt = vy\n",
    "    dvxdt = -vx/m_k\n",
    "    dvydt = -g - vy/m_k\n",
    "    \n",
    "    return [dxdt, dydt, dvxdt, dvydt]"
   ]
  },
  {
   "cell_type": "code",
   "execution_count": 166,
   "metadata": {},
   "outputs": [],
   "source": [
    "# パラメータ\n",
    "g = 9.8 # 重力加速度 [m/s^2]\n",
    "m_k = 3 # 質量と抵抗係数の比（m/k） [s]\n",
    "\n",
    "# 初期条件\n",
    "x0, y0, v0, ag0 = 0, 0, 45, np.radians(30) # 初期位置 [m], 初速 [m/s]，投射角 [rad]\n",
    "var0 = [x0, y0, v0*np.cos(ag0), v0*np.sin(ag0)] # [x0, y0, vx, vz]\n",
    "\n",
    "# 数値計算\n",
    "t = np.arange(0, 10, 0.1)\n",
    "sol = solve_ivp(ode_projectile, [t[0], t[-1]], var0, method='RK45', t_eval=t, args=[g, m_k])"
   ]
  },
  {
   "cell_type": "code",
   "execution_count": 167,
   "metadata": {},
   "outputs": [],
   "source": [
    "# アニメーションの設定\n",
    "def update(i, x, y):\n",
    "\n",
    "    line.set_data(x[:i], y[:i])\n",
    "\n",
    "    return [line]\n",
    "\n",
    "# グラフの設定\n",
    "fig, ax = plt.subplots(figsize=(7, 5))\n",
    "line, = ax.plot([], [], 'o-')\n",
    "\n",
    "ax.set_aspect('equal')\n",
    "ax.set_xlim(0, 100); ax.set_ylim(0, 30)\n",
    "ax.set_xlabel('$x$ [m]', fontsize=15)\n",
    "ax.set_ylabel('$y$ [m]', fontsize=15)\n",
    "\n",
    "# 実行\n",
    "anim = FuncAnimation(fig, update, fargs=[sol.y[0], sol.y[1]],\\\n",
    "                     frames=len(t), blit=True, interval=10, repeat=False)"
   ]
  },
  {
   "cell_type": "markdown",
   "metadata": {},
   "source": [
    "**単振り子**\n",
    "\n",
    "最後に，解析的に解けない微分方程式の例として，単振り子を取り上げる．\n",
    "天井から長さ $ l $ の糸で質量 $ m $ の物体を吊るしたときの静止位置を原点に取る．\n",
    "糸の垂直線からの角度を $ \\phi $ とする．\n",
    "物体に重力と糸の張力がはたらくとすると，角度 $ \\phi $ は次のような微分方程式で記述される：\n",
    "\n",
    "\\begin{align*}\n",
    "\t\\frac{d^{2}\\phi}{dt^2} = -\\frac{g}{l}\\sin\\phi\n",
    "\\end{align*}\n",
    "\n",
    "この微分方程式は，$ \\sin\\phi $ という非線形関数を含むため，解析的に解くことができない（楕円関数を使えば解ける）．\n",
    "よって，通常は角度が小さい場合を仮定して， $ \\sin\\phi \\approx \\phi $ と近似して得られる単振動の微分方程式を解く．\n",
    "\n",
    "ここでは，`solve_ivp` を使ってこの微分方程式を数値的に解いてみよう．\n",
    "数値解を求めるにあたり，2階微分方程式を1階微分方程式に変換しておく：\n",
    "\n",
    "\\begin{align*}\n",
    "\t\\frac{d\\phi}{dt} &= v_{\\phi} \\\\[10pt]\n",
    "\t\\frac{dv_{\\phi}}{dt} &= -\\frac{g}{l}\\sin\\phi\n",
    "\\end{align*}"
   ]
  },
  {
   "cell_type": "code",
   "execution_count": 168,
   "metadata": {},
   "outputs": [],
   "source": [
    "%matplotlib tk"
   ]
  },
  {
   "cell_type": "code",
   "execution_count": 169,
   "metadata": {},
   "outputs": [],
   "source": [
    "def ode_simple_pendulum(t, var, g, l):\n",
    "    '''\n",
    "    単振り子の運動方程式\n",
    "    '''\n",
    "    ag, v = var\n",
    "    dagdt = v\n",
    "    dvdt = -(g/l)*np.sin(ag)\n",
    "    \n",
    "    return [dagdt, dvdt]"
   ]
  },
  {
   "cell_type": "code",
   "execution_count": 175,
   "metadata": {},
   "outputs": [],
   "source": [
    "# パラメータ\n",
    "l = 2    # 糸の長さ\n",
    "g = 9.8  # 重力加速度\n",
    "\n",
    "# 初期条件\n",
    "var0 = np.radians([45, 0]) # [ag0, v0]\n",
    "\n",
    "# 数値計算\n",
    "t = np.arange(0, 100, 0.1)\n",
    "sol = solve_ivp(ode_simple_pendulum, [t[0], t[-1]], var0, method='RK45', t_eval=t, args=[g, l])\n",
    "x = l*np.sin(sol.y[0])   # x座標\n",
    "y = l-l*np.cos(sol.y[0]) # y座標"
   ]
  },
  {
   "cell_type": "code",
   "execution_count": 177,
   "metadata": {},
   "outputs": [],
   "source": [
    "# アニメーションの設定\n",
    "def update_simple_pendulum(i):\n",
    "    pt.set_data(x[i], y[i])\n",
    "    line.set_data([0, x[i]], [l, y[i]])\n",
    "    \n",
    "    return [pt, line]\n",
    "\n",
    "# グラフの設定\n",
    "fig, ax = plt.subplots(figsize=(5, 5))\n",
    "pt, = ax.plot([], [], 'ko', ms=10)\n",
    "line, = ax.plot([], [], 'k-', lw=1)\n",
    "\n",
    "ax.set_aspect('equal')\n",
    "ax.set_xlim(-l, l); ax.set_ylim(-0.5, 2*l)\n",
    "ax.set_xlabel('$x$', fontsize=15)\n",
    "ax.set_ylabel('$y$', fontsize=15)\n",
    "\n",
    "# 実行\n",
    "anim = FuncAnimation(fig, update_simple_pendulum, fargs=None,\\\n",
    "                     frames=len(t), blit=True, interval=20, repeat=True)"
   ]
  }
 ],
 "metadata": {
  "kernelspec": {
   "display_name": "myenv",
   "language": "python",
   "name": "python3"
  },
  "language_info": {
   "codemirror_mode": {
    "name": "ipython",
    "version": 3
   },
   "file_extension": ".py",
   "mimetype": "text/x-python",
   "name": "python",
   "nbconvert_exporter": "python",
   "pygments_lexer": "ipython3",
   "version": "3.9.18"
  },
  "orig_nbformat": 4,
  "vscode": {
   "interpreter": {
    "hash": "911fd4aa1eca4252368dc27db61226a38a6cfe922f9bbc90c7d50e9c97ede316"
   }
  }
 },
 "nbformat": 4,
 "nbformat_minor": 2
}
