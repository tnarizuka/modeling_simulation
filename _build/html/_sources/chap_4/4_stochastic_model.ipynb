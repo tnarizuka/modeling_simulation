{
 "cells": [
  {
   "attachments": {},
   "cell_type": "markdown",
   "metadata": {},
   "source": [
    "# 確率モデル"
   ]
  },
  {
   "cell_type": "code",
   "execution_count": 4,
   "metadata": {},
   "outputs": [],
   "source": [
    "import numpy as np\n",
    "import matplotlib.pyplot as plt\n",
    "from mpl_toolkits.mplot3d import Axes3D\n",
    "import pandas as pd\n",
    "import scipy as sp\n",
    "from scipy.stats import bernoulli, norm, poisson, expon\n",
    "\n",
    "# 日本語フォントの設定（Mac:'Hiragino Sans', Windows:'MS Gothic'）\n",
    "plt.rcParams['font.family'] = 'Hiragino Sans'"
   ]
  },
  {
   "attachments": {},
   "cell_type": "markdown",
   "metadata": {},
   "source": [
    "本章の内容は，文献{cite}`Odaka2018, TokyoUniv2019` を参考にしている．"
   ]
  },
  {
   "attachments": {},
   "cell_type": "markdown",
   "metadata": {},
   "source": [
    "<!-- ## 確率モデルとは？ -->\n",
    "\n",
    "確率モデルとは，数理モデルの変数が確率変数となっているモデルであり，自然現象から社会現象まで様々な現象の記述に用いられる．\n",
    "例えば，コイン投げは，表と裏が一定の確率で出るという数理モデルで記述でき，これは最も基本的な確率モデルである．\n",
    "また，株価の変動は，毎時刻ごとに株価の上がり幅と下がり幅が確率的に決まるようなモデル（ランダムウォーク）によって記述することができる．\n",
    "本章では，確率モデルをシミュレーションする際に必要な乱数について述べた後，確率モデルにおいて重要な大数の法則と中心極限定理，そしてランダムウォークについて説明する．\n"
   ]
  },
  {
   "attachments": {},
   "cell_type": "markdown",
   "metadata": {},
   "source": [
    "## 乱数の生成\n",
    "\n",
    "ある数列が与えられたとき，数の並び方に規則性や周期性がない場合，この数列の各要素を**乱数**と呼ぶ．\n",
    "乱数を生成するにはいくつかの方法がある．\n",
    "例えば，サイコロを振って出た目を記録するだけでも，1〜6の数値から成る乱数を生成することができる．\n",
    "また，カオスや量子力学などのランダムな物理現象を利用した乱数は**物理乱数**と呼ばれ，規則性や周期性がない真の乱数として研究されている．\n",
    "\n",
    "一方，コンピュータ上でアルゴリズムにしたがって乱数を生成する方法もある．\n",
    "このように生成された乱数は**疑似乱数**と呼ばれる．\n",
    "疑似乱数はアルゴリズムが分かれば値を予測することができてしまうが，シミュレーションのためには逆にこの性質が長所となる．\n",
    "また，アルゴリズム次第で十分にランダムに見える値を高速に生成することができることも長所である．\n",
    "一方，疑似乱数には，ある種の周期性が現れてしまうという欠点があるため，これを解決するための様々なアルゴリズムが提案されている．"
   ]
  },
  {
   "attachments": {},
   "cell_type": "markdown",
   "metadata": {},
   "source": [
    "### 一様乱数"
   ]
  },
  {
   "attachments": {},
   "cell_type": "markdown",
   "metadata": {},
   "source": [
    "乱数の中で最も基本的なものは，ある範囲の値が同じ確率で出現する**一様乱数**である．\n",
    "一様乱数は，一様分布に従う確率変数の実現値と捉えることができ，様々な確率モデルの構築に用いられる．"
   ]
  },
  {
   "attachments": {},
   "cell_type": "markdown",
   "metadata": {},
   "source": [
    "#### 線形合同法\n",
    "\n",
    "一様乱数を生成するアルゴリズムの中で，最も基本的なものが**線形合同法**である．\n",
    "線形合同法にはいくつかの問題があるため，精度が求められる大規模なシミュレーションには使われないが，手軽に乱数を生成したりアルゴリズムの基礎を理解するためには便利である．"
   ]
  },
  {
   "attachments": {},
   "cell_type": "markdown",
   "metadata": {},
   "source": [
    "```{admonition} 線形合同法のアルゴリズム\n",
    "1. 以下の条件を満たす整数 $ a, b, M $ を決める：\n",
    "   \n",
    "   $$\n",
    "    0 < a < M\\\\\n",
    "    0 \\leq b < M\n",
    "   $$\n",
    "   \n",
    "2. 乱数列の初期値 $ x_0 $ を決める（乱数の**シード**と呼ぶ）．\n",
    "3. 以下の漸化式によって乱数列 $ \\{x_n\\} $ を生成する：\n",
    "    \n",
    "    $$\n",
    "    x_{n+1} = (ax_{n} + b) \\% M\n",
    "    $$\n",
    "    \n",
    "    ここで，$ \\% $ は剰余を表す．\n",
    "\n",
    "```\n",
    "\n",
    "以上のアルゴリズムを用いると，$ 0 $ 以上 $ M-1 $ 以下の乱数列を得ることができる．\n",
    "また，$ a, b, M $ がいくつかの条件を満たすと，最大周期が $ M $ となることが知られている {cite}`TokyoUniv2019`．\n",
    "よって，良い乱数を生成するためには，条件を満たした上で $ M $ が大きい方が良い．\n",
    "例えば，$ M=2^{32},\\ a=1664525,\\ b=1013904223 $ の場合には，最大周期が $ 2^{32} $ となる．"
   ]
  },
  {
   "attachments": {},
   "cell_type": "markdown",
   "metadata": {},
   "source": [
    "**Pythonでの実装**"
   ]
  },
  {
   "attachments": {},
   "cell_type": "markdown",
   "metadata": {},
   "source": [
    "まず，アルゴリズムに従って素朴に実装すると以下のようになる．"
   ]
  },
  {
   "cell_type": "code",
   "execution_count": 73,
   "metadata": {},
   "outputs": [
    {
     "name": "stdout",
     "output_type": "stream",
     "text": [
      "[         0 1013904223 1196435762 3519870697 2868466484 1649599747\n",
      " 2670642822 1476291629 2748932008 2180890343 2498801434]\n"
     ]
    }
   ],
   "source": [
    "a, b, M = 1664525, 1013904223, 2**32\n",
    "\n",
    "X = np.array([0])\n",
    "for i in range(10):\n",
    "    X = np.append(X, (a*X[i] + b) % M)\n",
    "print(X)"
   ]
  },
  {
   "attachments": {},
   "cell_type": "markdown",
   "metadata": {},
   "source": [
    "次に，$ x_{\\mathrm{min}} $ 以上 $ x_{\\mathrm{max}} $ 以下の一様乱数を生成する汎用的な関数を作成する．"
   ]
  },
  {
   "cell_type": "code",
   "execution_count": 56,
   "metadata": {},
   "outputs": [],
   "source": [
    "# 線形合同法により[0, 1)の一様乱数を生成する\n",
    "def lcg(seed=0, size=100, xmin=0, xmax=1):\n",
    "    a, b, M = 1664525, 1013904223, 2**32\n",
    "\n",
    "    X = np.array([seed])\n",
    "    for i in range(size-1):\n",
    "        X = np.append(X, (a*X[i] + b) % M)\n",
    "\n",
    "    return xmin + (xmax - xmin) * X / M"
   ]
  },
  {
   "cell_type": "code",
   "execution_count": 66,
   "metadata": {},
   "outputs": [],
   "source": [
    "R = lcg(seed=10, size=1000, xmin=0, xmax=100)"
   ]
  },
  {
   "cell_type": "code",
   "execution_count": 70,
   "metadata": {},
   "outputs": [
    {
     "data": {
      "image/png": "[encoded data removed]",
      "text/plain": [
       "<Figure size 300x300 with 1 Axes>"
      ]
     },
     "metadata": {},
     "output_type": "display_data"
    }
   ],
   "source": [
    "# 乱数列の相関を調べる\n",
    "R2 = R.reshape(-1, 2)\n",
    "fig, ax = plt.subplots(figsize=(3, 3))\n",
    "ax.scatter(R2[:, 0], R2[:, 1], s=10);"
   ]
  },
  {
   "attachments": {},
   "cell_type": "markdown",
   "metadata": {},
   "source": [
    "#### より精度の高い一様乱数生成アルゴリズム\n",
    "\n",
    "Pythonでは，高速で長い周期を持つ一様乱数を生成するために，[メルセンヌ・ツイスタ](http://www.math.sci.hiroshima-u.ac.jp/m-mat/TEACH/ichimura-sho-koen.pdf)と呼ばれるアルゴリズムが採用されている．\n",
    "特に，Numpyなどで用いられているのは周期が $ 2^{19937}-1 $ であるMT19937というアルゴリズムである．"
   ]
  },
  {
   "attachments": {},
   "cell_type": "markdown",
   "metadata": {},
   "source": [
    "### 任意の確率分布に従う乱数"
   ]
  },
  {
   "attachments": {},
   "cell_type": "markdown",
   "metadata": {},
   "source": [
    "#### 逆関数法"
   ]
  },
  {
   "attachments": {},
   "cell_type": "markdown",
   "metadata": {},
   "source": [
    "ある確率分布に従う乱数を生成したいとする．\n",
    "いま，求めたい確率分布の累積分布関数を $ F(x) $ とし，その逆関数逆関数 $ F^{-1} $ が計算できるとする．\n",
    "このとき，$ [0, 1) $ の一様乱数 $ U $ に対し， $ F^{-1}(U) $ を計算すれば，これが求めたい確率分布に従う乱数となる．\n",
    "\n",
    "以上の手続きを**逆関数法**と呼ぶ．\n",
    "逆関数法は，累積分布関数の逆関数が求まるような確率分布であれば，どのような確率分布にも適用することができる．"
   ]
  },
  {
   "attachments": {},
   "cell_type": "markdown",
   "metadata": {},
   "source": [
    "```{admonition} 逆関数法の証明\n",
    ":class: dropdown\n",
    "\n",
    "$ [0, 1] $ の範囲の一様乱数を $ U $ とすると，累積分布関数は\n",
    "\n",
    "$$\n",
    "    P(U \\leq u) = u\n",
    "$$\n",
    "\n",
    "と表される．\n",
    "ここで，求めたい確率分布の累積分布関数を $ F(x) $ とし，その逆関数 $ F^{-1} $ が求まったとする．\n",
    "このとき，上の式は\n",
    "\n",
    "$$\n",
    "    P(F^{-1}(U) \\leq F^{-1}(u)) = u\n",
    "$$\n",
    "\n",
    "と変形できる．\n",
    "よって，$ F^{-1}(u) = x $ と変数変換すれば，$ u = F(x) $ であるので，\n",
    "\n",
    "$$\n",
    "    P(F^{-1}(U) \\leq x) = F(x)\n",
    "$$\n",
    "\n",
    "を得る．\n",
    "以上より，一様乱数 $ U $ に対して，新たな確率変数を $ X=F^{-1}(U) $ と定義すると，$ X $ は求めたい確率分布 $ F(x) $ に従う．\n",
    "```"
   ]
  },
  {
   "attachments": {},
   "cell_type": "markdown",
   "metadata": {},
   "source": [
    "**例）指数分布**\n",
    "\n",
    "指数分布は，確率密度関数以下のように与えられる：\n",
    "\n",
    "$$\n",
    "    f(x) = \\frac{1}{\\lambda} e^{-\\frac{x}{\\lambda}}\n",
    "$$\n",
    "\n",
    "よって，その累積分布関数は\n",
    "\n",
    "$$\n",
    "    F(x) = \\int_{0}^{x}\\frac{1}{\\lambda} e^{-\\frac{x}{\\lambda}} dx = 1 - e^{-\\frac{x}{\\lambda}}\n",
    "$$\n",
    "\n",
    "となり，その逆関数は $ F(x)=u $ と置くと，\n",
    "\n",
    "$$\n",
    "    F^{-1}(u) = -\\lambda \\log(1-u)  \n",
    "$$\n",
    "\n",
    "と求まる．\n",
    "これより，[0, 1)の一様乱数 $ u $ に対して，$ -\\lambda \\log(1-u) $ は指数分布に従うことが分かる．"
   ]
  },
  {
   "attachments": {},
   "cell_type": "markdown",
   "metadata": {},
   "source": [
    "以下は，線形合同法を用いて生成した一様乱数から指数乱数を生成する例である．"
   ]
  },
  {
   "cell_type": "code",
   "execution_count": 71,
   "metadata": {},
   "outputs": [],
   "source": [
    "# 線形合同法で[0, 1)の一様乱数を生成する\n",
    "R_u = lcg(seed=10, size=1000, xmin=0, xmax=1)\n",
    "\n",
    "# 逆関数法で指数乱数に変換する\n",
    "lmd = 1\n",
    "R_exp = -lmd*np.log(1-R_u)"
   ]
  },
  {
   "cell_type": "code",
   "execution_count": 72,
   "metadata": {},
   "outputs": [
    {
     "data": {
      "image/png": "[encoded data removed]",
      "text/plain": [
       "<Figure size 350x300 with 1 Axes>"
      ]
     },
     "metadata": {},
     "output_type": "display_data"
    }
   ],
   "source": [
    "# ヒストグラムの描画\n",
    "fig, ax = plt.subplots()\n",
    "ret = ax.hist(R_exp, bins=50, density=1, color='c', edgecolor='w')\n",
    "\n",
    "# パラメータlmdの指数分布の描画\n",
    "x = np.linspace(0, 10, 100)\n",
    "ax.plot(x, expon.pdf(x, scale=lmd), 'r-');"
   ]
  },
  {
   "attachments": {},
   "cell_type": "markdown",
   "metadata": {},
   "source": [
    "### ボックスミュラー法（正規分布）\n",
    "\n",
    "正規分布の場合は，中心極限定理（後述）を用いた方法やボックス・ミュラー法が知られている．\n",
    "ボックスミュラー法は，$ [0, 1) $ の一様乱数 $ U_{1},\\ U_{2} $ から標準正規分布に従う正規乱数 $ Z_{1},\\ Z_{2} $ を生成することができる．\n",
    "\n",
    "```{admonition} ボックスミュラー法のアルゴリズム\n",
    "1. $ [0, 1) $ の一様乱数 $ U_1, U_2 $ を生成する．\n",
    "2. 以下の式で一様乱数を変換する：\n",
    "\n",
    "    \\begin{align*}\n",
    "    Z_1 &= \\sqrt{-2 \\log U_1} \\cos(2 \\pi U_2)\\\\\n",
    "    Z_2 &= \\sqrt{-2 \\log U_1} \\sin(2 \\pi U_2)\n",
    "    \\end{align*}\n",
    "\n",
    "```"
   ]
  },
  {
   "attachments": {},
   "cell_type": "markdown",
   "metadata": {},
   "source": [
    "#### 複雑な確率分布の場合\n",
    "\n",
    "逆関数法は累積分布関数の逆関数が求まる場合にしか適用できなかったが，どんな確率分布にも適用できる方法として，[棄却法](https://en.wikipedia.org/wiki/Rejection_sampling)がある．\n",
    "また，マルコフ連鎖に基づいて任意の確率分布に従う乱数を生成するマルコフ連鎖モンテカルロ法（MCMC）は，主にベイズ推定を始めとして様々な分野で用いられている．"
   ]
  },
  {
   "attachments": {},
   "cell_type": "markdown",
   "metadata": {},
   "source": [
    "<!-- ## 大数の法則と中心極限定理\n",
    "\n",
    "### ベルヌーイ試行\n",
    "\n",
    "### 二項分布\n",
    "\n",
    "### 大数の法則\n",
    "\n",
    "### 中心極限定理\n",
    "\n",
    "## ランダムウォーク -->"
   ]
  }
 ],
 "metadata": {
  "kernelspec": {
   "display_name": "myenv",
   "language": "python",
   "name": "python3"
  },
  "language_info": {
   "codemirror_mode": {
    "name": "ipython",
    "version": 3
   },
   "file_extension": ".py",
   "mimetype": "text/x-python",
   "name": "python",
   "nbconvert_exporter": "python",
   "pygments_lexer": "ipython3",
   "version": "3.9.13"
  },
  "orig_nbformat": 4,
  "vscode": {
   "interpreter": {
    "hash": "911fd4aa1eca4252368dc27db61226a38a6cfe922f9bbc90c7d50e9c97ede316"
   }
  }
 },
 "nbformat": 4,
 "nbformat_minor": 2
}
