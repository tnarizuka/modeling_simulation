{
 "cells": [
  {
   "attachments": {},
   "cell_type": "markdown",
   "metadata": {},
   "source": [
    "# 微分方程式モデル"
   ]
  },
  {
   "cell_type": "code",
   "execution_count": 16,
   "metadata": {},
   "outputs": [],
   "source": [
    "import numpy as np\n",
    "import matplotlib.pyplot as plt\n",
    "import pandas as pd\n",
    "import scipy as sp\n",
    "from scipy.integrate import odeint, solve_ivp\n",
    "from scipy.optimize import curve_fit\n",
    "\n",
    "# 日本語フォントの設定（Mac:'Hiragino Sans', Windows:'MS Gothic'）\n",
    "plt.rcParams['font.family'] = 'Hiragino Sans'"
   ]
  },
  {
   "attachments": {},
   "cell_type": "markdown",
   "metadata": {},
   "source": [
    "本章の内容は，文献{cite}`Kawamura2021,Endo2017,Odaka2018,Hashimoto2021` を主に参考にしている．"
   ]
  },
  {
   "attachments": {},
   "cell_type": "markdown",
   "metadata": {},
   "source": [
    "## 微分方程式とは？"
   ]
  },
  {
   "attachments": {},
   "cell_type": "markdown",
   "metadata": {},
   "source": [
    "### 微分方程式の定義\n",
    "\n",
    "独立変数を $ t $，$ t $に伴って決まる従属変数を $ x(t) $ とする．\n",
    "このとき，$ x $ の $ t $ による微分を含む方程式を**微分方程式**と呼ぶ．\n",
    "例えば，以下は微分方程式の例である：\n",
    "\n",
    "\\begin{align*}\n",
    "    \\frac{dx}{dt} &= 2t \\\\[10pt]\n",
    "    m\\frac{d^2x}{dt^2} &= -mg-k\\left(\\frac{dx}{dt}\\right)^2 \\\\\n",
    "\\end{align*}\n",
    "\n",
    "微分方程式は高階の微分を含んでもよく，最も高次の微分の次数は**微分方程式の階数**と呼ばれる．\n",
    "また，$ x $ と $ x $ の微分が全て1次式である場合を**線形微分方程式**，それ以外を**非線形微分方程式**と呼ぶ．\n",
    "例えば，上の式は，線形の1階微分方程式と非線形の2階微分方程式である．\n",
    "なお，微分方程式には，独立変数が1つである**常微分方程式**と独立変数が複数ある**偏微分方程式**があるが，本章では常微分方程式のみを扱う．\n",
    "\n",
    "微分方程式は2次方程式や連立方程式のように解を求めることができる．\n",
    "微分方程式において解を求めるとは，与えられた微分方程式を満たすような関数 $ x(t) $ を求めることを指し，これを**微分方程式を解く**という．\n",
    "\n",
    "微分方程式が与えられたときにその解を求める方法は主に２種類存在する．\n",
    "１つ目は式変形を行って解く方法で，これを**解析的に解く**という．\n",
    "一般に，微分方程式が与えられたときにそれを解析的に解くのは困難であることが多く，非線形の微分方程式や偏微分方程式の場合は特に難しい．\n",
    "そこで，このような場合には２つ目の方法として，微分方程式を離散化してコンピュータ等で解を求める方法がある．\n",
    "これを**数値的に解く**という．\n",
    "数値解には必ず誤差が含まれるため，誤差を小さくするための様々なアルゴリズムが提案されている．\n",
    "\n",
    "以下では解析的に解ける微分方程式の例をいくつか紹介する．\n",
    "また，Pythonを使って微分方程式を数値的に解く方法についても紹介する．"
   ]
  },
  {
   "attachments": {},
   "cell_type": "markdown",
   "metadata": {},
   "source": [
    "### 簡単な微分方程式\n",
    "\n",
    "$ t $ が時刻，$ x(t) $ が時刻$ t $の物体の位置を表すとすると，物体の速度 $ v $ は $ v = \\frac{dx}{dt} $ で与えられる．\n",
    "いま，速度が一定値 $ v_{0} $ であると仮定すると，\n",
    "\n",
    "$$\n",
    "    \\frac{dx}{dt} = v_{0} \n",
    "$$\n",
    "\n",
    "が成り立つ．\n",
    "これを**等速直線運動**と呼ぶ．\n",
    "これは，物体の運動を表す最も簡単な微分方程式である．\n",
    "この微分方程式の解を求めるには，両辺を $ t $ で積分すれば良い：\n",
    "\n",
    "$$\n",
    "    \\int \\frac{dx}{dt} dt = \\int v_{0} dt \\\\[10pt]\n",
    "    x(t) = v_{0} t + C\n",
    "$$\n",
    "\n",
    "ここで，$ C $ は積分定数であるが，$ t=0 $ の位置を $ x(0)=x_{0} $ とすると，$ C=x_{0} $ となる．\n",
    "よって，微分方程式の解は，\n",
    "\n",
    "$$\n",
    "    x(t) = v_{0} t + x_{0}\n",
    "$$\n",
    "\n",
    "と表される．\n",
    "このように，$ v_{0},\\ x_{0} $ のような未知定数を含む解を**一般解**と呼ぶ．\n",
    "一方，初期位置が $ x_{0}=0 $，初速が $ 2 $ m/s であるとすると，$ x(t)=2t $ となる．\n",
    "このように，未知定数に具体的な値を代入して得られる解を**特殊解**と呼ぶ．\n",
    "<!-- 以上のように，時間 $ t $ を独立変数とする微分方程式に対し，$ t=0 $ のときの条件（**初期条件**）を用いて解を求めることを**初期値問題**と呼ぶ． -->"
   ]
  },
  {
   "attachments": {},
   "cell_type": "markdown",
   "metadata": {},
   "source": [
    "## 人口の増加\n",
    "\n",
    "個体数の増減という問題は，実社会から自然界まで幅広く存在する．\n",
    "例えば，実社会において，今後数十年で人口がどのように増減するかを予測することは，国家レベルで議論するべき大問題である．\n",
    "また，自然界においても，様々な生物種の個体数がどのように増減するか分かれば，食物連鎖のダイナミクスを理解したり，獣害に関する対策を立てたりするのに役立つ．\n",
    "個体数の増減は，微分方程式で記述される現象の典型例であり，微分方程式の基礎を理解するのにも適した問題である．\n",
    "以下では，個体数の増減に関する微分方程式のうち，いくつかの基本的な例を紹介する．"
   ]
  },
  {
   "attachments": {},
   "cell_type": "markdown",
   "metadata": {},
   "source": [
    "### マルサスモデル\n",
    "\n",
    "時刻 $ t $ におけるある国の総人口を $ N(t) $ とすると，人口の増加率は $ dN(t)/dt $ と表される．\n",
    "経済学者のマルサス（Thomas Robert Malthus）は，人口の増加率がそのときの人口に比例すると考え，以下のようなモデルを提案した：\n",
    "\n",
    "$$\n",
    "\t\\frac{dN}{dt} = \\alpha N(t)\n",
    "$$\n",
    "\n",
    "この式は1階微分方程式であり，**マルサスモデル**と呼ばれる．"
   ]
  },
  {
   "attachments": {},
   "cell_type": "markdown",
   "metadata": {},
   "source": [
    "マルサスモデルは，以下のように独立変数 $ t $ と従属変数 $ N(t) $ を左辺と右辺に分離することができる：\n",
    "\n",
    "$$\n",
    "\t\\frac{1}{N} dN = \\alpha dt\n",
    "$$\n",
    "\n",
    "このような変数の分離が可能な微分方程式は，**変数分離形**と呼ばれ，変数分離することで積分が可能となる．\n",
    "実際に両辺を不定積分すると，\n",
    "\n",
    "$$\n",
    "\t\\ln N = \\alpha t + C\n",
    "$$\n",
    "\n",
    "より\n",
    "\n",
    "$$\n",
    "\tN(t) = \\mathrm{e}^{\\alpha t + C}\n",
    "$$\n",
    "\n",
    "となる．\n",
    "また，$ N(t) $ の初期条件を $ t=0 $ で $ N(0)=N_{0} $ とすると\n",
    "\n",
    "$$\n",
    "\tN(0) = \\mathrm{e}^{C} = N_{0}\n",
    "$$\n",
    "\n",
    "となるので，一般解は\n",
    "\n",
    "$$\n",
    "\tN(t) = N_{0} \\mathrm{e}^{\\alpha t}\n",
    "$$\n",
    "\n",
    "となる．\n",
    "\n",
    "マルサスモデルの解は $ N(t) $ が $ t $ の関数として表されているので，初期時刻での人口 $ N_{0} $ を与えれば，その後の任意の時刻において人口を予測できる．\n",
    "特に，人口が指数関数的に際限なく増加するというのがマルサスモデルの特徴である．\n",
    "なお，$ \\alpha < 0 $ の場合には指数関数的な減少を表すことになる．\n",
    "この場合のモデルは，放射性元素の崩壊や，ある種の病気の感染者数の減少などに適用できる．"
   ]
  },
  {
   "attachments": {},
   "cell_type": "markdown",
   "metadata": {},
   "source": [
    "### ロジスティックモデル\n",
    "\n",
    "マルサスモデルでは，指数関数的な増加がいつまでも続くが，人口が増えすぎると食料資源の不足や環境的要因などによって人口の増加を抑制する効果がはたらくのが自然である．\n",
    "このような考察から，より現実に即したモデルとしてVerhulstによって導入されたのが以下の微分方程式である：\n",
    "\n",
    "$$\n",
    "\t\\frac{dN}{dt} = \\gamma \\left(1 - \\frac{N(t)}{N_{\\infty}}\\right)N(t)\n",
    "$$\n",
    "\n",
    "これは**ロジスティックモデル**と呼ばれる．\n",
    "ここで，$ \\gamma,\\ N_{\\infty} $ は定数である．\n",
    "ロジスティックモデルは，マルサスモデルの $ \\alpha $ を以下のように置き換えた形になっている：\n",
    "\n",
    "$$\n",
    "\t\\alpha \\rightarrow \\gamma \\left(1 - \\frac{N(t)}{N_{\\infty}}\\right)\n",
    "$$\n",
    "\n",
    "ロジスティックモデルは右辺が非線形な関数となっているが，これも変数分離形なのでマルサスモデルと同じように解くことができる．\n",
    "まず，式を以下のように変形する：\n",
    "\n",
    "$$\n",
    "\t\\int \\frac{dN}{N(1 - N/N_{\\infty})} = \\int \\gamma dt\n",
    "$$\n",
    "\n",
    "ここで，左辺の被積分変数を部分分数分解すると，\n",
    "\n",
    "$$\n",
    "\t\\int \\left[\\frac{1}{N} - \\frac{1/N_{\\infty}}{(1-N/N_{\\infty})}\\right]dN = \\int \\gamma dt\n",
    "$$\n",
    "\n",
    "となる．\n",
    "これより，両辺を不定積分することができて，\n",
    "\n",
    "\\begin{align*}\n",
    "\t\\ln \\left(\\frac{N}{1-N/N_{\\infty}}\\right) &= \\gamma t + C\n",
    "\\end{align*}\n",
    "\n",
    "となる．\n",
    "さらに，初期条件として　$ t=0 $　で　$ N(0)=N_{0} $　とすれば，最終的に\n",
    "\n",
    "$$\n",
    "\tN(t) = \\frac{N_{\\infty}}{1+[(N_{\\infty}/N_{0})-1]\\mathrm{e}^{-\\gamma t}}\n",
    "$$\n",
    "\n",
    "という一般解を得る．"
   ]
  },
  {
   "attachments": {},
   "cell_type": "markdown",
   "metadata": {},
   "source": [
    "得られた一般解は**シグモイド関数**と呼ばれ，下図のような時間変化となる．\n",
    "初期の個体数が $ N_{0} < N_{\\infty} $ を満たす場合には，最初は指数関数的な増加を示すが，次第に増加率が小さくなっていき，最終的には $ N_{\\infty} $ に収束する．\n",
    "この意味で，$ N_{\\infty} $ は人口の上限を表す定数であることが分かる．\n",
    "一方，$ N_{0} > N_{\\infty} $ の場合には指数関数的な減少を示すが，この場合にも最終的には $ N_{\\infty} $ へと収束する．\n",
    "\n",
    "なお，実社会における人口の増加はマルサスモデルよりもロジスティックモデルに近いふるまいをするが，完璧に記述できるわけではない．\n",
    "それでも，微生物などの場合には，環境をコントロールした実験によって，その増殖の仕方がロジスティックモデルによく従うことが分かっている．\n",
    "また，感染症のモデルとして知られるSIモデル（未感染者が感染者と接触すると一定の確率で感染するモデル）は感染者数がロジスティックモデルに従う．\n",
    "さらに，家電の普及率など，近似的にロジスティックモデルで記述できる現象は多い．\n",
    "\n",
    "生物集団における個体数変化のモデルをより現実に近づけるためには，多数の生物種の間の捕食・被食関係を考慮する方法が考えられる．\n",
    "このようなモデルの中で単純なものとして，2種の生物間の相互作用を考慮した**ロトカ・ヴォルテラモデル**が知られている．"
   ]
  },
  {
   "cell_type": "code",
   "execution_count": 9,
   "metadata": {},
   "outputs": [
    {
     "data": {
      "image/png": "[encoded data removed]",
      "text/plain": [
       "<Figure size 400x300 with 1 Axes>"
      ]
     },
     "metadata": {
      "filenames": {
       "image/png": "/Users/narizuka/work/document/lecture/rissho/modeling_simulation/book/_build/jupyter_execute/chap_5/5_diff_eq_11_0.png"
      }
     },
     "output_type": "display_data"
    }
   ],
   "source": [
    "def f_logistic(t, N0, N_max, gamma):\n",
    "    return N_max*(1+(N_max/N0 - 1)*np.exp(-np.clip(gamma*t, -709, 100000)))**(-1)\n",
    "\n",
    "fig, ax = plt.subplots(figsize=(4, 3))\n",
    "t = np.arange(200)\n",
    "ax.plot(t, f_logistic(t, 10, 1000, 0.05), 'r-')\n",
    "ax.plot(t, f_logistic(t, 1500, 1000, 0.05), 'b-')\n",
    "\n",
    "ax.set_xlim(0, 200), ax.set_ylim(0, 1500); \n",
    "ax.set_xlabel('$t$', fontsize=15)\n",
    "ax.set_ylabel('$N(t)$', fontsize=15);"
   ]
  },
  {
   "cell_type": "markdown",
   "metadata": {},
   "source": [
    "改めて，韓国における新型コロナウイルス感染者数の推移データ（[covid19_korea.csv](https://drive.google.com/uc?export=download&id=14l9chvX4PqHMQQl2yTQTPm7J7S5Us6Xz)）を調べてみよう．\n",
    "このデータを読み込み，横軸に2020年1月22日を0日とした経過日数，縦軸に感染者数を取った散布図を50日目までと100日目までに分けて描くと，いずれもシグモイド関数のような変化となる．\n",
    "そこで，$ N_{0},\\ N_{\\infty}, \\gamma $ をフィッティングパラメータとして最小二乗法でフィッティングを行うと，以下のような結果が得られる．\n",
    "50日目まではほぼシグモイド関数に従っているが，50日目以降で増加の仕方に変化があり，シグモイド関数からのズレが見られることが分かる．\n",
    "\n",
    "※ 本データの出典：[John Hopkins CSSE](https://github.com/CSSEGISandData/COVID-19/tree/master/csse_covid_19_data/csse_covid_19_time_series)"
   ]
  },
  {
   "cell_type": "code",
   "execution_count": 65,
   "metadata": {},
   "outputs": [],
   "source": [
    "# シグモイド関数の定義\n",
    "def f_logistic(t, N0, N_inf, gamma): \n",
    "    return N_inf * (1+(N_inf/N0-1)*np.exp(-np.clip(gamma*t, -709, 100000)))**(-1)"
   ]
  },
  {
   "cell_type": "code",
   "execution_count": 67,
   "metadata": {},
   "outputs": [
    {
     "name": "stdout",
     "output_type": "stream",
     "text": [
      "[6.44366481e-03 7.94804311e+03 3.55899263e-01]\n",
      "[4.72320355e+00 1.01973809e+04 1.79595109e-01]\n"
     ]
    },
    {
     "data": {
      "image/png": "[encoded data removed]",
      "text/plain": [
       "<Figure size 500x400 with 1 Axes>"
      ]
     },
     "metadata": {
      "filenames": {
       "image/png": "/Users/narizuka/work/document/lecture/rissho/modeling_simulation/book/_build/jupyter_execute/chap_5/5_diff_eq_14_1.png"
      }
     },
     "output_type": "display_data"
    }
   ],
   "source": [
    "# データの読み込み\n",
    "data = pd.read_csv('./covid19_korea.csv', header=0)\n",
    "\n",
    "fig, ax = plt.subplots(figsize=(5, 4))\n",
    "ax.plot(data.index[:100], data['num'][:100], 'x', ms=4)\n",
    "\n",
    "for tmax in [50, 100]:\n",
    "    t, Nt = data.index[:tmax], data['num'][:tmax] \n",
    "    p_opt = curve_fit(f_logistic, t, Nt)[0]\n",
    "    print(p_opt)\n",
    "    ax.plot(t, f_logistic(t, p_opt[0], p_opt[1], p_opt[2]), '-', lw=2, label='%s日まで' % tmax)\n",
    "\n",
    "ax.set_xlim(0, 100), ax.set_ylim(0, 11000)\n",
    "ax.set_xlabel('time (day)', fontsize=15); ax.set_ylabel('Number of infected', fontsize=15)\n",
    "ax.legend(loc='upper left', fontsize=12);"
   ]
  },
  {
   "attachments": {},
   "cell_type": "markdown",
   "metadata": {},
   "source": [
    "## 微分方程式の数値計算"
   ]
  },
  {
   "attachments": {},
   "cell_type": "markdown",
   "metadata": {},
   "source": [
    "### オイラー法による数値計算"
   ]
  },
  {
   "attachments": {},
   "cell_type": "markdown",
   "metadata": {},
   "source": [
    "マルサスモデルは解析的に解くことができた．\n",
    "ここでは，この微分方程式をコンピュータで数値的に解く方法を考えてみよう．\n",
    "まず，微分方程式をコンピュータで扱う際には微分の計算\n",
    "\n",
    "$$\n",
    "    \\frac{dN}{dt} = \\lim_{\\Delta t \\to 0} \\frac{N(t+\\Delta t) - N(t)}{\\Delta t}\n",
    "$$\n",
    "\n",
    "を行う必要があるが，コンピュータ上で $ \\Delta t $ を厳密に0にすることはできない．\n",
    "しかし，$ \\Delta t $ を十分に小さくとれば，微分の近似値として十分に精度の高い値を得ることができるだろう．\n",
    "そこで，マルサスモデルを以下のように変形する：\n",
    "\n",
    "\\begin{align*}\n",
    "    \\frac{N(t+\\Delta t) - N(t)}{\\Delta t} &= \\alpha N(t) \\\\[10pt]\n",
    "    N(t+\\Delta t) &=  (1 + \\alpha \\Delta t)N(t)\n",
    "\\end{align*}\n",
    "\n",
    "この式は，$ N(t) $ から次の時刻の $ N(t+\\Delta t) $ を求める漸化式と見なすことができる．\n",
    "よって，初期条件 $ N(0) $ から $ N(1) $ を求め，さらに $ N(1) $ から $ N(2) $ を求めていけば，任意の時刻における $ N(t) $ を求めることができる．"
   ]
  },
  {
   "attachments": {},
   "cell_type": "markdown",
   "metadata": {},
   "source": [
    "以上の方法は**オイラー法**と呼ばれる．\n",
    "オイラー法は $ \\Delta t $ を小さくとると精度が向上するが，その分計算量が増えてしまうという欠点がある．\n",
    "しかし，この方法は直感的にも分かりやすく，また，微分方程式の数値計算の基礎となるため，しっかりと理解しておく必要がある．"
   ]
  },
  {
   "attachments": {},
   "cell_type": "markdown",
   "metadata": {},
   "source": [
    "オイラー法は，以下のような任意の１階微分方程式に対して適用できる：\n",
    "\n",
    "\\begin{align*}\n",
    "    \\frac{du}{dt} &= f(t, u(t)) \\\\[10pt]\n",
    "    u(0) &= u_{0}\n",
    "\\end{align*}\n",
    "\n",
    "例えば，マルサスモデルの場合は $ f(t, u(t)) = \\alpha u(t) $ である．\n",
    "<!-- オイラー法をPythonで実装する準備として，この形の微分方程式に対して式を整理しておこう． -->\n",
    "$ \\Delta t $ の間隔に離散化した時刻を $ t_{n} = n\\Delta t $ とし，$ u(t_{n}) = u_{n} $ と表記する．\n",
    "このとき，上の微分方程式は以下のように離散化することができる：\n",
    "\n",
    "\\begin{align*}\n",
    "    \\frac{u(t_{n}+\\Delta t) - u(t_{n})}{\\Delta t} &= f(t_{n}, u(t_{n})) \\\\[10pt]\n",
    "    u_{n+1} &= u_{n} + \\Delta t f(t_{n}, u_{n})\n",
    "\\end{align*}"
   ]
  },
  {
   "cell_type": "code",
   "execution_count": 32,
   "metadata": {},
   "outputs": [],
   "source": [
    "def f(n, u_n):\n",
    "    return 2*u_n\n",
    "\n",
    "Dt = 0.01\n",
    "U = [1]\n",
    "for n in range(1000):\n",
    "    U.append(U[n]+Dt*f(n, U[n]))"
   ]
  },
  {
   "cell_type": "code",
   "execution_count": 33,
   "metadata": {},
   "outputs": [
    {
     "data": {
      "text/plain": [
       "[<matplotlib.lines.Line2D at 0x1c8d3caf0>]"
      ]
     },
     "execution_count": 33,
     "metadata": {},
     "output_type": "execute_result"
    },
    {
     "data": {
      "image/png": "[encoded data removed]",
      "text/plain": [
       "<Figure size 350x300 with 1 Axes>"
      ]
     },
     "metadata": {
      "filenames": {
       "image/png": "/Users/narizuka/work/document/lecture/rissho/modeling_simulation/book/_build/jupyter_execute/chap_5/5_diff_eq_21_1.png"
      }
     },
     "output_type": "display_data"
    }
   ],
   "source": [
    "fig, ax = plt.subplots()\n",
    "t = np.arange(len(U))*Dt\n",
    "ax.plot(t, U)\n",
    "ax.plot(t, np.exp(2*t), 'r-')"
   ]
  },
  {
   "attachments": {},
   "cell_type": "markdown",
   "metadata": {},
   "source": [
    "### Scipy.integrate.solve_ivpによる数値計算"
   ]
  },
  {
   "attachments": {},
   "cell_type": "markdown",
   "metadata": {},
   "source": []
  }
 ],
 "metadata": {
  "kernelspec": {
   "display_name": "myenv",
   "language": "python",
   "name": "python3"
  },
  "language_info": {
   "codemirror_mode": {
    "name": "ipython",
    "version": 3
   },
   "file_extension": ".py",
   "mimetype": "text/x-python",
   "name": "python",
   "nbconvert_exporter": "python",
   "pygments_lexer": "ipython3",
   "version": "3.9.13"
  },
  "vscode": {
   "interpreter": {
    "hash": "911fd4aa1eca4252368dc27db61226a38a6cfe922f9bbc90c7d50e9c97ede316"
   }
  }
 },
 "nbformat": 4,
 "nbformat_minor": 2
}