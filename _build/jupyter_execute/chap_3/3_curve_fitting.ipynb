{
 "cells": [
  {
   "attachments": {},
   "cell_type": "markdown",
   "metadata": {},
   "source": [
    "# カーブフィッティング"
   ]
  },
  {
   "cell_type": "code",
   "execution_count": 1,
   "metadata": {},
   "outputs": [],
   "source": [
    "import numpy as np\n",
    "import matplotlib.pyplot as plt\n",
    "from mpl_toolkits.mplot3d import Axes3D\n",
    "import pandas as pd\n",
    "import scipy as sp\n",
    "from scipy.optimize import curve_fit\n",
    "from scipy.stats import bernoulli, norm, poisson, expon\n",
    "\n",
    "# 日本語フォントの設定（Mac:'Hiragino Sans', Windows:'MS Gothic'）\n",
    "plt.rcParams['font.family'] = 'Hiragino Sans'"
   ]
  },
  {
   "attachments": {},
   "cell_type": "markdown",
   "metadata": {},
   "source": [
    "## カーブフィッティングとは？"
   ]
  },
  {
   "attachments": {},
   "cell_type": "markdown",
   "metadata": {},
   "source": [
    "手元にあるデータをある理論曲線に当てはめることを**カーブフィッティング**と呼ぶ．\n",
    "データ分析では，以下の場面でカーブフィッティングが用いられる：\n",
    "\n",
    "1. 回帰分析\n",
    "   - 複数の変数から成るデータに対して説明変数と目的変数の間の関数関係（理論曲線）を仮定し，パラメータを調整して当てはめる\n",
    "2. 確率分布のパラメータ推定\n",
    "   - 手元のデータから求めたヒストグラムに対して理論的な確率分布を仮定し，そのパラメータを推定する\n",
    "   - 推定したパラメータを用いてヒストグラムに理論分布を当てはめる\n",
    "\n",
    "※ 統計モデルでは，回帰分析における関数関係や理論的な確率分布など，データを当てはめる理論曲線そのものをモデルと呼ぶ．\n",
    "一方，物理モデルでは，理論曲線のことはモデルと呼ばずに，理論曲線を導くための単純化した基礎方程式などをモデルと呼ぶ．"
   ]
  },
  {
   "attachments": {},
   "cell_type": "markdown",
   "metadata": {},
   "source": [
    "## 回帰分析"
   ]
  },
  {
   "attachments": {},
   "cell_type": "markdown",
   "metadata": {},
   "source": [
    "### 回帰モデル\n",
    "\n",
    "データ $ X, Y $ が与えられたとき，変数 $ X,\\ Y $ の間に\n",
    "\n",
    "$$\n",
    "\ty = f(x; \\boldsymbol{\\theta}) + \\varepsilon\n",
    "$$(eq:regression_model)\n",
    "\n",
    "という関数関係が成り立つとする．\n",
    "ここで，$ f(x; \\boldsymbol{\\theta}) $ は変数 $ X $ の関数で $ \\boldsymbol{\\theta} = (\\theta_1, \\theta_2, \\ldots) $ はパラメータである．\n",
    "また，$ \\varepsilon $ は確率的な誤差を表し，特定の確率分布に従うものとする．\n",
    "この式は，与えられたデータ $ x $ に対して $ y $ を生成する数理モデルであり，**回帰モデル**と呼ばれる．\n",
    "また，$ X $ を**説明変数**（独立変数），$ Y $ を**目的変数**（従属変数，被説明変数）と呼ぶ．\n",
    "**回帰分析**とは，回帰モデルを用いて説明変数と目的変数の間の関係を明らかにする手法である．"
   ]
  },
  {
   "attachments": {},
   "cell_type": "markdown",
   "metadata": {},
   "source": [
    "回帰モデルには様々な種類が存在するが，式{eq}`eq:regression_model`のように説明変数が1つだけの場合を**単回帰モデル**，説明変数が複数ある場合を**重回帰モデル**と呼ぶ．\n",
    "また，説明変数の１次関数で表されるモデルを**線形回帰モデル**，非線形な関数の場合を**非線形回帰モデル**と呼ぶ．\n",
    "以下では，単回帰モデルのみを扱う．"
   ]
  },
  {
   "attachments": {},
   "cell_type": "markdown",
   "metadata": {},
   "source": [
    "### 最小二乗法\n",
    "\n",
    "１つの説明変数 $ X $ と目的変数 $ Y $ について $ n $ 組のデータ $ (x_{1}, y_{1}), \\ldots, (x_{n}, y_{n}) $ を取得したとする．\n",
    "このとき，横軸に変数 $ X $，縦軸に変数 $ Y $ を取ったグラフを**散布図**と呼ぶ．\n",
    "散布図に対し，回帰モデル{eq}`eq:regression_model`のパラメータを変化させて理論曲線をうまく当てはめる作業がカーブフィッティングである．\n",
    "カーブフィッティングによって得られた式 $ f(x; \\boldsymbol{\\theta}) $ （**回帰曲線**）にデータの $ x_{i} $ を代入すると回帰モデルによる予測値が得られる．\n",
    "以下では，この予測値をハット $\\hat{}$ を付けて次のように表す：\n",
    "\n",
    "$$\n",
    "\t\\hat{y}_{i} = f(x_{i}; \\boldsymbol{\\theta})\n",
    "$$(eq:regression_curve)\n"
   ]
  },
  {
   "attachments": {},
   "cell_type": "markdown",
   "metadata": {},
   "source": [
    "回帰分析では，最適な曲線を求める手法がいくつか存在するが，最も基本的な手法が**最小二乗法**である．\n",
    "最小二乗法では，回帰モデルによる予測値 $ \\hat{y}_{i}=f(x_{i}; \\boldsymbol{\\theta}) $ と実データ $ y_{i} $ の差（**残差**）の二乗和\n",
    "\n",
    "$$\n",
    "\tE(\\boldsymbol{\\theta}) = \\sum_{i=1}^{n}(\\hat{y}-y_{i})^{2} = \\sum_{i=1}^{n}(f(x_{i}; \\boldsymbol{\\theta})-y_{i})^{2}\n",
    "$$(eq:rss)\n",
    "\n",
    "が最小となるようなパラメータ $ \\boldsymbol{\\theta} = (\\theta_1, \\theta_2, \\ldots) $ を選ぶ．\n",
    "このとき，$ E $ のことを**残差変動**（残差二乗和）と呼ぶ．\n",
    "残差変動 $ E $ を最小にすることは，$ \\theta_1,\\ \\theta_2,\\ \\ldots $ を変数とする関数 $ E(\\boldsymbol{\\theta}) $ の最小値を求めることと言い換えられる．\n",
    "このための必要条件は，残差変動 $ E(\\boldsymbol{\\theta}) $ の $ \\theta_1,\\ \\theta_2,\\ \\ldots $ による偏微分がゼロになることである：\n",
    "\n",
    "$$\n",
    "\t\\frac{\\partial E}{\\partial \\theta_1} = 0, \\quad \\frac{\\partial E}{\\partial \\theta_2} = 0,\\ \\ldots\n",
    "$$(eq:rss_diff)"
   ]
  },
  {
   "attachments": {},
   "cell_type": "markdown",
   "metadata": {},
   "source": [
    "### 線形単回帰モデル\n",
    "\n",
    "#### 理論\n",
    "\n",
    "線形単回帰モデルは\n",
    "\n",
    "\\begin{align}\n",
    " y = ax + b + \\varepsilon\n",
    "\\end{align}\n",
    "\n",
    "で与えられ，残差変動は\n",
    "\n",
    "$$\n",
    "\tE(a, b) = \\sum_{i=1}^{n} (ax_{i}+b - y_{i})^{2}\n",
    "$$\n",
    "\n",
    "と表される．\n",
    "この場合には，最小二乗法による最適なパラメータ $ a,\\ b $ を理論的に求めることができる．\n",
    "実際に条件を適用すると，$ a,\\ b $ を変数とする以下の連立方程式が得られる：\n",
    "\n",
    "\\begin{align*}\n",
    "\t\\sum_{i=1}^{n} (ax_{i}+b-y_{i})x_{i} &= 0 \\\\\n",
    "\t\\sum_{i=1}^{n} (ax_{i}+b-y_{i}) &= 0\n",
    "\\end{align*}\n",
    "\n",
    "この連立方程式を解くと，最適解$ a,\\ b $ は\n",
    "\n",
    "\\begin{align}\n",
    "\ta &=\\frac{\\displaystyle\\left(\\frac{1}{n}\\sum_{i=1}^{n} x_{i}y_{i}\\right) - \\left(\\frac{1}{n} \\sum_{i=1}^{n}x_{i}\\right)\\left(\\frac{1}{n}\\sum_{i=1}^{n}y_{i}\\right)}{\\displaystyle \\left(\\frac{1}{n}\\sum_{i=1}^{n} x_{i}^{2}\\right) -  \\left(\\frac{1}{n}\\sum_{i=1}^{n}x_{i}\\right)^{2}}\n",
    "\t   = \\frac{\\overline{xy}-\\bar{x}\\bar{y}}{\\overline{x^2}-\\bar{x}^2} \\\\[10pt]\n",
    "\tb &= \\left(\\frac{1}{n} \\sum_{i=1}^{n}y_{i}\\right) - a\\left(\\frac{1}{n} \\sum_{i=1}^{n}x_{i}\\right) = \\bar{y} - a \\bar{x}\n",
    "\\end{align}\n",
    "\n",
    "と求まる．\n",
    "なお，傾き $ a $ の式の分子は $ X, Y $ の共分散，分母は $ X $ の分散となっている（相関係数の式に似ているが違う）．\n",
    "よって，傾き $ a $ が正なら正の相関，負なら負の相関，ゼロなら無相関であることが分かる．\n",
    "\n",
    "```{admonition} 分散公式と共分散\n",
    ":class: dropdown\n",
    "$ X $ の分散は以下のように表すことができる：\n",
    "\n",
    "$$\n",
    "\\frac{1}{n} \\sum_{i=1}^{n} (x_{i} - \\bar{x})^{2} \n",
    "    = \\frac{1}{n} \\sum_{i=1}^{n} x_{i}^{2} - \\left(\\frac{1}{n} \\sum_{i=1}^{n}x_{i}\\right)^{2}\n",
    "\t= \\overline{x^2}-\\bar{x}^2\n",
    "$$\n",
    "\n",
    "これを**分散公式**と呼ぶ．\n",
    "また，$ X, Y $ の共分散は分散公式を用いると以下のように表される：\n",
    "\n",
    "$$\n",
    "\t\\frac{1}{n} \\sum_{i=1}^{n}(x_{i}-\\bar{x})(y_{i}-\\bar{y}) = \\overline{xy} - \\bar{x}\\bar{y}\n",
    "$$\n",
    "\n",
    "```"
   ]
  },
  {
   "attachments": {},
   "cell_type": "markdown",
   "metadata": {},
   "source": [
    "#### 決定係数\n",
    "\n",
    "$ n $ 組のデータ $ (x_{1}, y_{1}), \\ldots (x_{n}, y_{n}) $ に対して，データ $ Y $ のばらつきを\n",
    "\n",
    "$$\n",
    "  S_{y}^{2} = \\sum_{i=1}^{n} (y_{i} - \\bar{y})^{2}\n",
    "$$\n",
    "\n",
    "と定義する．\n",
    "これを**全変動**と呼ぶ．\n",
    "また，実データと予測値のズレは残差変動{eq}`eq:rss`によって表される．\n",
    "ここでは，残差変動を\n",
    "\n",
    "$$\n",
    "  \\displaystyle S_{e}^{2} = \\sum_{i=1}^{n} (y_{i} - \\hat{y}_{i})^{2}\n",
    "$$\n",
    "\n",
    "と表す．\n",
    "\n",
    "このとき，回帰直線のデータへの当てはまりの良さを\n",
    "\n",
    "$$\n",
    "\tR^{2} = 1 - \\frac{S_{e}^{2}}{S_{y}^{2}}\n",
    "$$(eq:R2)\n",
    "\n",
    "で定義する．\n",
    "これを**決定係数**と呼ぶ（他の定義もあるので注意）．\n",
    "\n",
    "最小二乗法による線形単回帰分析の場合，決定係数は $ X,\\ Y $ の相関係数の２乗に等しく，その定義域は $ 0 \\leq R^{2} \\leq 1 $ である．\n",
    "よって，以下が成り立つ\n",
    "- 残差変動 $ S_{e}^{2} $ が全変動 $ S_{y}^{2} $ に比べて小さくなると $ R^{2} $ は $ 1 $ に近づく（データへの当てはまりが良い）\n",
    "- 残差変動 $ S_{e}^{2} $ が全変動 $ S_{y}^{2} $ に比べて大きくなると $ R^{2} $ は $ 0 $ に近づく（データへの当てはまりが悪い）\n",
    "\n",
    "※ 予測値 $ \\hat{y} $ が最小二乗法以外の方法によって決められた場合，決定係数が負になることもあり，さらに相関係数の２乗にはならない．"
   ]
  },
  {
   "attachments": {},
   "cell_type": "markdown",
   "metadata": {},
   "source": [
    "#### Pythonによる実装"
   ]
  },
  {
   "attachments": {},
   "cell_type": "markdown",
   "metadata": {},
   "source": [
    "`scipy`には最小二乗法を用いてカーブフィッティングを実行するための `scipy.optimize.curve_fit` 関数が用意されている．\n",
    "まずはこの関数をインポートしておく．"
   ]
  },
  {
   "cell_type": "code",
   "execution_count": 3,
   "metadata": {},
   "outputs": [],
   "source": [
    "from scipy.optimize import curve_fit"
   ]
  },
  {
   "attachments": {},
   "cell_type": "markdown",
   "metadata": {},
   "source": [
    "`curve_fit` 関数を用いたカーブフィッティングは以下の手順に従って行う．"
   ]
  },
  {
   "attachments": {},
   "cell_type": "markdown",
   "metadata": {},
   "source": [
    "**1. フィッティングに用いる関数を定義する**"
   ]
  },
  {
   "cell_type": "code",
   "execution_count": 4,
   "metadata": {},
   "outputs": [],
   "source": [
    "# フィッティング関数の定義\n",
    "def f_linear(x, a, b):\n",
    "    return a*x + b"
   ]
  },
  {
   "attachments": {},
   "cell_type": "markdown",
   "metadata": {},
   "source": [
    "この関数は，第１引数に $ x $ 座標のデータ，第２引数以降にパラメータ $ a, b $ を入力し，出力として $ y $ 座標のデータが得られる．"
   ]
  },
  {
   "attachments": {},
   "cell_type": "markdown",
   "metadata": {},
   "source": [
    "**2. フィッティング対象となる実データを用意する**\n",
    "\n",
    "実データはNumPy配列やPandasのデータフレーム形式で準備する．\n",
    "ここでは，以下のように乱数を用いて生成したデータをcsv形式で一旦保存する．\n",
    "その上で，保存したcsvをPandasのDataFrame形式で読み込み，解析する．"
   ]
  },
  {
   "cell_type": "code",
   "execution_count": 6,
   "metadata": {},
   "outputs": [],
   "source": [
    "# データの作成\n",
    "np.random.seed(1234)\n",
    "x_data = np.linspace(-10, 10, num=100)\n",
    "y_data = f_linear(x_data, 2, 5) + 5.*np.random.randn(x_data.size)\n",
    "data = np.vstack([x_data, y_data]).T\n",
    "\n",
    "# データをcsv形式で保存\n",
    "np.savetxt('./data_linear.csv', data, delimiter=',')"
   ]
  },
  {
   "cell_type": "code",
   "execution_count": 7,
   "metadata": {},
   "outputs": [
    {
     "data": {
      "image/png": "[encoded data removed]",
      "text/plain": [
       "<Figure size 350x300 with 1 Axes>"
      ]
     },
     "metadata": {
      "filenames": {
       "image/png": "/Users/narizuka/work/document/lecture/rissho/modeling_simulation/book/_build/jupyter_execute/chap_3/3_curve_fitting_20_0.png"
      }
     },
     "output_type": "display_data"
    }
   ],
   "source": [
    "# データをDataFrame形式で読み込む\n",
    "data = pd.read_csv('./data_linear.csv', header=None, names=['x', 'y'])\n",
    "\n",
    "# 散布図の描画\n",
    "fig, ax = plt.subplots()\n",
    "ax.plot(data['x'], data['y'], 'ko', mfc='None')\n",
    "ax.set_xlabel('$x$', fontsize=15); ax.set_ylabel('$y$', fontsize=15);"
   ]
  },
  {
   "attachments": {},
   "cell_type": "markdown",
   "metadata": {},
   "source": [
    "**3. フィッティングを実行する**\n",
    "\n",
    "`curve_fit` 関数には，第１引数にフィッティング関数，第２，３引数にデータ，それ以降にオプションを指定する．\n",
    "オプションにはパラメータの初期値 `p0` などを指定することができる．\n",
    "`curve_fit` 関数を実行すると，最小二乗法によって得られた最適なパラメータ（`p_opt`） と共分散（`p_cov`）が戻り値として得られる．"
   ]
  },
  {
   "cell_type": "code",
   "execution_count": 9,
   "metadata": {},
   "outputs": [
    {
     "name": "stdout",
     "output_type": "stream",
     "text": [
      "[1.98277627 5.17556142]\n"
     ]
    }
   ],
   "source": [
    "# フィッティングの実行\n",
    "p_opt, p_cov = curve_fit(f_linear, data['x'], data['y'], p0=[1, 1])\n",
    "print(p_opt)"
   ]
  },
  {
   "attachments": {},
   "cell_type": "markdown",
   "metadata": {},
   "source": [
    "以下は公式から得られた最適解を求めた結果である．\n",
    "確かに，`curve_fit` 関数から求めた値と同じ値が得られていることが分かる．"
   ]
  },
  {
   "cell_type": "code",
   "execution_count": 10,
   "metadata": {},
   "outputs": [
    {
     "name": "stdout",
     "output_type": "stream",
     "text": [
      "1.9827762695911915 5.175561415627182\n"
     ]
    }
   ],
   "source": [
    "# 公式から\n",
    "nume = np.mean(data['x'] * data['y']) - np.mean(data['x']) * np.mean(data['y'])\n",
    "denom = np.mean(data['x']**2) - np.mean(data['x'])**2\n",
    "a = nume / denom\n",
    "b = np.mean(data['y'] - a*data['x'])\n",
    "print(a, b)"
   ]
  },
  {
   "attachments": {},
   "cell_type": "markdown",
   "metadata": {},
   "source": [
    "**4. フィッティング結果を可視化する**"
   ]
  },
  {
   "cell_type": "code",
   "execution_count": 11,
   "metadata": {},
   "outputs": [
    {
     "data": {
      "image/png": "[encoded data removed]",
      "text/plain": [
       "<Figure size 350x300 with 1 Axes>"
      ]
     },
     "metadata": {
      "filenames": {
       "image/png": "/Users/narizuka/work/document/lecture/rissho/modeling_simulation/book/_build/jupyter_execute/chap_3/3_curve_fitting_26_0.png"
      }
     },
     "output_type": "display_data"
    }
   ],
   "source": [
    "fig, ax = plt.subplots()\n",
    "ax.plot(data['x'], data['y'], 'ko', mfc='None')\n",
    "ax.plot(data['x'], f_linear(data['x'], p_opt[0], p_opt[1]), 'r-', mfc='None')\n",
    "ax.set_xlabel('$x$', fontsize=15); ax.set_ylabel('$y$', fontsize=15);"
   ]
  },
  {
   "attachments": {},
   "cell_type": "markdown",
   "metadata": {},
   "source": [
    "**5. 決定係数を求める**"
   ]
  },
  {
   "cell_type": "code",
   "execution_count": 12,
   "metadata": {},
   "outputs": [
    {
     "data": {
      "text/plain": [
       "0.8436624302090605"
      ]
     },
     "execution_count": 12,
     "metadata": {},
     "output_type": "execute_result"
    }
   ],
   "source": [
    "# 決定係数\n",
    "y_reg = f_linear(data['x'], p_opt[0], p_opt[1]) # 回帰直線の値\n",
    "R2 = 1 - np.var(data['y'] - y_reg) / np.var(data['y']) # 決定係数\n",
    "R2"
   ]
  },
  {
   "cell_type": "code",
   "execution_count": 13,
   "metadata": {},
   "outputs": [
    {
     "data": {
      "text/plain": [
       "0.8436624302090606"
      ]
     },
     "execution_count": 13,
     "metadata": {},
     "output_type": "execute_result"
    }
   ],
   "source": [
    "# 相関係数の２乗\n",
    "r_xy = pd.DataFrame(np.c_[data['x'], data['y']]).corr()[0][1] # pandasのcorr()関数で相関係数を計算\n",
    "r_xy**2"
   ]
  },
  {
   "attachments": {},
   "cell_type": "markdown",
   "metadata": {},
   "source": [
    "### 非線形単回帰モデル"
   ]
  },
  {
   "attachments": {},
   "cell_type": "markdown",
   "metadata": {},
   "source": [
    "次に，非線形単回帰モデルを考える．\n",
    "この場合はフィッティング関数に任意の非線形関数 $ f(x; \\boldsymbol{\\theta}) $ を指定することができる．\n",
    "フィッティングの手順は線形単回帰モデルの場合と同様である．"
   ]
  },
  {
   "attachments": {},
   "cell_type": "markdown",
   "metadata": {},
   "source": [
    "**1. フィッティングに用いる関数を定義する**"
   ]
  },
  {
   "cell_type": "code",
   "execution_count": 16,
   "metadata": {},
   "outputs": [],
   "source": [
    "def f_exp(x, a, b, c):\n",
    "    return a * np.exp(-b * x) + c"
   ]
  },
  {
   "attachments": {},
   "cell_type": "markdown",
   "metadata": {},
   "source": [
    "**2. フィッティング対象となる実データを用意する**"
   ]
  },
  {
   "cell_type": "code",
   "execution_count": 17,
   "metadata": {},
   "outputs": [],
   "source": [
    "# データの作成\n",
    "np.random.seed(4321)\n",
    "x_data = np.linspace(0, 4, 50)\n",
    "y_data = f_exp(x_data, 2.5, 1.3, 0.5) + 0.2 * np.random.normal(size=len(x_data))\n",
    "data = np.vstack([x_data, y_data]).T\n",
    "\n",
    "# データをcsv形式で保存\n",
    "np.savetxt('./data_exp.csv', data, delimiter=',')"
   ]
  },
  {
   "cell_type": "code",
   "execution_count": 18,
   "metadata": {},
   "outputs": [
    {
     "data": {
      "image/png": "[encoded data removed]",
      "text/plain": [
       "<Figure size 350x300 with 1 Axes>"
      ]
     },
     "metadata": {
      "filenames": {
       "image/png": "/Users/narizuka/work/document/lecture/rissho/modeling_simulation/book/_build/jupyter_execute/chap_3/3_curve_fitting_36_0.png"
      }
     },
     "output_type": "display_data"
    }
   ],
   "source": [
    "# データをDataFrame形式で読み込む\n",
    "data = pd.read_csv('./data_exp.csv', header=None, names=['x', 'y'])\n",
    "\n",
    "# 散布図の描画\n",
    "fig, ax = plt.subplots()\n",
    "ax.plot(data['x'], data['y'], 'x')\n",
    "ax.set_xlabel('$x$', fontsize=15); ax.set_ylabel('$y$', fontsize=15);"
   ]
  },
  {
   "attachments": {},
   "cell_type": "markdown",
   "metadata": {},
   "source": [
    "**3. フィッティングを実行する**"
   ]
  },
  {
   "cell_type": "code",
   "execution_count": 21,
   "metadata": {},
   "outputs": [
    {
     "name": "stdout",
     "output_type": "stream",
     "text": [
      "[2.59425594 1.28716832 0.44943101]\n"
     ]
    }
   ],
   "source": [
    "# フィッティングの実行\n",
    "p_opt = curve_fit(f_exp, data['x'], data['y'])[0]\n",
    "print(p_opt)"
   ]
  },
  {
   "attachments": {},
   "cell_type": "markdown",
   "metadata": {},
   "source": [
    "**4. フィッティング結果を可視化する**"
   ]
  },
  {
   "cell_type": "code",
   "execution_count": 22,
   "metadata": {},
   "outputs": [
    {
     "data": {
      "image/png": "[encoded data removed]",
      "text/plain": [
       "<Figure size 350x300 with 1 Axes>"
      ]
     },
     "metadata": {
      "filenames": {
       "image/png": "/Users/narizuka/work/document/lecture/rissho/modeling_simulation/book/_build/jupyter_execute/chap_3/3_curve_fitting_40_0.png"
      }
     },
     "output_type": "display_data"
    }
   ],
   "source": [
    "fig, ax = plt.subplots()\n",
    "ax.plot(data['x'], data['y'], 'x')\n",
    "ax.plot(data['x'], f_exp(data['x'], p_opt[0], p_opt[1], p_opt[2]), 'r-', mfc='None')\n",
    "\n",
    "ax.set_xlabel('$x$', fontsize=15); ax.set_ylabel('$y$', fontsize=15);"
   ]
  },
  {
   "attachments": {},
   "cell_type": "markdown",
   "metadata": {},
   "source": [
    "**5. 決定係数を求める**"
   ]
  },
  {
   "cell_type": "code",
   "execution_count": 23,
   "metadata": {},
   "outputs": [
    {
     "data": {
      "text/plain": [
       "0.9161811765106044"
      ]
     },
     "execution_count": 23,
     "metadata": {},
     "output_type": "execute_result"
    }
   ],
   "source": [
    "# 決定係数\n",
    "y_reg = f_exp(data['x'], p_opt[0], p_opt[1], p_opt[2]) # 回帰直線の値\n",
    "R2 = 1 - np.var(data['y']-y_reg) / np.var(data['y']) # 決定係数\n",
    "R2"
   ]
  },
  {
   "attachments": {},
   "cell_type": "markdown",
   "metadata": {},
   "source": [
    "#### 演習問題\n",
    "\n",
    "1. 適当な非線形関数からデータを生成し，手順１〜５に従ってカーブフィッティングを実行せよ．\n",
    "2. [soccer_player_europe_2017.csv](https://drive.google.com/uc?export=download&id=13NU87F430KkYJGJZrY44aQECBLjSjKnf)は2017シーズンにサッカーのヨーロッパ5大リーグに所属していた選手のプロフィールである．これをPandasのDataFrameに読み込み，体重（`weight`）が0の選手を削除せよ．体重（`weight`）と身長（`height`）の散布図を描き，線形単回帰モデルによるカーブフィッティングを実行せよ．\n",
    "3. [covid19_korea.csv](https://drive.google.com/uc?export=download&id=14l9chvX4PqHMQQl2yTQTPm7J7S5Us6Xz)は，韓国における新型コロナウイルス感染者数の推移データである．このデータを読み込み，横軸に2020年1月22日を0日とした経過日数，縦軸に感染者数を取った散布図を描け．50日目までと100日目までの散布図に対して，以下のシグモイド関数によるフィッティングを実行せよ．\n",
    "   \n",
    "   $$\n",
    "   f(t) = \\frac{a}{1+b\\mathrm{e}^{-ct}}\n",
    "   $$\n",
    "   \n",
    "   ※ 本データの出典：[John Hopkins CSSE](https://github.com/CSSEGISandData/COVID-19/tree/master/csse_covid_19_data/csse_covid_19_time_series)"
   ]
  },
  {
   "attachments": {},
   "cell_type": "markdown",
   "metadata": {},
   "source": [
    "## 確率分布のパラメータ推定\n"
   ]
  },
  {
   "attachments": {},
   "cell_type": "markdown",
   "metadata": {},
   "source": [
    "手元にあるデータから作成したヒストグラムがある確率分布に従うと仮定し，データに合うように確率分布のパラメータを推定することもカーブフィッティングの一つである．"
   ]
  },
  {
   "attachments": {},
   "cell_type": "markdown",
   "metadata": {},
   "source": [
    "確率分布のパラメータ推定では，以下の方法がよく用いられる：\n",
    "\n",
    "- 最小二乗法\n",
    "- 最尤推定\n",
    "\n",
    "このうち，最小二乗法によるパラメータ推定は回帰分析と手続きは同じである．\n",
    "そこで，以下では最尤推定を扱う．"
   ]
  },
  {
   "attachments": {},
   "cell_type": "markdown",
   "metadata": {},
   "source": [
    "### ヒストグラムの作成とフィッティング"
   ]
  },
  {
   "attachments": {},
   "cell_type": "markdown",
   "metadata": {},
   "source": [
    "準備として`scipy`から主要な確率分布をインポートしておく："
   ]
  },
  {
   "cell_type": "code",
   "execution_count": 6,
   "metadata": {},
   "outputs": [],
   "source": [
    "from scipy.stats import bernoulli, norm, poisson, expon"
   ]
  },
  {
   "attachments": {},
   "cell_type": "markdown",
   "metadata": {},
   "source": [
    "また，与えられた観測データからヒストグラムを描画し，適当な確率分布をフィッティングするプログラムを作成しておく．"
   ]
  },
  {
   "cell_type": "code",
   "execution_count": 7,
   "metadata": {},
   "outputs": [
    {
     "data": {
      "text/plain": [
       "[<matplotlib.lines.Line2D at 0x1c3bcf3d0>]"
      ]
     },
     "execution_count": 7,
     "metadata": {},
     "output_type": "execute_result"
    },
    {
     "data": {
      "image/png": "[encoded data removed]",
      "text/plain": [
       "<Figure size 350x300 with 1 Axes>"
      ]
     },
     "metadata": {
      "filenames": {
       "image/png": "/Users/narizuka/work/document/lecture/rissho/modeling_simulation/book/_build/jupyter_execute/chap_3/3_curve_fitting_51_1.png"
      }
     },
     "output_type": "display_data"
    }
   ],
   "source": [
    "# データの作成（正規分布に従う1000個のデータ）\n",
    "np.random.seed(20)\n",
    "x_data = sp.stats.norm.rvs(loc=170, scale=10, size=1000)\n",
    "\n",
    "# ヒストグラムの描画\n",
    "fig, ax = plt.subplots()\n",
    "ret = ax.hist(x_data, bins=10, density=1, color='c', edgecolor='k')\n",
    "ax.set_xlabel('$x$', fontsize=12)\n",
    "ax.set_ylabel('相対度数', fontsize=12)\n",
    "ax.set_xticks(np.arange(130, 210, 10));\n",
    "\n",
    "# フィッティング\n",
    "x = np.arange(140, 200)\n",
    "ax.plot(x, norm.pdf(x, loc=170, scale=10), 'r--')"
   ]
  },
  {
   "attachments": {},
   "cell_type": "markdown",
   "metadata": {},
   "source": [
    "### 最尤推定"
   ]
  },
  {
   "attachments": {},
   "cell_type": "markdown",
   "metadata": {},
   "source": [
    "これまで，パラメータ $ \\boldsymbol{\\theta} $ を持つ１次元確率分布を $ f(x; \\boldsymbol{\\theta}) $ と表記していたが，変数と定数の区別を強調するために，これ以降は $ f(x|\\boldsymbol{\\theta}) $ と表記する．\n",
    "例えば，$ f(x|\\boldsymbol{\\theta}) $ と書いたときは，$ \\boldsymbol{\\theta} $ は与えられた定数，$ x $ は変数を表しており，$ f(x|\\boldsymbol{\\theta}) $ は $ x $ の関数であると解釈できる．"
   ]
  },
  {
   "attachments": {},
   "cell_type": "markdown",
   "metadata": {},
   "source": [
    "いま，手元にある $ n $ 個のデータ $ (x_{1}, x_{2}, \\ldots, x_{n}) $ が確率分布 $ f(x|\\boldsymbol{\\theta}) $ から独立に得られたとする．\n",
    "このとき，$ x_{i} $ というデータが得られる確率は $ f(x_{i}|\\boldsymbol{\\theta}) $ であるので，手元にある $ n $ 個のデータが得られる確率は\n",
    "\n",
    "$$\n",
    "    f(x_{1}, x_{2},\\ldots, x_{n}|\\boldsymbol{\\theta}) = \\prod_{i=1}^{n} f(x_{i}|\\boldsymbol{\\theta})\n",
    "$$\n",
    "\n",
    "と表される．\n",
    "このように，確率を $ f(x_{1}, x_{2},\\ldots, x_{n}|\\boldsymbol{\\theta}) $ と書いたときは，パラメータ $ \\boldsymbol{\\theta} $ が固定されており，手元のデータ $ (x_{1}, x_{2}, \\ldots, x_{n}) $ を変数と捉えている．\n",
    "これは，データの生成元から見た視点と考えることができる．"
   ]
  },
  {
   "attachments": {},
   "cell_type": "markdown",
   "metadata": {},
   "source": [
    "一方，この状況をデータの観測者から見ると，手元のデータ $ (x_{1},\\ x_{2},\\ \\ldots, x_{n}) $ に対して，このデータの生成元となった確率分布のパラメータ $ \\boldsymbol{\\theta} $ はどのような値だったのだろうか？という見方ができる．\n",
    "このような捉え方をすると，手元のデータ $ (x_{1},\\ x_{2},\\ \\ldots, x_{n}) $ は定数で，パラメータ $ \\boldsymbol{\\theta} $ は変数と考えていることになる．\n",
    "そこで，確率 $ f(x_{1}, x_{2},\\ldots, x_{n}|\\boldsymbol{\\theta}) $ について，$ (x_{1},\\ x_{2},\\ \\ldots, x_{n}) $ を定数，パラメータ $ \\boldsymbol{\\theta} $ を変数と捉えた場合の関数を\n",
    "\n",
    "$$\n",
    "    L(\\boldsymbol{\\theta}|x_{1},\\ldots, x_{n}) = \\prod_{i=1}^{n} f(x_{i}|\\boldsymbol{\\theta})\n",
    "$$\n",
    "\n",
    "と表記し，これを**尤度関数**と呼ぶことにする．"
   ]
  },
  {
   "attachments": {},
   "cell_type": "markdown",
   "metadata": {},
   "source": [
    "さて，尤度関数というのは，手元のデータが得られる確率を，生成元となった確率分布のパラメータ $ \\boldsymbol{\\theta} $ の関数と捉えたものである．\n",
    "いま，手元にデータが与えられた状態で生成元の確率分布のパラメータがどのような値なら尤もらしいか？と考えると，尤度が小さくなるようなパラメータだとあり得ないことが起こっているので不適切である．\n",
    "そこで，手元に $ n $ 個のデータが与えられたとき，尤度関数 $ L(\\boldsymbol{\\theta}|x_{1}, x_{2},\\ldots, x_{n}) $ を最大にするように生成元の確率分布のパラメータ $ \\boldsymbol{\\theta} $ を最も尤もらしいパラメータと考えることにする．\n",
    "これは，確率分布のパラメータ推定の手法の一つであり，**最尤推定法**と呼ばれている．"
   ]
  },
  {
   "attachments": {},
   "cell_type": "markdown",
   "metadata": {},
   "source": [
    "尤度関数を最大にするようなパラメータを求めるには，尤度関数を各パラメータで偏微分して0になるという条件を課せば良いが，尤度関数は確率 $ f(x_{i}|\\theta) $ の積として定義されるので，パラメータによる偏微分は面倒である．\n",
    "そこで，通常は尤度関数の対数を取った**対数尤度関数**を考え，これを最大化するパラメータを考える：\n",
    "\n",
    "$$\n",
    "    \\frac{\\partial \\log L}{\\partial \\theta_{1}} = 0, \\quad \\frac{\\partial \\log L}{\\partial \\theta_{2}} = 0, \\quad \\cdots, \\quad \\frac{\\partial \\log L}{\\partial \\theta_{n}} = 0\n",
    "$$\n",
    "\n",
    "この条件式は**対数尤度方程式**と呼ばれている．\n",
    "このように対数尤度関数を考えると，尤度関数の積が和の形に分解できるので計算が簡単になる一方で，得られる解は尤度関数を偏微分した場合と変わらないので計算上都合が良い．\n",
    "ただし，最尤推定値が実際に計算可能かどうかは対数尤度関数の形によって異なる．\n",
    "例えば，対数尤度関数が凸関数の場合には対数尤度方程式を解くことで大域解が求まるが，非凸関数の場合にはその限りではない．\n",
    "また，対数尤度関数は非常に複雑な形をしていることが多いため，数値解を求めるための様々なアルゴリズム（例えばEMアルゴリズムなど）が考案されている．"
   ]
  },
  {
   "attachments": {},
   "cell_type": "markdown",
   "metadata": {},
   "source": [
    "### ベルヌーイ分布"
   ]
  },
  {
   "attachments": {},
   "cell_type": "markdown",
   "metadata": {},
   "source": [
    "最尤推定の具体例として，まずはデータ生成元の確率分布がベルヌーイ分布の場合を考える．\n",
    "ベルヌーイ分布とは，以下の式で与えられる離散型確率分布である：\n",
    "\n",
    "$$\n",
    "    f(x|p) = p^{x}(1-p)^{1-x}\n",
    "$$\n",
    "\n",
    "ここで，$ x $ の取りうる値は $ 0, 1 $ の2値である．\n",
    "ベルヌーイ分布はコイン投げのように確率変数 $ X $ が2値を取るような試行（ベルヌーイ試行）を1回行ったときの確率分布であり，$ p $ は $ x=1 $ となる確率（表が出る確率）を表すパラメータである．"
   ]
  },
  {
   "attachments": {},
   "cell_type": "markdown",
   "metadata": {},
   "source": [
    "#### 解析解\n",
    "\n",
    "観測データ $ (x_{1}, \\ldots, x_{n}) $ に対する尤度関数は\n",
    "\n",
    "$$\n",
    "    L(p|x_{1}, \\ldots, x_{n}) = \\prod_{i=1}^{n} p^{x_{i}}(1-p)^{1-x_{i}}=p^{\\sum_{i}x_{i}}(1-p)^{n-\\sum_{i}x_{i}}\n",
    "$$\n",
    "\n",
    "となるので，対数尤度関数は\n",
    "\n",
    "$$\n",
    "    \\log L(p|x_{1}, \\ldots, x_{n}) = \\left(\\sum_{i} x_{i}\\right) \\log p + \\left(n-\\sum_{i}x_{i}\\right)\\log(1-p)\n",
    "$$\n",
    "\n",
    "と表される．\n",
    "\n",
    "これより，対数尤度方程式は\n",
    "\n",
    "$$\n",
    "    \\frac{dL}{dp} = \\frac{\\sum_{i}x_{i}}{p} - \\frac{n-\\sum_{i}x_{i}}{1-p} = 0\n",
    "$$\n",
    "\n",
    "となり，これを解けば\n",
    "\n",
    "$$\n",
    "    p = \\frac{1}{n} \\sum_{i=1}^{n} x_{i}\n",
    "$$\n",
    "\n",
    "が得られる．\n",
    "すなわち，$ p $ の最尤推定値は観測データの標本平均である．\n",
    "例えば，コインを5回投げて最初に表が連続して3回出たとすると，データは $ (1,1,1,0,0) $ である．\n",
    "よって，この場合の最尤推定値は $ p=3/5 $ となる．"
   ]
  },
  {
   "attachments": {},
   "cell_type": "markdown",
   "metadata": {},
   "source": [
    "#### Pythonによる実装"
   ]
  },
  {
   "attachments": {},
   "cell_type": "markdown",
   "metadata": {},
   "source": [
    "まずは，パラメータ $ p $ のベルヌーイ分布からサイズ100の標本を発生させる．\n",
    "例えば，以下では $ p=0.3 $ を真の値としている．"
   ]
  },
  {
   "cell_type": "code",
   "execution_count": 2,
   "metadata": {},
   "outputs": [
    {
     "data": {
      "text/plain": [
       "array([1, 0, 0, 1, 1, 1, 0, 1, 0, 0, 0, 0, 0, 0, 0, 1, 0, 0, 0, 1, 1, 0,\n",
       "       1, 0, 0, 1, 0, 1, 0, 1, 0, 0, 0, 0, 0, 0, 0, 1, 0, 0, 0, 0, 0, 0,\n",
       "       1, 0, 0, 1, 1, 0, 0, 1, 0, 0, 0, 0, 0, 0, 1, 0, 0, 0, 0, 0, 0, 1,\n",
       "       0, 0, 0, 0, 0, 0, 0, 0, 0, 0, 0, 0, 0, 1, 1, 1, 0, 0, 0, 0, 0, 0,\n",
       "       0, 0, 0, 0, 0, 1, 1, 0, 1, 1, 0, 0])"
      ]
     },
     "execution_count": 2,
     "metadata": {},
     "output_type": "execute_result"
    }
   ],
   "source": [
    "np.random.seed(seed=32)\n",
    "p = 0.3\n",
    "x = bernoulli.rvs(p, size=100)\n",
    "x"
   ]
  },
  {
   "attachments": {},
   "cell_type": "markdown",
   "metadata": {},
   "source": [
    "次に，得られた標本（観測データ）から尤度関数を計算する．"
   ]
  },
  {
   "cell_type": "code",
   "execution_count": 4,
   "metadata": {},
   "outputs": [],
   "source": [
    "L = []\n",
    "P = np.arange(0, 1, 0.01)\n",
    "\n",
    "# 様々なPについて尤度を計算する\n",
    "for p in P:\n",
    "    l = np.prod(bernoulli.pmf(x, p))\n",
    "    L.append(l)\n",
    "\n",
    "L = np.array(L)"
   ]
  },
  {
   "attachments": {},
   "cell_type": "markdown",
   "metadata": {},
   "source": [
    "最後に，尤度関数を描画し，さらに尤度関数が最大となる $ p $ の値をグラフ中にプロットする．"
   ]
  },
  {
   "cell_type": "code",
   "execution_count": 8,
   "metadata": {},
   "outputs": [
    {
     "name": "stdout",
     "output_type": "stream",
     "text": [
      "最尤推定値： 0.26\n"
     ]
    },
    {
     "data": {
      "image/png": "[encoded data removed]",
      "text/plain": [
       "<Figure size 350x300 with 1 Axes>"
      ]
     },
     "metadata": {
      "filenames": {
       "image/png": "/Users/narizuka/work/document/lecture/rissho/modeling_simulation/book/_build/jupyter_execute/chap_3/3_curve_fitting_67_1.png"
      }
     },
     "output_type": "display_data"
    }
   ],
   "source": [
    "# 尤度関数の描画\n",
    "fig, ax = plt.subplots()\n",
    "ax.plot(P, L)\n",
    "ax.vlines(P[np.argmax(L)], 0, np.max(L), color='r', linestyles='dashed')\n",
    "print('最尤推定値：', P[np.argmax(L)])\n",
    "\n",
    "ax.set_xlabel('$p$', fontsize=12)\n",
    "ax.set_ylabel('尤度関数$L(p)$', fontsize=12)\n",
    "ax.set_xlim(0, 1); ax.set_ylim(ymin=0);"
   ]
  },
  {
   "attachments": {},
   "cell_type": "markdown",
   "metadata": {},
   "source": [
    "得られた最尤推定値は $ p=0.26 $ であるが，これは解析解である標本平均と一致している．"
   ]
  },
  {
   "attachments": {},
   "cell_type": "markdown",
   "metadata": {},
   "source": [
    "### 正規分布"
   ]
  },
  {
   "attachments": {},
   "cell_type": "markdown",
   "metadata": {},
   "source": [
    "次に，最尤推定値の解析解が求まるもう少し複雑な例として，生成元の確率分布が正規分布の場合を考える．\n",
    "正規分布の確率密度関数は以下で与えられる：\n",
    "\n",
    "$$\n",
    "    f(x|\\mu, \\sigma) = \\frac{1}{\\sqrt{2\\pi\\sigma^2}} \\mathrm{e}^{-\\frac{(x-\\mu)^2}{2\\sigma^2}}\n",
    "$$\n",
    "\n",
    "ここで，$ \\mu, \\sigma $ がパラメータでそれぞれ期待値と標準偏差に対応する．"
   ]
  },
  {
   "attachments": {},
   "cell_type": "markdown",
   "metadata": {},
   "source": [
    "#### 解析解"
   ]
  },
  {
   "attachments": {},
   "cell_type": "markdown",
   "metadata": {},
   "source": [
    "観測データ $ x_{1}, \\ldots, x_{n} $ に対する尤度関数は\n",
    "\n",
    "$$\n",
    "    L(\\mu, \\sigma|x_{1}, \\ldots, x_{n}) = \\prod_{i=1}^{n} \\frac{1}{\\sqrt{2\\pi\\sigma^2}} \\mathrm{e}^{-\\frac{(x_{i}-\\mu)^2}{2\\sigma^2}}\n",
    "    = \\frac{1}{(2\\pi\\sigma^2)^{n/2}} \\exp\\left[-\\frac{1}{2\\sigma^2}\\sum_{i=1}^{n}(x-\\mu)^2\\right]\n",
    "$$\n",
    "\n",
    "となるので，対数尤度関数は\n",
    "\n",
    "$$\n",
    "    \\log L = -\\frac{n}{2} \\log(2\\pi) -\\frac{n}{2} \\log(\\sigma^2) - \\frac{1}{2\\sigma^2} \\sum_{i=1}^{n} (x_{i}-\\mu)^2\n",
    "$$\n",
    "\n",
    "と表される．"
   ]
  },
  {
   "attachments": {},
   "cell_type": "markdown",
   "metadata": {},
   "source": [
    "これより，対数尤度方程式は\n",
    "\n",
    "\\begin{align*}\n",
    "    \\frac{\\partial L}{\\partial \\mu} &= -\\frac{1}{2\\sigma^2} \\sum_{i}^{n}2(x_{i}-\\mu)\\times (-1)\n",
    "    = \\frac{1}{\\sigma^2}\\sum_{i}^{n}(x_{i}-\\mu) = 0 \\\\\n",
    "    \\frac{\\partial L}{\\partial \\sigma^2} &= -\\frac{n}{2\\sigma^2} - \\frac{1}{2\\sigma^4} \\sum_{i=1}^{n} (x_{i} - \\mu)^2 = 0\n",
    "\\end{align*}\n",
    "\n",
    "となり，これらを解けば，\n",
    "\n",
    "\\begin{align*}\n",
    "    \\mu &= \\frac{1}{n}\\sum_{i=1}^{n}x_{i}\\\\\n",
    "    \\sigma^2 &= \\frac{1}{n}\\sum_{i=1}^{n}(x_{i}-\\mu)^2\n",
    "\\end{align*}\n",
    "\n",
    "が得られる．\n",
    "すなわち，$ \\mu,\\ \\sigma^2 $ の最尤推定値はそれぞれ標本平均と標本分散であることが分かる．"
   ]
  },
  {
   "attachments": {},
   "cell_type": "markdown",
   "metadata": {},
   "source": [
    "#### Pythonによる実装"
   ]
  },
  {
   "cell_type": "code",
   "execution_count": 9,
   "metadata": {},
   "outputs": [],
   "source": [
    "# 1. 標準正規分布からサイズ100の標本を生成する\n",
    "np.random.seed(seed=32)\n",
    "mu, sigma = 0, 1\n",
    "x = norm.rvs(loc=mu, scale=sigma, size=100)"
   ]
  },
  {
   "cell_type": "code",
   "execution_count": 10,
   "metadata": {},
   "outputs": [],
   "source": [
    "# 2. この標本を基に，正規分布の平均と標準偏差をx, y軸，尤度関数をz軸とするグラフを描画する\n",
    "mean_range = np.linspace(-0.1, 0.1, 100)\n",
    "std_dev_range = np.linspace(0.9, 1.1, 100)\n",
    "M, S = np.meshgrid(mean_range, std_dev_range)\n",
    "L = []\n",
    "\n",
    "for m, s in zip(M.ravel(), S.ravel()):\n",
    "    # L.append(np.log(np.prod(norm.pdf(x, loc=m, scale=s))))\n",
    "    L.append(np.prod(norm.pdf(x, loc=m, scale=s)))\n",
    "\n",
    "L = np.array(L).reshape(M.shape)"
   ]
  },
  {
   "cell_type": "code",
   "execution_count": 11,
   "metadata": {},
   "outputs": [
    {
     "data": {
      "text/plain": [
       "Text(0.5, 0, 'Likelihood')"
      ]
     },
     "execution_count": 11,
     "metadata": {},
     "output_type": "execute_result"
    },
    {
     "data": {
      "image/png": "[encoded data removed]",
      "text/plain": [
       "<Figure size 350x300 with 1 Axes>"
      ]
     },
     "metadata": {
      "filenames": {
       "image/png": "/Users/narizuka/work/document/lecture/rissho/modeling_simulation/book/_build/jupyter_execute/chap_3/3_curve_fitting_77_1.png"
      }
     },
     "output_type": "display_data"
    }
   ],
   "source": [
    "fig, ax = plt.subplots(subplot_kw=dict(projection='3d'))\n",
    "ax.plot_wireframe(M, S, L)\n",
    "ax.set_xlabel('$\\mu$')\n",
    "ax.set_ylabel('$\\sigma$')\n",
    "ax.set_zlabel('Likelihood')"
   ]
  },
  {
   "cell_type": "code",
   "execution_count": 12,
   "metadata": {},
   "outputs": [
    {
     "name": "stdout",
     "output_type": "stream",
     "text": [
      "MLE of mean: 0.06368595578464202\n",
      "MLE of standard deviation: 1.02857877771493\n"
     ]
    }
   ],
   "source": [
    "# 3. 最尤推定値を計算する\n",
    "mle_mean = np.mean(x)\n",
    "mle_std_dev = np.std(x, ddof=0)\n",
    "\n",
    "print(f'MLE of mean: {mle_mean}')\n",
    "print(f'MLE of standard deviation: {mle_std_dev}')"
   ]
  },
  {
   "cell_type": "code",
   "execution_count": 13,
   "metadata": {},
   "outputs": [
    {
     "data": {
      "text/plain": [
       "array([0.06363636])"
      ]
     },
     "execution_count": 13,
     "metadata": {},
     "output_type": "execute_result"
    }
   ],
   "source": [
    "M[np.where(L==L.max())]"
   ]
  },
  {
   "cell_type": "code",
   "execution_count": 14,
   "metadata": {},
   "outputs": [
    {
     "data": {
      "text/plain": [
       "array([1.02929293])"
      ]
     },
     "execution_count": 14,
     "metadata": {},
     "output_type": "execute_result"
    }
   ],
   "source": [
    "S[np.where(L==L.max())]"
   ]
  },
  {
   "attachments": {},
   "cell_type": "markdown",
   "metadata": {},
   "source": [
    "**求めたパラメータでカーブフィッティング**"
   ]
  },
  {
   "cell_type": "code",
   "execution_count": 17,
   "metadata": {},
   "outputs": [
    {
     "data": {
      "text/plain": [
       "[<matplotlib.lines.Line2D at 0x1c606d130>]"
      ]
     },
     "execution_count": 17,
     "metadata": {},
     "output_type": "execute_result"
    },
    {
     "data": {
      "image/png": "[encoded data removed]",
      "text/plain": [
       "<Figure size 350x300 with 1 Axes>"
      ]
     },
     "metadata": {
      "filenames": {
       "image/png": "/Users/narizuka/work/document/lecture/rissho/modeling_simulation/book/_build/jupyter_execute/chap_3/3_curve_fitting_82_1.png"
      }
     },
     "output_type": "display_data"
    }
   ],
   "source": [
    "# ヒストグラムの描画\n",
    "fig, ax = plt.subplots()\n",
    "ret = ax.hist(x, bins=15, density=1, color='c', edgecolor='k')\n",
    "ax.plot(ret[1], norm.pdf(ret[1], loc=mle_mean, scale=mle_std_dev), 'r-')"
   ]
  },
  {
   "attachments": {},
   "cell_type": "markdown",
   "metadata": {},
   "source": [
    "### 演習問題"
   ]
  },
  {
   "attachments": {},
   "cell_type": "markdown",
   "metadata": {},
   "source": [
    "**指数分布の最尤推定**\n",
    "\n",
    "指数分布\n",
    "\n",
    "$$\n",
    "    f(x|\\lambda) = \\frac{1}{\\lambda}\\mathrm{e}^{-\\frac{x}{\\lambda}}\n",
    "$$\n",
    "\n",
    "について，最尤推定値の解析解を計算せよ．\n",
    "また，適当な $ \\lambda $ の値について最尤推定値を求めるPythonプログラムを作成せよ．\n",
    "\n",
    "**ポアソン分布の最尤推定**\n",
    "\n",
    "ポアソン分布\n",
    "\n",
    "$$\n",
    "    f(x|\\lambda) = \\frac{\\lambda^{x}\\mathrm{e}^{-\\lambda}}{k!}\n",
    "$$\n",
    "\n",
    "について，最尤推定値の解析解を計算せよ．\n",
    "また，適当な $ \\lambda $ の値について最尤推定値を求めるPythonプログラムを作成せよ．"
   ]
  }
 ],
 "metadata": {
  "kernelspec": {
   "display_name": "myenv",
   "language": "python",
   "name": "python3"
  },
  "language_info": {
   "codemirror_mode": {
    "name": "ipython",
    "version": 3
   },
   "file_extension": ".py",
   "mimetype": "text/x-python",
   "name": "python",
   "nbconvert_exporter": "python",
   "pygments_lexer": "ipython3",
   "version": "3.9.13"
  },
  "vscode": {
   "interpreter": {
    "hash": "911fd4aa1eca4252368dc27db61226a38a6cfe922f9bbc90c7d50e9c97ede316"
   }
  }
 },
 "nbformat": 4,
 "nbformat_minor": 2
}