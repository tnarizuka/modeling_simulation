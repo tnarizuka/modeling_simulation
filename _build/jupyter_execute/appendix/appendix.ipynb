{
 "cells": [
  {
   "attachments": {},
   "cell_type": "markdown",
   "metadata": {},
   "source": [
    "# 付録"
   ]
  },
  {
   "attachments": {},
   "cell_type": "markdown",
   "metadata": {},
   "source": [
    "## 便利な機能\n",
    "\n",
    "### Jupyterのconfigファイル\n",
    "- ターミナルで以下を実行する\n",
    "  ```\n",
    "  jupyter notebook --generate-config\n",
    "  ```\n",
    "    - `C:\\Users\\username\\.jupyter`の中に`jupyter_notebook_config.py`というファイルができる．\n",
    "- `jupyter_notebook_config.py`を開いて以下を追加\n",
    "  ```\n",
    "  `c=get_config()`\n",
    "  `c.NotebookApp.notebook_dir=\"起動ディレクトリのパス\"`\n",
    "  ```\n",
    "- これにより，Jupyter Labを起動したときに指定したフォルダが開かれる"
   ]
  },
  {
   "attachments": {},
   "cell_type": "markdown",
   "metadata": {},
   "source": [
    "### Ipythonのプロファイル\n",
    "\n",
    "Ipythonプロファイルを作成すると，jupyterの起動時に自動実行したいコマンドを設定できる．\n",
    "\n",
    "- ターミナルで以下を実行する\n",
    "    ```\n",
    "    ipython profile create profile_name\n",
    "    ```\n",
    "    - `C:\\Users\\username\\.ipython\\prifile_name`に`startup`フォルダが作成される．\n",
    "- `startup`フォルダの中に`00.ipy`というファイル（スタートアップスクリプト）を作り，自動実行したいコマンドを記述する．\n",
    "- 例えば，以下はよく使うので自動importしておくと良い\n",
    "\n",
    "    ```python\n",
    "    import os\n",
    "    import sys\n",
    "    import matplotlib.pyplot as plt\n",
    "    import numpy as np\n",
    "    import pandas as pd\n",
    "    ```\n",
    "- 自作のモジュール（例えば`my_module.py`）をimportして使う場合，`my_module.py`を一度jupyterでimportした後に，ローカルで`my_module.py`を変更することがよくある．このとき，ローカルで行った変更内容はjupyter側には自動で反映されない．そこで，スタートアップスクリプトに以下を加えておくと自作モジュールの変更が自動で反映される．\n",
    "  \n",
    "    ```\n",
    "    %load_ext autoreload\n",
    "    %autoreload 2\n",
    "    %matplotlib inline\n",
    "    ```"
   ]
  },
  {
   "attachments": {},
   "cell_type": "markdown",
   "metadata": {},
   "source": [
    "例として，`modeling_simulation`フォルダの中に`module`フォルダを作り，以下のプログラムを`my_module.py`として保存する．\n",
    "\n",
    "```python\n",
    "def my_func():\n",
    "    for i in range(5):\n",
    "        print(\"test%s\" % i)\n",
    "\n",
    "if __name__ == '__main__':\n",
    "    my_func()\n",
    "```\n",
    "つまり，このPythonスクリプトのパスは`C:\\Users\\username\\OneDrive\\modeling_simulation\\module\\my_module.py`となる．"
   ]
  },
  {
   "cell_type": "markdown",
   "metadata": {},
   "source": [
    "これを単にPythonスクリプトとして実行すると，`if __name__ == '__main__':`以下のコマンドが実行される："
   ]
  },
  {
   "cell_type": "markdown",
   "metadata": {},
   "source": [
    "```python\n",
    "%run \"./module/my_module.py\"\n",
    "```"
   ]
  },
  {
   "cell_type": "markdown",
   "metadata": {},
   "source": [
    "一方，これをモジュールとしてインポートするには以下のようにする："
   ]
  },
  {
   "cell_type": "markdown",
   "metadata": {},
   "source": [
    "```python\n",
    "import module.my_module as mm\n",
    "```"
   ]
  },
  {
   "cell_type": "markdown",
   "metadata": {},
   "source": [
    "この状態で`my_module`内の関数`my_func()`を以下のように`mm.my_func()`として実行できる："
   ]
  },
  {
   "cell_type": "markdown",
   "metadata": {},
   "source": [
    "```python\n",
    "mm.my_func()\n",
    "```"
   ]
  },
  {
   "cell_type": "markdown",
   "metadata": {},
   "source": [
    "スタートアップスクリプト内にautoreloadの設定を書いている場合は，ローカルで`my_module.py`を書き換えたら即座に変更内容が反映されるはずである．"
   ]
  },
  {
   "cell_type": "markdown",
   "metadata": {},
   "source": [
    "```python\n",
    "mm.my_func()\n",
    "```"
   ]
  },
  {
   "attachments": {},
   "cell_type": "markdown",
   "metadata": {},
   "source": [
    "## Google Colab\n",
    "\n",
    "Google Colab（正式名称はGoogle Colaboratoty）はgoogleが提供するPython実行環境であり，Jupyter Notebookがベースになっている．\n",
    "実際，Google Colabで作成したノートブックは\".ipynb形式\"で保存されるので，相互互換性がある．\n",
    "Google Colabの特徴は以下の通りである：\n",
    "\n",
    "- ブラウザ上で動作する\n",
    "- 基本操作はJupyter Notebookと似ている（細かい操作方法は異なる）\n",
    "- 作成したノートブックはGoogle Drive上に保存される\n",
    "    - Google Driveが必要（なのでGoogle アカウントも必要）\n",
    "- pythonの環境構築が不要（新たにモジュールをインストールすることも可能）\n",
    "- 無料でGPUを使用可能\n",
    "\n",
    "特に，Jupyter Notebookの場合は自分のPC上にpython環境を構築する必要があるが，Google Colabはその必要がない点がメリットである．\n",
    "また，GPUが無料で使用可能なので，重い計算を行う際にも重宝する．\n",
    "本講義では，基本的にJupyter Labを用いるが，Google Colabを用いても問題ない．"
   ]
  },
  {
   "cell_type": "markdown",
   "metadata": {},
   "source": [
    "### Google colabでjupyter notebookを開く\n",
    "\n",
    "- Google Driveを開いて作業フォルダに移動\n",
    "- 既存の`.ipynbファイル`を選択するとGoogle Colabが開く\n",
    "- 新規作成作成の場合は以下\n",
    "    - ［右クリック］→［その他］→［Google Colaboratory］"
   ]
  },
  {
   "cell_type": "markdown",
   "metadata": {},
   "source": [
    "### 必要なモジュールをimportする\n",
    "\n",
    "- google colabにインストールされていないモジュール（japanize_matplotlibなど）\n",
    "\n",
    "    ```python\n",
    "    !pip install japanize-matplotlib\n",
    "    import japanize_matplotlib\n",
    "    ```\n",
    "- 既にインストールされているモジュール\n",
    "\n",
    "    ```python\n",
    "    import numpy as np\n",
    "    ```"
   ]
  },
  {
   "cell_type": "markdown",
   "metadata": {},
   "source": [
    "### Google Driveをマウントする\n",
    "\n",
    "Google Driveに保存した自作モジュールやファイルにアクセスしたい場合はGoogle Driveをマウントする必要がある．\n",
    "\n",
    "- 以下を実行する\n",
    "  \n",
    "    ```python\n",
    "    from google.colab import drive\n",
    "    drive.mount('/content/drive')\n",
    "    ```\n",
    "- 「このノートブックにGoogleドライブのファイルへのアクセスを許可しますか？」と聞かれるので「Google ドライブに接続」を選択\n",
    "- 自分のGoogleアカウントを選択し，「許可」を選択"
   ]
  },
  {
   "cell_type": "markdown",
   "metadata": {},
   "source": [
    "### （任意）自作モジュールをimportする\n",
    "\n",
    "```python\n",
    "import sys\n",
    "sys.path.append('/content/drive/My Drive/***')\n",
    "\n",
    "import ***.xxx\n",
    "```\n",
    "※ なお，自作モジュールの変更を反映したい場合は［ランタイムを出荷時設定にリセット］し，再度マウントする"
   ]
  },
  {
   "cell_type": "markdown",
   "metadata": {},
   "source": [
    "### （任意）matplotlibのスタイルファイルを読み込む\n",
    "\n",
    "```python\n",
    "import matplotlib.pyplot as plt\n",
    "plt.style.use('/content/drive/My Drive/***/matplotlibrc')\n",
    "```"
   ]
  },
  {
   "cell_type": "markdown",
   "metadata": {},
   "source": [
    "## 感染症の流行\n",
    "\n",
    "### 感染症のモデル化\n",
    "\n",
    "これまでの歴史において，人類は天然痘，ペスト，結核，コレラ，エイズ，エボラ出血熱，といった様々な感染症の流行を経験し，現在もなお新型コロナウイルスとの闘いが続いている．\n",
    "感染症の流行は複雑な現象であるが，そのエッセンスは細菌やウイルスが人から人へ伝播するということである．\n",
    "そこで，感染症を伝播現象と捉えてそのプロセスを単純化すれば，感染者数の大まかな増減を比較的単純な微分方程式で記述することができる．\n",
    "\n",
    "通常，感染症の数理モデルでは，以下のように複数の状態を考える（これらの他にも，自身が感染しているが他者に移す可能性がない潜伏期の状態（状態 $ E $ ）など，様々な状態を考えることができる．）：\n",
    "\n",
    "- 状態$ S $：自身が感染する可能性のある状態（Susceptible or Suspicious）\n",
    "<!-- - 状態$ E $：自身が感染しているが，他者に移す可能性がない状態（Exposed） -->\n",
    "- 状態$ I $：自身が感染していて，他者に移す可能性がある状態（Infected）\n",
    "- 状態$ R $：感染から回復し，他者に移す可能性がない状態（Recovered）\n",
    "  \n",
    "その上で，時刻 $ t $ においてそれぞれの状態にいる人口の割合を $ S(t),\\ I(t),\\ R(t) $ とし，これらの変数が従う微分方程式を定める．\n",
    "ただし，常にこれら全ての状態を考慮するわけではなく，例えば最も簡単なモデルでは状態 $ S $ と状態 $ I $ だけを取り入れる．\n",
    "以上により，微分方程式を解けば，それぞれの状態にいる人口がどのように時間変化するかが分かるので，感染症の流行を記述することができる．\n",
    "\n",
    "なお，通常は微分方程式に加え，全ての変数の和が1（例えば，$ S(t)+I(t)+R(t)=1 $）という関係が成り立つと仮定する．\n",
    "この関係式は，総人口を $ M $ としたときに $ MS(t)+MI(t)+MR(t)=M $ と書けるので，人口が常に一定であるという条件を表す．\n",
    "これは，考えるシステムにおいて，感染症以外の理由による人口変動が無視できることを案に仮定している．\n",
    "\n",
    "以下では，感染症の数理モデルの中でも単純でよく知られた３つのモデルを紹介する．\n",
    "\n",
    "### SIモデル\n",
    "\n",
    "まず，未感染者（状態 $ S $）が感染者（状態 $ I $）と接触すると，一定の確率で感染者（状態 $ I $）に変わるというモデルを考える．\n",
    "ただし，一度感染した者はずっと感染したままとする（つまり，最終的に全員が状態 $ I $ になる）．\n",
    "このようなモデルは感染症モデルの中で最も単純なモデルであり，**SIモデル**と呼ばれる．\n",
    "\n",
    "SIモデルのダイナミクスは，$ S(t) $ が一定確率で $ I(t) $ に変わるというものであり，短い時間間隔 $ \\Delta t $ における $ S(t) $ の変化は以下の式で与えられる：\n",
    "\n",
    "$$\n",
    "\tS(t+\\Delta t) = S(t) - \\gamma S(t)I(t)\\Delta t\n",
    "$$\n",
    "\n",
    "ここで，右辺第２項は $ S(t) $ の減少分であり，$ S(t)I(t) $ は未感染者と感染者の接触率，$ \\gamma $ は感染確率を表す．\n",
    "すなわち，未感染者（状態 $ S $）と感染者（状態 $ I $）が接触すると確率 $ \\gamma $ で未感染者の割合が減ることを意味する．\n",
    "この式の両辺を $ \\Delta t $ で割って $ \\Delta t\\to 0 $ の極限を取ると，\n",
    "\n",
    "$$\n",
    "\t\\frac{dS}{dt} = -\\gamma S(t)I(t)\n",
    "$$\n",
    "\n",
    "が得られる．\n",
    "これが未感染者の割合 $ S(t) $ の変化を記述する微分方程式である．\n",
    "\n",
    "一方，感染者の割合 $ I(t) $ については，$ S(t) $ の減少分がそのまま増えるので，\n",
    "\n",
    "$$\n",
    "\t\\frac{dI}{dt} = \\gamma S(t)I(t)\n",
    "$$\n",
    "\n",
    "が成り立つ．\n",
    "\n",
    "以上をまとめると，SIモデルは次のような連立微分方程式として記述される：\n",
    "\n",
    "\\begin{align}\n",
    "\t\\left \\{\n",
    "\t\\begin{aligned}\n",
    "\t\t\\frac{dS}{dt} &= -\\gamma S(t)I(t) \\\\[10pt]\n",
    "\t\t\\frac{dI}{dt} &= \\gamma S(t)I(t)\n",
    "\t\\end{aligned}\n",
    "\t\\right.\n",
    "\\end{align}\n",
    "\n",
    "ただし，$ S(t)+I(t)=1 $　という関係式が成り立っていることを考慮すると，２つの微分方程式から　$ S(t) $　を消去することができ，$ I(t) $　だけから成る以下の微分方程式に変形できる：\n",
    "\n",
    "$$\n",
    "\t\\frac{dI(t)}{dt} = \\gamma (1-I(t))I(t)\n",
    "$$\n",
    "\n",
    "さらに，この式の両辺に総人口 $ M $ を掛けると\n",
    "\n",
    "$$\n",
    "\t\\frac{dMI(t)}{dt} = \\gamma \\left(1-\\frac{MI(t)}{M}\\right)MI(t)\n",
    "$$\n",
    "\n",
    "となる．\n",
    "これは，感染者数 $ MI(t) $ に対する微分方程式であるが，ロジスティックモデルと全く同じ形をしている．\n",
    "よって，感染者数は最終的に総人口 $ M $ に収束するが，その増え方は指数関数的な急増から徐々に緩やかなる．\n",
    "\n",
    "\n",
    "### SIRモデル\n",
    "\n",
    "SIモデルは一度感染したらずっと感染したままという非現実的なモデルであった．\n",
    "しかし，多くの感染症では感染状態（$ I $）になってから時間が経つと，免疫を獲得してそれ以上感染せず，かつ他者に移す可能性もない状態（$ R $）になることが多い．\n",
    "そこで，$ S(t),\\ I(t) $ に加えて新たな変数 $ R(t) $ も加えた以下のモデルを考える：\n",
    "\n",
    "\\begin{align}\n",
    "\t\\left\\{\n",
    "\t\\begin{aligned}\n",
    "\t\t\\frac{dS}{dt} &= - \\gamma S(t)I(t) \\\\[10pt]\n",
    "\t\t\\frac{dI}{dt} &= \\gamma S(t)I(t) - \\lambda I(t) \\\\[10pt]\n",
    "\t\t\\frac{dR}{dt} &= \\lambda I(t)\n",
    "\t\\end{aligned}\n",
    "\t\\right .\n",
    "\\end{align}\n",
    "\n",
    "このモデルは**SIRモデル**と呼ばれ，KermackとMcKendrickによって1927年に提案された．\n",
    "SIRモデルは感染症の標準的な数理モデルとしてよく用いられている．\n",
    "\n",
    "SIRモデルにおいて，第１式はSIモデルと全く同じである．\n",
    "一方，感染者の割合 $ I(t) $ に対する式（第２式）には新たに第２項 $ -\\lambda I(t) $ が加わっている．\n",
    "これは，感染者（状態$ I $）が一定の確率 $ \\lambda $ で免疫獲得者（状態$ R $）に変化して $ I(t) $ が減少することを表している．\n",
    "また，免疫獲得者の割合 $ R(t) $ は $ I(t) $ の減少分だけ増えるので，これを表したのが第３式である．\n",
    "なお，これまでと同様に $ S(t)+I(t)+R(t)=1 $ も成り立っている．\n",
    "\n",
    "SIRモデルは3変数の連立微分方程式であり，これを一般的に解くのは難しいので通常はコンピュータによる数値計算を行う．\n",
    "一方，感染症が拡大するかどうか（つまり $ I(t) $ が増えるかどうか）は微分方程式を解かずに評価することができる．\n",
    "まず，感染者の割合 $ I(t) $ の時間変化を記述する第２式だけを取り出す：\n",
    "\n",
    "$$\n",
    "\t\\frac{dI}{dt} = \\gamma S(t)I(t) - \\lambda I(t)\n",
    "$$\n",
    "\n",
    "この式は $ I(t) $ の増加速度 $ dI(t)/dt $ を表す式なので，右辺が正であれば $ I(t) $ は増加，負であれば減少する．\n",
    "これは，$ S(t)\\gamma /\\lambda $ が1より大きければ増加，小さければ減少と言い換えることもでき，このときに現れる量\n",
    "\n",
    "$$\n",
    "\tR_{t} = S(t)\\frac{\\gamma}{\\lambda}\n",
    "$$\n",
    "\n",
    "は**実効再生産数**と呼ばれている．\n",
    "実効再生産数 $ R_{t} $ は「感染者（$ I $状態）が回復するまで（$ R $状態になるまで）に平均的に感染させる数」という意味を持つことが示されている．\n",
    "\n",
    "$ R_{t} $ を実際の感染者数のデータから見積もる方法はいくつか提案されており，実際の感染症対策の現場でも，$ R_{t} $ の値が感染症の流行の評価指標となっている．\n",
    "\n",
    "なお，感染初期にはほぼ全員が非感染者（状態$ S $）なので，$ S(t)\\approx 1 $ と近似できる．\n",
    "この場合に得られる $ R_{0}=\\gamma/\\lambda $ は**基本再生産数**と呼ばれ，病原菌あるいはウイルスそのものの感染力の強さを意味する．"
   ]
  }
 ],
 "metadata": {
  "kernelspec": {
   "display_name": "Python 3.9.13 ('myenv')",
   "language": "python",
   "name": "python3"
  },
  "language_info": {
   "codemirror_mode": {
    "name": "ipython",
    "version": 3
   },
   "file_extension": ".py",
   "mimetype": "text/x-python",
   "name": "python",
   "nbconvert_exporter": "python",
   "pygments_lexer": "ipython3",
   "version": "3.9.13"
  },
  "toc-autonumbering": true,
  "toc-showcode": false,
  "toc-showmarkdowntxt": false,
  "toc-showtags": false,
  "vscode": {
   "interpreter": {
    "hash": "911fd4aa1eca4252368dc27db61226a38a6cfe922f9bbc90c7d50e9c97ede316"
   }
  }
 },
 "nbformat": 4,
 "nbformat_minor": 4
}