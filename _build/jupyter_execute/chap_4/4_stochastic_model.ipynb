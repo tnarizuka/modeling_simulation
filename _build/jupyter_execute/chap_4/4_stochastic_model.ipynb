{
 "cells": [
  {
   "attachments": {},
   "cell_type": "markdown",
   "metadata": {},
   "source": [
    "# 確率モデル"
   ]
  },
  {
   "cell_type": "code",
   "execution_count": 1,
   "metadata": {},
   "outputs": [],
   "source": [
    "import numpy as np\n",
    "import matplotlib.pyplot as plt\n",
    "from mpl_toolkits.mplot3d import Axes3D\n",
    "import pandas as pd\n",
    "import scipy as sp\n",
    "\n",
    "# 日本語フォントの設定（Mac:'Hiragino Sans', Windows:'MS Gothic'）\n",
    "plt.rcParams['font.family'] = 'Hiragino Sans'"
   ]
  },
  {
   "attachments": {},
   "cell_type": "markdown",
   "metadata": {},
   "source": [
    "本章では，確率モデルを扱う．\n",
    "確率モデルとは，数理モデルの変数が確率変数となっているモデルであり，様々な自然現象や社会現象のモデル化に用いられる．\n",
    "例えば，コイン投げは，表と裏が一定の確率で出るという数理モデルで記述することができ，最も基本的な確率モデルである．\n",
    "また，株価の変動は，毎時刻ごとに株価の上がり幅と下がり幅が確率的に決まるようなモデル（ランダムウォーク）によって記述することができる．"
   ]
  },
  {
   "attachments": {},
   "cell_type": "markdown",
   "metadata": {},
   "source": [
    "## 乱数の生成\n",
    "\n",
    "本節の内容は，文献{cite}`Odaka2018` を参考にしている．\n",
    "\n",
    "確率モデルをシミュレーションするためには，ランダムに変化する値を生成する必要がある．\n",
    "これを**乱数**と呼ぶ．"
   ]
  },
  {
   "attachments": {},
   "cell_type": "markdown",
   "metadata": {},
   "source": [
    "### 一様乱数の生成"
   ]
  },
  {
   "attachments": {},
   "cell_type": "markdown",
   "metadata": {},
   "source": [
    "#### 乱数と疑似乱数\n",
    "\n",
    "ある数列が与えられたとき，並び方に規則性や周期性がない場合，この数列の各要素を**乱数**と呼ぶ．\n",
    "乱数を取得するにはいくつかの方法がある．\n",
    "例えば，サイコロを振って出た目は乱数の一種である．\n",
    "また，カオスや量子力学的な性質を利用した乱数は**物理乱数**と呼ばれる．\n",
    "\n",
    "一方，コンピュータ上で乱数を使ったシミュレーションを行うためには，乱数生成アルゴリズムによって求めた乱数を用いる．\n",
    "この乱数は，完全にランダムな値ではなく，アルゴリズムが分かれば値を予測することができてしまうため，**疑似乱数**と呼ばれる．\n",
    "しかし，疑似乱数でもアルゴリズムを工夫すれば，十分にランダムに見える値を生成することができるため，乱数として扱うことができる．"
   ]
  },
  {
   "attachments": {},
   "cell_type": "markdown",
   "metadata": {},
   "source": [
    "#### 線形合同法\n",
    "\n",
    "\n",
    "\n",
    "```{admonition} 線形合同法のアルゴリズム\n",
    "1. 以下の条件を満たす整数 $ a, b, M $ を決める：\n",
    "   \n",
    "   $$\n",
    "    0 < a < M\\\\\n",
    "    0 \\leq b < M\n",
    "   $$\n",
    "   \n",
    "2. 乱数列の初期値 $ x_0 $ を決める（乱数の**シード**と呼ぶ）．\n",
    "3. 以下の漸化式によって乱数列 $ \\{x_n\\} $ を生成する：\n",
    "    \n",
    "    $$\n",
    "    x_{n+1} = (ax_{n} + b) \\% M\n",
    "    $$\n",
    "    \n",
    "    ※ $ \\% $ は剰余を表す．\n",
    "\n",
    "```"
   ]
  },
  {
   "attachments": {},
   "cell_type": "markdown",
   "metadata": {},
   "source": [
    "### 任意の確率分布に従う乱数の生成"
   ]
  },
  {
   "attachments": {},
   "cell_type": "markdown",
   "metadata": {},
   "source": [
    "#### 逆関数法"
   ]
  },
  {
   "attachments": {},
   "cell_type": "markdown",
   "metadata": {},
   "source": [
    "## 大数の法則と中心極限定理"
   ]
  },
  {
   "attachments": {},
   "cell_type": "markdown",
   "metadata": {},
   "source": [
    "### ベルヌーイ試行"
   ]
  },
  {
   "attachments": {},
   "cell_type": "markdown",
   "metadata": {},
   "source": [
    "### 二項分布"
   ]
  },
  {
   "attachments": {},
   "cell_type": "markdown",
   "metadata": {},
   "source": [
    "### 大数の法則"
   ]
  },
  {
   "attachments": {},
   "cell_type": "markdown",
   "metadata": {},
   "source": [
    "### 中心極限定理"
   ]
  },
  {
   "attachments": {},
   "cell_type": "markdown",
   "metadata": {},
   "source": [
    "## ランダムウォーク"
   ]
  }
 ],
 "metadata": {
  "kernelspec": {
   "display_name": "myenv",
   "language": "python",
   "name": "python3"
  },
  "language_info": {
   "codemirror_mode": {
    "name": "ipython",
    "version": 3
   },
   "file_extension": ".py",
   "mimetype": "text/x-python",
   "name": "python",
   "nbconvert_exporter": "python",
   "pygments_lexer": "ipython3",
   "version": "3.9.13"
  },
  "vscode": {
   "interpreter": {
    "hash": "911fd4aa1eca4252368dc27db61226a38a6cfe922f9bbc90c7d50e9c97ede316"
   }
  }
 },
 "nbformat": 4,
 "nbformat_minor": 2
}