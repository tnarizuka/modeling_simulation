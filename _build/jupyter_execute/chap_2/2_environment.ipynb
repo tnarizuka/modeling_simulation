{
 "cells": [
  {
   "cell_type": "code",
   "execution_count": 1,
   "metadata": {},
   "outputs": [],
   "source": [
    "import numpy as np\n",
    "import matplotlib.pyplot as plt\n",
    "from mpl_toolkits.mplot3d import Axes3D\n",
    "import pandas as pd\n",
    "import scipy as sp\n",
    "from scipy.optimize import curve_fit\n",
    "from scipy.stats import bernoulli, norm, poisson, expon\n",
    "\n",
    "# 日本語フォントの設定（Mac:'Hiragino Sans', Windows:'MS Gothic'）\n",
    "plt.rcParams['font.family'] = 'Hiragino Sans'"
   ]
  },
  {
   "attachments": {},
   "cell_type": "markdown",
   "metadata": {},
   "source": [
    "# 準備"
   ]
  },
  {
   "attachments": {},
   "cell_type": "markdown",
   "metadata": {},
   "source": [
    "## プログラミング環境の構築"
   ]
  },
  {
   "attachments": {},
   "cell_type": "markdown",
   "metadata": {},
   "source": [
    "### Anacondaのインストール\n",
    "\n",
    "既に「プログラミング基礎」の授業内でAnacondaをインストールしているはずなので，以下ではインストールの概要だけ述べる．詳細は[Python.jp](https://www.python.jp/install/anaconda/windows/install.html)や[Let'sプログラミング](https://www.javadrive.jp/python/install/index5.html)などが参考になる．\n",
    "\n",
    "- [Anacondaの公式サイト](https://www.anaconda.com/products/individual)にアクセスする\n",
    "- 下にスクロールし，\"Anaconda Installers\"から環境に応じたインストーラをダウンロードする\n",
    "- ダウンロードしたインストーラをクリックし，画面の指示に従う\n",
    "    - 途中で，`add Anaconda to the system Pass environment variable`にチェックを入れてPathの設定を行う\n",
    "- Anaconda Navigatorが使えるか確認する"
   ]
  },
  {
   "attachments": {},
   "cell_type": "markdown",
   "metadata": {},
   "source": [
    "### 作業フォルダの作成"
   ]
  },
  {
   "attachments": {},
   "cell_type": "markdown",
   "metadata": {},
   "source": [
    "データ分析では，様々なファイルを扱わなければならない．\n",
    "例えば，本講義では，Pythonのソースコード（`.py`），Jupyter NoteBook（`.ipynb`），データ（`.csv`），図（`.pdf`や`.png`）などのファイルを扱うことになる．\n",
    "これらのファイルが自分のPC内のどこに保存されているかを把握しておかないと，ファイルを探すだけで時間を取られてしまい，時間の無駄である．\n",
    "データ分析を始める際にまず行うべきことは，PC内のフォルダやファイルを整理することである．"
   ]
  },
  {
   "attachments": {},
   "cell_type": "markdown",
   "metadata": {},
   "source": [
    "まず本講義専用の作業フォルダを作成する．\n",
    "名前は自分で分かれば何でも良いが，なるべく半角英数字とし，スペースは絶対に入れないこと．\n",
    "作業フォルダの作成場所はできればクラウドストレージのフォルダ（OneDriveやGoogle Drive）の中に作ることを推奨する（こうすれば，自動的にクラウド上にバックアップされる）．\n",
    "\n",
    "ここでは，`ローカルディスク（C:）>Users>username>OneDrive`の中に`work`という作業フォルダを作ったとする：\n",
    "\n",
    "```\n",
    "[OneDrive]\n",
    "    - [デスクトップ]\n",
    "    - [ドキュメント]\n",
    "    ...\n",
    "    - [work]\n",
    "\n",
    "```"
   ]
  },
  {
   "attachments": {},
   "cell_type": "markdown",
   "metadata": {},
   "source": [
    "本講義で扱うファイルは全てこの`work`の中に保存することを想定する．\n",
    "`work`フォルダの中身は次のように章ごとのサブフォルダやレポート用のフォルダに分けておくと良い：\n",
    "```\n",
    "[work]\n",
    "    - [1_introduction]\n",
    "    - [2_environment]\n",
    "        - 2_environment.ipynb\n",
    "    - [report]\n",
    "    - [others]\n",
    "```"
   ]
  },
  {
   "attachments": {},
   "cell_type": "markdown",
   "metadata": {},
   "source": [
    "### Jupyter Lab\n",
    "\n",
    "本講義ノートは`.ipynb`ファイルとしてダウンロードしてJupyter上で実行可能である．\n",
    "Jupyterの環境構築の方法はいくつかあるので自分の好きな方法を選んで良いが，Anacondaをインストールすると，自動的にJupyter NotebookとJupyter Labが使えるようになる．\n",
    "\n",
    "**Jupyter Labの起動**\n",
    "\n",
    "- Anaconda Navigatorを起動\n",
    "    - ［スタートメニュー］→［Anaconda Navigator (anaconda3)］\n",
    "- ［Jupyter Lab］をクリック\n",
    "\n",
    "**ノートブック（.ipynbファイル）の起動**\n",
    "\n",
    "- `.ipynb`ファイルをダウンロードし，作業フォルダに保存する．\n",
    "    - 講義ノート上部のアイコンから`.ipynb`をクリック\n",
    "    - 自動保存された場合は`ダウンロード`フォルダ内に保存されているはず\n",
    "- Jupyter Labを起動し，左上のフォルダアイコンをクリックする．\n",
    "- .ipynbファイルを保存した作業フォルダに移動し，`.ipynb`ファイルをダブルクリックする．"
   ]
  },
  {
   "attachments": {},
   "cell_type": "markdown",
   "metadata": {},
   "source": [
    "### パス（Path）について\n",
    "\n",
    "#### パスとは何か？\n",
    "Pythonプログラムの実行，自分のPC上のファイルの読み込み，加工したデータの保存を行うには，対象となるファイルの在り処，つまりアドレスが分からないといけない．\n",
    "このアドレスを指定する文字列のことをパス（Path）と呼ぶ．\n",
    "Windowsの場合，パスはフォルダの階層構造を区切り文字`¥`（またはバックスラッシュ`\\`）によって区切った形式で以下のように表される：\n",
    "\n",
    "```\n",
    "C:¥Users¥narizuka¥Documents\n",
    "```"
   ]
  },
  {
   "attachments": {},
   "cell_type": "markdown",
   "metadata": {},
   "source": [
    "フォルダの階層の区切りは`¥`（またはバックスラッシュ`\\\\`）によって表されており，`¥`の隣にはフォルダの名前が記載されている．\n",
    "上の例は，Cドライブ（`C:`）の`Users`フォルダの中の`narizuka`フォルダにある`Documents`フォルダのパスを表す．"
   ]
  },
  {
   "attachments": {},
   "cell_type": "markdown",
   "metadata": {},
   "source": [
    "#### 絶対パスと相対パス\n",
    "パスには絶対パスと相対パスの2種類が存在する．\n",
    "パスを使用する場面の具体例として，matplotlibで描画した図を指定したフォルダ内に保存する場合を考える．\n",
    "まず，以下のプログラムを実行する．"
   ]
  },
  {
   "cell_type": "code",
   "execution_count": 4,
   "metadata": {},
   "outputs": [
    {
     "data": {
      "image/png": "[encoded data removed]",
      "text/plain": [
       "<Figure size 350x300 with 1 Axes>"
      ]
     },
     "metadata": {
      "filenames": {
       "image/png": "/Users/narizuka/work/document/lecture/rissho/modeling_simulation/book/_build/jupyter_execute/chap_2/2_environment_12_0.png"
      }
     },
     "output_type": "display_data"
    }
   ],
   "source": [
    "import matplotlib.pyplot as plt\n",
    "fig, ax = plt.subplots(figsize=(3.5, 3))\n",
    "x = np.arange(-np.pi, np.pi, 0.01)\n",
    "ax.plot(x, np.sin(x))\n",
    "ax.set_xlabel('X軸'); ax.set_ylabel('Y軸');"
   ]
  },
  {
   "attachments": {},
   "cell_type": "markdown",
   "metadata": {},
   "source": [
    "実行がうまくいけば，サイン関数が出力されるはずである．\n",
    "出力された図を自分の作業フォルダに保存するには，`fig.savefig(path)`のように保存先のパスを指定すれば良い．\n",
    "このとき，パスの指定方法には以下の２つの方法が存在する．"
   ]
  },
  {
   "attachments": {},
   "cell_type": "markdown",
   "metadata": {},
   "source": [
    "#### 1. 絶対パスによる指定"
   ]
  },
  {
   "cell_type": "code",
   "execution_count": null,
   "metadata": {},
   "outputs": [],
   "source": [
    "fig.savefig(r\"C:\\Users\\narizuka\\OneDrive\\modeling_simulation_2023\\2_environment\\graph.pdf\")"
   ]
  },
  {
   "attachments": {},
   "cell_type": "markdown",
   "metadata": {},
   "source": [
    "この方法では，最も上の階層であるドライブ名（ここではCドライブ）から始まるパスを指定しており，これを**絶対パス**と呼ぶ．\n",
    "Windowsで絶対パスを取得するには，パスをコピーしたいファイルやフォルダを右クリックし，「パスのコピー」を選択すれば良い．\n",
    "絶対パスを使っておけばエラーは出にくいが，PCの奥深くにあるフォルダだとパスが長くなるという問題がある．\n",
    "\n",
    "なお，Windows環境においてパスをコピーして貼り付けると区切り文字がバックスラッシュ`\\`または`¥`になるはずである．\n",
    "ところが，pythonではバックスラッシュ`\\`と文字を組み合わせたエスケープシーケンスいう特別な文字列が存在し，例えば，`\\n`は改行，`\\t`はタブを表すエスケープシーケンスとなる．\n",
    "これにより，上の例の中にある`\\t`の部分はパスの区切りではなくエスケープシーケンスとして認識され，エラーが出ることがある（特に，pythonでファイルの入出力を行うとき）．\n",
    "これを回避するにはパスの先頭に`r`を付ける．\n",
    "これは，raw文字列と呼ばれ，\"\"の中に指定した文字列をそのままの形で認識させることができる．"
   ]
  },
  {
   "attachments": {},
   "cell_type": "markdown",
   "metadata": {},
   "source": [
    "#### 2. 相対パスによる指定"
   ]
  },
  {
   "cell_type": "code",
   "execution_count": null,
   "metadata": {},
   "outputs": [],
   "source": [
    "fig.savefig(\"./graph2.pdf\")"
   ]
  },
  {
   "cell_type": "markdown",
   "metadata": {},
   "source": [
    "2つ目の方法では，パスが`'.'`から始まっているが，これは現在の居場所（**カレントディレクトリ**と呼ぶ）のパスを意味する．\n",
    "デフォルトではカレントディレクトリは`.ipynb`ファイルが保存されているフォルダとなる．\n",
    "このように，カレントディレクトリのパス`'.'`から始まるパスを**相対パス**と呼ぶ．\n",
    "カレントディレクトリは以下のコマンドにより任意のフォルダに変更することができる．\n",
    "\n",
    "```python\n",
    "import os\n",
    "os.chdir(path)\n",
    "```\n",
    "\n",
    "相対パスを用いると，パスが短くなるので便利であるが，カレントディレクトリがどこなのかを認識しておく必要がある．"
   ]
  },
  {
   "attachments": {},
   "cell_type": "markdown",
   "metadata": {},
   "source": [
    "## Pythonの基礎知識"
   ]
  },
  {
   "attachments": {},
   "cell_type": "markdown",
   "metadata": {},
   "source": [
    "### matplotlibの基礎"
   ]
  },
  {
   "attachments": {},
   "cell_type": "markdown",
   "metadata": {},
   "source": [
    "#### グラフの作成手順\n",
    "\n",
    "matplotlibを用いたグラフ作成にはいくつかのスタイルがあるが，本講義ではオブジェクトを明示的に生成するスタイル（オブジェクト指向スタイル）に従う．\n",
    "このスタイルでは，`plt.subplots()`を用いて{numref}`fig:fig_axes`のようにFigureオブジェクトとAxesオブジェクトを生成し，個々のAxesオブジェクトに対してプロットを行う．"
   ]
  },
  {
   "attachments": {},
   "cell_type": "markdown",
   "metadata": {},
   "source": [
    "```{figure} ../figure/fig_axes.png\n",
    "---\n",
    "height: 250px\n",
    "name: fig:fig_axes\n",
    "---\n",
    "MatplotlibにおけるFigureオブジェクトとAxesオブジェクト\n",
    "```"
   ]
  },
  {
   "attachments": {},
   "cell_type": "markdown",
   "metadata": {},
   "source": [
    "データのプロット，グラフの装飾，グラフの保存までの手順は以下の通りである．\n",
    "\n",
    "1. FigureオブジェクトとAxesオブジェクトを生成する\n",
    "    ```python\n",
    "    fig, ax = plt.subplots(figsize=(3, 3))\n",
    "    ```\n",
    "2. Axesオブジェクトのメソッドを用いてプロットする\n",
    "    ```python\n",
    "    ax.plot(x, y, option)\n",
    "    ax.bar(x, y, option)\n",
    "    ```\n",
    "3. Axesを装飾する\n",
    "    ```python\n",
    "    ax.set_xlim(xmin, xmax)\n",
    "    ax.set_xlabel('X')\n",
    "    ```\n",
    "4. Figureを保存する\n",
    "    ```python\n",
    "    fig.savefig('abc.pdf', dpi=80, transparent=True, bbox_inches='tight', pad_inches=0.2)\n",
    "    ```"
   ]
  },
  {
   "cell_type": "code",
   "execution_count": 15,
   "metadata": {},
   "outputs": [
    {
     "data": {
      "image/png": "[encoded data removed]",
      "text/plain": [
       "<Figure size 500x300 with 1 Axes>"
      ]
     },
     "metadata": {
      "filenames": {
       "image/png": "/Users/narizuka/work/document/lecture/rissho/modeling_simulation/book/_build/jupyter_execute/chap_2/2_environment_25_0.png"
      }
     },
     "output_type": "display_data"
    }
   ],
   "source": [
    "# FigureとAxesを生成する\n",
    "fig, ax = plt.subplots(figsize=(5, 3))\n",
    "\n",
    "# Axesに対してプロットする\n",
    "x = np.linspace(0, 2*np.pi, 20)\n",
    "ax.plot(x, 2*np.sin(x), 'bo--');  # 青のoを点線で結ぶ\n",
    "\n",
    "# Axesを装飾する\n",
    "ax.set_xlim(0, 2*np.pi); ax.set_ylim(-2.1, 2.1)\n",
    "ax.set_xlabel('X軸'); ax.set_ylabel('Y軸')\n",
    "\n",
    "# Figureを保存する（相対パスを指定）\n",
    "fig.savefig('./sin.pdf', bbox_inches=\"tight\", pad_inches=0.2, transparent=False, dpi=300);"
   ]
  },
  {
   "attachments": {},
   "cell_type": "markdown",
   "metadata": {},
   "source": [
    "#### 基本のプロット関数"
   ]
  },
  {
   "attachments": {},
   "cell_type": "markdown",
   "metadata": {},
   "source": [
    "Matplotlibの最も基本的なプロット関数が`pyplot.plot()`である．\n",
    "Axesオブジェクトを`ax`として取得したい場合，`plot`関数は以下のように実行する：\n",
    "```python\n",
    "ax.plot(x, y, 'rx-', option)\n",
    "```\n",
    "`plot`関数の第3引数は色・マーカー・線種を同時指定することができる．\n",
    "主要なoptionを以下にまとめる．"
   ]
  },
  {
   "attachments": {},
   "cell_type": "markdown",
   "metadata": {},
   "source": [
    "| オプション名 | 省略表記 | 内容 | 指定の仕方（例） | \n",
    "| ---- | ---- | ---- | ---- |\n",
    "| color | c | 色 | 'k'(='black'), 'r'(='red'), 'b'(='blue') |\n",
    "| linestyle | ls | 線種 | '-', '--', ':' , '-.', 'None' |\n",
    "| marker | なし |マーカーの種類 | 'x', 'o', '^', '.', '+', 's', 'd' |\n",
    "| markersize | ms | マーカーのサイズ | 数値 |\n",
    "| markeredgecolor | mec | マーカーの境界の色 | 色名 |\n",
    "| markerfacecolor | mfc | マーカーの塗りつぶしの色 | 色名 |\n",
    "| linewidth | lw | 線の太さ | 数値 |\n",
    "| alpha | なし | 透過度 | 0~1 |"
   ]
  },
  {
   "cell_type": "code",
   "execution_count": 13,
   "metadata": {},
   "outputs": [
    {
     "data": {
      "image/png": "[encoded data removed]",
      "text/plain": [
       "<Figure size 500x300 with 1 Axes>"
      ]
     },
     "metadata": {
      "filenames": {
       "image/png": "/Users/narizuka/work/document/lecture/rissho/modeling_simulation/book/_build/jupyter_execute/chap_2/2_environment_29_0.png"
      }
     },
     "output_type": "display_data"
    }
   ],
   "source": [
    "'''FigureとAxesの生成'''\n",
    "fig, ax = plt.subplots(figsize=(5, 3))\n",
    "\n",
    "'''Axesに対する描画'''\n",
    "x = np.linspace(0, 10, 30)\n",
    "ax.plot(x, np.sin(x), '-', label='A')\n",
    "ax.plot(x, np.sin(x-np.pi/2), 'x-.', label='B')\n",
    "ax.plot(x, np.sin(x-2*np.pi/2), '^--', label='C')\n",
    "\n",
    "''' Axesの装飾 '''\n",
    "# 座標軸の範囲の設定\n",
    "ax.set_xlim(0, 10)\n",
    "ax.set_ylim(-3, 3)\n",
    "\n",
    "# アスペクト比\n",
    "ax.set_aspect('equal')\n",
    "\n",
    "# タイトル\n",
    "ax.set_title('三角関数のグラフ', fontsize=12)\n",
    "\n",
    "# 軸ラベル\n",
    "ax.set_xlabel('角度 $X$ [rad]', fontsize=12)\n",
    "ax.set_ylabel('$Y$', fontsize=12)\n",
    "\n",
    "# 凡例\n",
    "ax.legend(loc='best', frameon=True, fontsize=8, numpoints=1)\n",
    "\n",
    "# 補助目盛りの表示\n",
    "ax.minorticks_on()\n",
    "\n",
    "# 目盛線の表示\n",
    "ax.grid(axis='both', which='major', linestyle='--')\n",
    "\n",
    "# 目盛りラベルを文字列に変更\n",
    "ax.set_xticks([0, np.pi, 2*np.pi, 3*np.pi])\n",
    "ax.set_xticklabels(['0', '$\\pi$', '$2\\pi$', '$3\\pi$'])\n",
    "\n",
    "# 目盛りのラベルサイズ\n",
    "ax.tick_params(axis='both', labelsize=12)\n",
    "\n",
    "'''Figureの保存'''\n",
    "fig.savefig('./multi_sin.pdf', bbox_inches='tight')"
   ]
  },
  {
   "attachments": {},
   "cell_type": "markdown",
   "metadata": {},
   "source": [
    "#### ヒストグラム"
   ]
  },
  {
   "attachments": {},
   "cell_type": "markdown",
   "metadata": {},
   "source": [
    "Matplotlibで1次元ヒストグラムを描画するには`ax.hist()`を用いる：\n",
    "\n",
    "```python\n",
    "ax.hist(data, bins, option)\n",
    "```\n",
    "- 第１引数には数値データを与える．\n",
    "- `bins`引数には，ヒストグラムの階級数（または各階級の左端の値）を指定する．\n",
    "- 例えば，`bins=n`とした場合，１つの階級の大きさは`(最大値-最小値) / n`となる．"
   ]
  },
  {
   "cell_type": "code",
   "execution_count": 2,
   "metadata": {},
   "outputs": [
    {
     "data": {
      "image/png": "[encoded data removed]",
      "text/plain": [
       "<Figure size 350x300 with 1 Axes>"
      ]
     },
     "metadata": {
      "filenames": {
       "image/png": "/Users/narizuka/work/document/lecture/rissho/modeling_simulation/book/_build/jupyter_execute/chap_2/2_environment_32_0.png"
      }
     },
     "output_type": "display_data"
    }
   ],
   "source": [
    "# データの作成\n",
    "np.random.seed(20)\n",
    "data = np.random.normal(170, 10, 1000)\n",
    "\n",
    "# ヒストグラムの描画\n",
    "fig, ax = plt.subplots()\n",
    "ret = ax.hist(data, bins=10, color='gray', edgecolor='k')  # 階級数10\n",
    "\n",
    "# 軸のラベル\n",
    "ax.set_xlabel('$X$', fontsize=15)\n",
    "ax.set_ylabel('Frequency', fontsize=15)\n",
    "ax.set_xticks(np.arange(130, 210, 10));"
   ]
  },
  {
   "attachments": {},
   "cell_type": "markdown",
   "metadata": {},
   "source": [
    "**ヒストグラムの装飾**\n",
    "\n",
    "`ax.hist`メソッドにも，色やスタイルを変更するためのオプションが多数用意されている．\n",
    "主要なオプションを以下にまとめる．"
   ]
  },
  {
   "attachments": {},
   "cell_type": "markdown",
   "metadata": {},
   "source": [
    "| オプション |  内容 | 指定の仕方（例） | \n",
    "| ---- | ---- | ---- |\n",
    "| histtype | ヒストグラムのスタイル | 'bar', 'step', 'stepfilled', 'barstacked' |\n",
    "| color | 塗りつぶしの色 | 色名 |\n",
    "| edgecolor | 枠線の色 | 色名 |\n",
    "| linewidth | 枠線の太さ | 数値 |\n",
    "| linestyle | 線種 | '-', '--', '-.', ':' |\n",
    "| rwidth | バーの幅 | 数値（0~1） |\n",
    "| align | バーの中央を階級のどこに合わせるか | 'left'（階級の左端）, 'mid'（階級の中央＝デフォルト）, 'right'（階級の右端） |\n",
    "| density | Trueの場合は縦軸を相対度数に変更 | True/False |\n",
    "| cumulative | Trueの場合は縦軸を累積度数に変更 | 1（下側累積）, 0, -1（上側累積） |"
   ]
  },
  {
   "cell_type": "code",
   "execution_count": 5,
   "metadata": {},
   "outputs": [
    {
     "data": {
      "image/png": "[encoded data removed]",
      "text/plain": [
       "<Figure size 350x300 with 1 Axes>"
      ]
     },
     "metadata": {
      "filenames": {
       "image/png": "/Users/narizuka/work/document/lecture/rissho/modeling_simulation/book/_build/jupyter_execute/chap_2/2_environment_35_0.png"
      }
     },
     "output_type": "display_data"
    }
   ],
   "source": [
    "# データの作成\n",
    "np.random.seed(20)\n",
    "data = np.random.normal(170, 10, 1000)\n",
    "\n",
    "fig, ax = plt.subplots()\n",
    "ret = ax.hist(data, \n",
    "              bins=10,\n",
    "              # bins=[-4, -3, -2, -1, 0, 1, 2, 3, 4], # 階級の左端の値を指定する場合\n",
    "              histtype='bar',  # ヒストグラムのスタイルを棒グラフに\n",
    "              color='c',       # バーの色をシアンに\n",
    "              edgecolor='k',   # バーの枠線の色を黒に\n",
    "              linewidth=0.5,   # バーの枠線の太さを1に\n",
    "              linestyle='--',  # 枠線を点線に\n",
    "              density=True     # 縦軸を相対度数に\n",
    "              )\n",
    "\n",
    "# 軸のラベル\n",
    "ax.set_xlabel('$X$', fontsize=15)\n",
    "ax.set_ylabel('Relative Frequency', fontsize=15)\n",
    "ax.set_xticks(np.arange(130, 210, 10));"
   ]
  },
  {
   "attachments": {},
   "cell_type": "markdown",
   "metadata": {},
   "source": [
    "### `scipy.stats`の基礎"
   ]
  },
  {
   "attachments": {},
   "cell_type": "markdown",
   "metadata": {},
   "source": [
    "Pythonには，科学技術計算に特化した `scipy` というライブラリが存在する．\n",
    "確率分布に関する計算（例えば，正規分布に従う乱数の生成など）には，`numpy`を使用することもできるが，`scipy.stats`の方が機能が充実している．\n",
    "ここでは，`scipy`の中で確率分布や乱数に関する機能をまとめた`sciy.stats`の基礎をまとめる．\n",
    "`scipy`のその他の機能についてはその都度解説する．\n",
    "\n",
    "まず，本講義では，`scipy`を`sp`という名前でインポートする："
   ]
  },
  {
   "cell_type": "code",
   "execution_count": 7,
   "metadata": {},
   "outputs": [],
   "source": [
    "import scipy as sp"
   ]
  },
  {
   "attachments": {},
   "cell_type": "markdown",
   "metadata": {},
   "source": [
    "`scipy`には，確率分布の種類別に様々なメソッドが用意されており，\n",
    "\n",
    "```python\n",
    "sp.stats.確率分布名.メソッド名\n",
    "```\n",
    "\n",
    "のように使用する．\n",
    "例えば，標準正規分布（平均0，標準偏差1のNormal Distribution）に従うサイズ10の標本を生成するには以下のように`rvs`メソッドを用いる"
   ]
  },
  {
   "cell_type": "code",
   "execution_count": 8,
   "metadata": {},
   "outputs": [
    {
     "data": {
      "text/plain": [
       "array([ 0.14160215, -0.54994744,  1.13429327,  0.79154247, -0.03539083,\n",
       "       -0.19502139, -1.03818828,  0.44388096,  0.96066003, -0.43036345])"
      ]
     },
     "execution_count": 8,
     "metadata": {},
     "output_type": "execute_result"
    }
   ],
   "source": [
    "sp.stats.norm.rvs(loc=0, scale=1, size=10)"
   ]
  },
  {
   "attachments": {},
   "cell_type": "markdown",
   "metadata": {},
   "source": [
    "**[主要な確率分布](https://docs.scipy.org/doc/scipy/reference/stats.html)**"
   ]
  },
  {
   "attachments": {},
   "cell_type": "markdown",
   "metadata": {},
   "source": [
    "| コマンド | 確率分布 |\n",
    "| --- | --- |\n",
    "| `sp.stats.bernoulli` | ベルヌーイ分布 |\n",
    "| `sp.stats.binom` | 二項分布 |\n",
    "| `sp.stats.poisson` | ポアソン分布 |\n",
    "| `sp.stats.geom` | 幾何分布 |\n",
    "| `sp.stats.norm` | 正規分布 |\n",
    "| `sp.stats.expon` | 指数分布 |\n",
    "| `sp.stats.gamma` | ガンマ分布 |"
   ]
  },
  {
   "attachments": {},
   "cell_type": "markdown",
   "metadata": {},
   "source": [
    "**主なメソッド**"
   ]
  },
  {
   "attachments": {},
   "cell_type": "markdown",
   "metadata": {},
   "source": [
    "| メソッド | 内容 | 備考 |\n",
    "| --- | --- | --- |\n",
    "| `rvs` | 対応する確率分布に従うデータを生成する |\n",
    "| `pmf` | 確率質量関数を計算する | 離散型確率分布のみ |\n",
    "| `pdf` | 確率密度関数を計算する | 連続型確率分布のみ |\n",
    "| `cdf` | 累積分布関数を計算する | |\n",
    "| `ppf` | パーセント点に対応する`x`の値を計算する | |"
   ]
  },
  {
   "attachments": {},
   "cell_type": "markdown",
   "metadata": {},
   "source": [
    "#### 例：ポアソン分布"
   ]
  },
  {
   "cell_type": "code",
   "execution_count": 9,
   "metadata": {},
   "outputs": [],
   "source": [
    "# ポアソン分布に従うサイズ100の標本を生成\n",
    "data = sp.stats.poisson.rvs(mu=3, size=100)"
   ]
  },
  {
   "cell_type": "code",
   "execution_count": 10,
   "metadata": {},
   "outputs": [
    {
     "data": {
      "text/plain": [
       "[<matplotlib.lines.Line2D at 0x1cb942520>]"
      ]
     },
     "execution_count": 10,
     "metadata": {},
     "output_type": "execute_result"
    },
    {
     "data": {
      "image/png": "[encoded data removed]",
      "text/plain": [
       "<Figure size 350x300 with 1 Axes>"
      ]
     },
     "metadata": {
      "filenames": {
       "image/png": "/Users/narizuka/work/document/lecture/rissho/modeling_simulation/book/_build/jupyter_execute/chap_2/2_environment_47_1.png"
      }
     },
     "output_type": "display_data"
    }
   ],
   "source": [
    "# ヒストグラムを描画する\n",
    "fig, ax = plt.subplots()\n",
    "ret = ax.hist(data, bins=np.arange(data.max()+2)-0.5, density=1, color='gray', edgecolor='k', rwidth=0.5)  # 階級数10\n",
    "\n",
    "# 確率質量関数を描画する\n",
    "k = np.arange(0, 10, 1)\n",
    "ax.plot(k, sp.stats.poisson.pmf(k, mu=3), 'r-')"
   ]
  },
  {
   "attachments": {},
   "cell_type": "markdown",
   "metadata": {},
   "source": [
    "#### 例：正規分布"
   ]
  },
  {
   "cell_type": "code",
   "execution_count": 11,
   "metadata": {},
   "outputs": [],
   "source": [
    "# 標準正規分布に従うサイズ100の標本を生成\n",
    "data = sp.stats.norm.rvs(size=100)"
   ]
  },
  {
   "cell_type": "code",
   "execution_count": 12,
   "metadata": {},
   "outputs": [
    {
     "data": {
      "text/plain": [
       "[<matplotlib.lines.Line2D at 0x1cb9ba0a0>]"
      ]
     },
     "execution_count": 12,
     "metadata": {},
     "output_type": "execute_result"
    },
    {
     "data": {
      "image/png": "[encoded data removed]",
      "text/plain": [
       "<Figure size 350x300 with 1 Axes>"
      ]
     },
     "metadata": {
      "filenames": {
       "image/png": "/Users/narizuka/work/document/lecture/rissho/modeling_simulation/book/_build/jupyter_execute/chap_2/2_environment_50_1.png"
      }
     },
     "output_type": "display_data"
    }
   ],
   "source": [
    "# ヒストグラムを描画する\n",
    "fig, ax = plt.subplots()\n",
    "ret = ax.hist(data, bins=10, density=1, color='gray', edgecolor='k')  # 階級数10\n",
    "\n",
    "# 確率密度関数を描画する\n",
    "x = np.arange(-5, 5, 0.1)\n",
    "ax.plot(x, sp.stats.norm.pdf(x, loc=0, scale=1), 'r-')"
   ]
  }
 ],
 "metadata": {
  "kernelspec": {
   "display_name": "Python 3.9.13 ('myenv')",
   "language": "python",
   "name": "python3"
  },
  "language_info": {
   "codemirror_mode": {
    "name": "ipython",
    "version": 3
   },
   "file_extension": ".py",
   "mimetype": "text/x-python",
   "name": "python",
   "nbconvert_exporter": "python",
   "pygments_lexer": "ipython3",
   "version": "3.9.13"
  },
  "toc-autonumbering": true,
  "toc-showcode": false,
  "toc-showmarkdowntxt": false,
  "toc-showtags": false,
  "vscode": {
   "interpreter": {
    "hash": "911fd4aa1eca4252368dc27db61226a38a6cfe922f9bbc90c7d50e9c97ede316"
   }
  }
 },
 "nbformat": 4,
 "nbformat_minor": 4
}