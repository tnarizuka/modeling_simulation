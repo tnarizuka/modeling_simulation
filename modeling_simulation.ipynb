{
 "cells": [
  {
   "cell_type": "code",
   "execution_count": 1,
   "metadata": {},
   "outputs": [],
   "source": [
    "import numpy as np\n",
    "import matplotlib.pyplot as plt\n",
    "import pandas as pd\n",
    "import scipy as sp\n",
    "from scipy.optimize import curve_fit"
   ]
  },
  {
   "attachments": {},
   "cell_type": "markdown",
   "metadata": {},
   "source": [
    "# カーブフィッティング"
   ]
  },
  {
   "attachments": {},
   "cell_type": "markdown",
   "metadata": {},
   "source": [
    "## 回帰分析"
   ]
  },
  {
   "attachments": {},
   "cell_type": "markdown",
   "metadata": {},
   "source": [
    "### サッカー選手のプロフィール"
   ]
  },
  {
   "cell_type": "code",
   "execution_count": 2,
   "metadata": {},
   "outputs": [],
   "source": [
    "data = pd.read_csv('./chap_3/soccer_player_europe_2017.csv')"
   ]
  },
  {
   "cell_type": "code",
   "execution_count": 4,
   "metadata": {},
   "outputs": [
    {
     "data": {
      "text/html": [
       "<div>\n",
       "<style scoped>\n",
       "    .dataframe tbody tr th:only-of-type {\n",
       "        vertical-align: middle;\n",
       "    }\n",
       "\n",
       "    .dataframe tbody tr th {\n",
       "        vertical-align: top;\n",
       "    }\n",
       "\n",
       "    .dataframe thead th {\n",
       "        text-align: right;\n",
       "    }\n",
       "</style>\n",
       "<table border=\"1\" class=\"dataframe\">\n",
       "  <thead>\n",
       "    <tr style=\"text-align: right;\">\n",
       "      <th></th>\n",
       "      <th>name</th>\n",
       "      <th>player_id</th>\n",
       "      <th>team_id</th>\n",
       "      <th>role</th>\n",
       "      <th>height</th>\n",
       "      <th>weight</th>\n",
       "      <th>foot</th>\n",
       "      <th>nationality</th>\n",
       "      <th>birth_area</th>\n",
       "      <th>birthday</th>\n",
       "      <th>league</th>\n",
       "    </tr>\n",
       "  </thead>\n",
       "  <tbody>\n",
       "    <tr>\n",
       "      <th>403</th>\n",
       "      <td>K_Taylor</td>\n",
       "      <td>515791</td>\n",
       "      <td>1659</td>\n",
       "      <td>MD</td>\n",
       "      <td>0</td>\n",
       "      <td>0</td>\n",
       "      <td>NaN</td>\n",
       "      <td>England</td>\n",
       "      <td>England</td>\n",
       "      <td>1999/08/28</td>\n",
       "      <td>England</td>\n",
       "    </tr>\n",
       "    <tr>\n",
       "      <th>559</th>\n",
       "      <td>E_Taha</td>\n",
       "      <td>404227</td>\n",
       "      <td>3772</td>\n",
       "      <td>FW</td>\n",
       "      <td>180</td>\n",
       "      <td>0</td>\n",
       "      <td>right</td>\n",
       "      <td>France</td>\n",
       "      <td>France</td>\n",
       "      <td>1999/03/14</td>\n",
       "      <td>France</td>\n",
       "    </tr>\n",
       "    <tr>\n",
       "      <th>645</th>\n",
       "      <td>B_Vérité</td>\n",
       "      <td>499200</td>\n",
       "      <td>3776</td>\n",
       "      <td>MD</td>\n",
       "      <td>0</td>\n",
       "      <td>0</td>\n",
       "      <td>NaN</td>\n",
       "      <td>France</td>\n",
       "      <td>France</td>\n",
       "      <td>1999/04/21</td>\n",
       "      <td>France</td>\n",
       "    </tr>\n",
       "    <tr>\n",
       "      <th>691</th>\n",
       "      <td>I_Aaneba</td>\n",
       "      <td>449882</td>\n",
       "      <td>3779</td>\n",
       "      <td>DF</td>\n",
       "      <td>0</td>\n",
       "      <td>0</td>\n",
       "      <td>right</td>\n",
       "      <td>France</td>\n",
       "      <td>France</td>\n",
       "      <td>1999/05/29</td>\n",
       "      <td>France</td>\n",
       "    </tr>\n",
       "    <tr>\n",
       "      <th>740</th>\n",
       "      <td>Vagner</td>\n",
       "      <td>351851</td>\n",
       "      <td>3782</td>\n",
       "      <td>MD</td>\n",
       "      <td>0</td>\n",
       "      <td>0</td>\n",
       "      <td>right</td>\n",
       "      <td>Cap_Verd_Islands</td>\n",
       "      <td>Cap_Verd_Islands</td>\n",
       "      <td>1996/01/10</td>\n",
       "      <td>France</td>\n",
       "    </tr>\n",
       "    <tr>\n",
       "      <th>897</th>\n",
       "      <td>R_Aï_Nouri</td>\n",
       "      <td>565016</td>\n",
       "      <td>3799</td>\n",
       "      <td>DF</td>\n",
       "      <td>0</td>\n",
       "      <td>0</td>\n",
       "      <td>NaN</td>\n",
       "      <td>France</td>\n",
       "      <td>France</td>\n",
       "      <td>2001/06/06</td>\n",
       "      <td>France</td>\n",
       "    </tr>\n",
       "    <tr>\n",
       "      <th>1198</th>\n",
       "      <td>J_Hoffmanns</td>\n",
       "      <td>337781</td>\n",
       "      <td>2454</td>\n",
       "      <td>DF</td>\n",
       "      <td>176</td>\n",
       "      <td>0</td>\n",
       "      <td>right</td>\n",
       "      <td>Germany</td>\n",
       "      <td>Germany</td>\n",
       "      <td>1997/02/26</td>\n",
       "      <td>Germany</td>\n",
       "    </tr>\n",
       "    <tr>\n",
       "      <th>1203</th>\n",
       "      <td>F_Mayer</td>\n",
       "      <td>391551</td>\n",
       "      <td>2454</td>\n",
       "      <td>DF</td>\n",
       "      <td>190</td>\n",
       "      <td>0</td>\n",
       "      <td>right</td>\n",
       "      <td>Germany</td>\n",
       "      <td>Germany</td>\n",
       "      <td>1998/03/04</td>\n",
       "      <td>Germany</td>\n",
       "    </tr>\n",
       "    <tr>\n",
       "      <th>1232</th>\n",
       "      <td>M_Sündermann</td>\n",
       "      <td>366197</td>\n",
       "      <td>2455</td>\n",
       "      <td>GK</td>\n",
       "      <td>186</td>\n",
       "      <td>0</td>\n",
       "      <td>right</td>\n",
       "      <td>Germany</td>\n",
       "      <td>Germany</td>\n",
       "      <td>1998/05/16</td>\n",
       "      <td>Germany</td>\n",
       "    </tr>\n",
       "    <tr>\n",
       "      <th>1904</th>\n",
       "      <td>L_Sparandeo</td>\n",
       "      <td>360778</td>\n",
       "      <td>3219</td>\n",
       "      <td>DF</td>\n",
       "      <td>0</td>\n",
       "      <td>0</td>\n",
       "      <td>left</td>\n",
       "      <td>Italy</td>\n",
       "      <td>Italy</td>\n",
       "      <td>1999/08/18</td>\n",
       "      <td>Italy</td>\n",
       "    </tr>\n",
       "    <tr>\n",
       "      <th>1909</th>\n",
       "      <td>S_Sanogo</td>\n",
       "      <td>564512</td>\n",
       "      <td>3219</td>\n",
       "      <td>FW</td>\n",
       "      <td>0</td>\n",
       "      <td>0</td>\n",
       "      <td>NaN</td>\n",
       "      <td>Côt_d'Ivoire</td>\n",
       "      <td>Côt_d'Ivoire</td>\n",
       "      <td>2001/12/21</td>\n",
       "      <td>Italy</td>\n",
       "    </tr>\n",
       "    <tr>\n",
       "      <th>2160</th>\n",
       "      <td>Ía_Pino</td>\n",
       "      <td>462312</td>\n",
       "      <td>683</td>\n",
       "      <td>DF</td>\n",
       "      <td>0</td>\n",
       "      <td>0</td>\n",
       "      <td>right</td>\n",
       "      <td>Spain</td>\n",
       "      <td>Spain</td>\n",
       "      <td>1996/01/23</td>\n",
       "      <td>Spain</td>\n",
       "    </tr>\n",
       "    <tr>\n",
       "      <th>2187</th>\n",
       "      <td>Franci_Guerrero</td>\n",
       "      <td>372753</td>\n",
       "      <td>684</td>\n",
       "      <td>FW</td>\n",
       "      <td>185</td>\n",
       "      <td>0</td>\n",
       "      <td>right</td>\n",
       "      <td>Spain</td>\n",
       "      <td>Spain</td>\n",
       "      <td>1996/03/11</td>\n",
       "      <td>Spain</td>\n",
       "    </tr>\n",
       "    <tr>\n",
       "      <th>2254</th>\n",
       "      <td>Brai_Méndez</td>\n",
       "      <td>302550</td>\n",
       "      <td>692</td>\n",
       "      <td>MD</td>\n",
       "      <td>187</td>\n",
       "      <td>0</td>\n",
       "      <td>left</td>\n",
       "      <td>Spain</td>\n",
       "      <td>Spain</td>\n",
       "      <td>1997/01/07</td>\n",
       "      <td>Spain</td>\n",
       "    </tr>\n",
       "    <tr>\n",
       "      <th>2311</th>\n",
       "      <td>Vícto_López</td>\n",
       "      <td>404285</td>\n",
       "      <td>696</td>\n",
       "      <td>DF</td>\n",
       "      <td>0</td>\n",
       "      <td>0</td>\n",
       "      <td>right</td>\n",
       "      <td>Spain</td>\n",
       "      <td>Spain</td>\n",
       "      <td>1997/05/12</td>\n",
       "      <td>Spain</td>\n",
       "    </tr>\n",
       "    <tr>\n",
       "      <th>2337</th>\n",
       "      <td>Hug_Duro</td>\n",
       "      <td>545811</td>\n",
       "      <td>698</td>\n",
       "      <td>FW</td>\n",
       "      <td>0</td>\n",
       "      <td>0</td>\n",
       "      <td>left</td>\n",
       "      <td>Spain</td>\n",
       "      <td>Spain</td>\n",
       "      <td>1999/11/10</td>\n",
       "      <td>Spain</td>\n",
       "    </tr>\n",
       "    <tr>\n",
       "      <th>2338</th>\n",
       "      <td>Davi_Alba</td>\n",
       "      <td>551398</td>\n",
       "      <td>698</td>\n",
       "      <td>DF</td>\n",
       "      <td>0</td>\n",
       "      <td>0</td>\n",
       "      <td>NaN</td>\n",
       "      <td>Spain</td>\n",
       "      <td>Spain</td>\n",
       "      <td>1999/05/05</td>\n",
       "      <td>Spain</td>\n",
       "    </tr>\n",
       "    <tr>\n",
       "      <th>2390</th>\n",
       "      <td>Sergi_Arribas</td>\n",
       "      <td>485794</td>\n",
       "      <td>712</td>\n",
       "      <td>MD</td>\n",
       "      <td>0</td>\n",
       "      <td>0</td>\n",
       "      <td>NaN</td>\n",
       "      <td>Spain</td>\n",
       "      <td>Spain</td>\n",
       "      <td>1995/07/07</td>\n",
       "      <td>Spain</td>\n",
       "    </tr>\n",
       "  </tbody>\n",
       "</table>\n",
       "</div>"
      ],
      "text/plain": [
       "                 name  player_id  team_id role  height  weight   foot  \\\n",
       "403          K_Taylor     515791     1659   MD       0       0    NaN   \n",
       "559            E_Taha     404227     3772   FW     180       0  right   \n",
       "645          B_Vérité     499200     3776   MD       0       0    NaN   \n",
       "691          I_Aaneba     449882     3779   DF       0       0  right   \n",
       "740            Vagner     351851     3782   MD       0       0  right   \n",
       "897        R_Aï_Nouri     565016     3799   DF       0       0    NaN   \n",
       "1198      J_Hoffmanns     337781     2454   DF     176       0  right   \n",
       "1203          F_Mayer     391551     2454   DF     190       0  right   \n",
       "1232     M_Sündermann     366197     2455   GK     186       0  right   \n",
       "1904      L_Sparandeo     360778     3219   DF       0       0   left   \n",
       "1909         S_Sanogo     564512     3219   FW       0       0    NaN   \n",
       "2160          Ía_Pino     462312      683   DF       0       0  right   \n",
       "2187  Franci_Guerrero     372753      684   FW     185       0  right   \n",
       "2254      Brai_Méndez     302550      692   MD     187       0   left   \n",
       "2311      Vícto_López     404285      696   DF       0       0  right   \n",
       "2337         Hug_Duro     545811      698   FW       0       0   left   \n",
       "2338        Davi_Alba     551398      698   DF       0       0    NaN   \n",
       "2390    Sergi_Arribas     485794      712   MD       0       0    NaN   \n",
       "\n",
       "           nationality        birth_area    birthday   league  \n",
       "403            England           England  1999/08/28  England  \n",
       "559             France            France  1999/03/14   France  \n",
       "645             France            France  1999/04/21   France  \n",
       "691             France            France  1999/05/29   France  \n",
       "740   Cap_Verd_Islands  Cap_Verd_Islands  1996/01/10   France  \n",
       "897             France            France  2001/06/06   France  \n",
       "1198           Germany           Germany  1997/02/26  Germany  \n",
       "1203           Germany           Germany  1998/03/04  Germany  \n",
       "1232           Germany           Germany  1998/05/16  Germany  \n",
       "1904             Italy             Italy  1999/08/18    Italy  \n",
       "1909      Côt_d'Ivoire      Côt_d'Ivoire  2001/12/21    Italy  \n",
       "2160             Spain             Spain  1996/01/23    Spain  \n",
       "2187             Spain             Spain  1996/03/11    Spain  \n",
       "2254             Spain             Spain  1997/01/07    Spain  \n",
       "2311             Spain             Spain  1997/05/12    Spain  \n",
       "2337             Spain             Spain  1999/11/10    Spain  \n",
       "2338             Spain             Spain  1999/05/05    Spain  \n",
       "2390             Spain             Spain  1995/07/07    Spain  "
      ]
     },
     "execution_count": 4,
     "metadata": {},
     "output_type": "execute_result"
    }
   ],
   "source": [
    "data.loc[data['weight']==0]"
   ]
  },
  {
   "cell_type": "code",
   "execution_count": 5,
   "metadata": {},
   "outputs": [],
   "source": [
    "# weightが0のデータを削除\n",
    "data = data.loc[data['weight']!=0]"
   ]
  },
  {
   "cell_type": "code",
   "execution_count": 6,
   "metadata": {},
   "outputs": [
    {
     "data": {
      "text/plain": [
       "Text(0, 0.5, 'height')"
      ]
     },
     "execution_count": 6,
     "metadata": {},
     "output_type": "execute_result"
    },
    {
     "data": {
      "image/png": "[encoded data removed]",
      "text/plain": [
       "<Figure size 400x350 with 1 Axes>"
      ]
     },
     "metadata": {},
     "output_type": "display_data"
    }
   ],
   "source": [
    "# 散布図の描画\n",
    "fig, ax = plt.subplots(figsize=(4, 3.5))\n",
    "ax.plot(data['weight'], data['height'], 'x')\n",
    "ax.set_xlabel('weight'); ax.set_ylabel('height')"
   ]
  },
  {
   "cell_type": "code",
   "execution_count": 8,
   "metadata": {},
   "outputs": [],
   "source": [
    "# フィッティング関数\n",
    "f_linear = lambda x, a, b: a*x + b"
   ]
  },
  {
   "cell_type": "code",
   "execution_count": 11,
   "metadata": {},
   "outputs": [
    {
     "data": {
      "text/plain": [
       "Text(0, 0.5, 'height')"
      ]
     },
     "execution_count": 11,
     "metadata": {},
     "output_type": "execute_result"
    },
    {
     "data": {
      "image/png": "[encoded data removed]",
      "text/plain": [
       "<Figure size 350x300 with 1 Axes>"
      ]
     },
     "metadata": {},
     "output_type": "display_data"
    }
   ],
   "source": [
    "p_opt = curve_fit(f_linear, data['weight'], data['height'])[0]\n",
    "\n",
    "fig, ax = plt.subplots()\n",
    "ax.plot(data['weight'], data['height'], 'x', ms=3)\n",
    "x = np.linspace(50, 110, 100)\n",
    "ax.plot(x, f_linear(x, p_opt[0], p_opt[1]), 'r-', mfc='None')\n",
    "ax.set_xlabel('weight'); ax.set_ylabel('height')"
   ]
  },
  {
   "attachments": {},
   "cell_type": "markdown",
   "metadata": {},
   "source": [
    "### Covid19の感染者数推移\n",
    "\n",
    "- https://github.com/CSSEGISandData/COVID-19\n",
    "- https://www.kaggle.com/code/wuhong60909/logistic-growth-model-2020-04-22/notebook#Minimized-loss-function:-scipy.optimize.minimize"
   ]
  },
  {
   "attachments": {},
   "cell_type": "markdown",
   "metadata": {},
   "source": [
    "#### データの整形"
   ]
  },
  {
   "cell_type": "code",
   "execution_count": 3,
   "metadata": {},
   "outputs": [],
   "source": [
    "df = pd.read_csv('./chap_3/time_series_covid19_confirmed_global.csv', header=0)"
   ]
  },
  {
   "cell_type": "code",
   "execution_count": 4,
   "metadata": {},
   "outputs": [],
   "source": [
    "df = df.loc[df['Country/Region'] == 'Korea, South']\n",
    "date = df.iloc[:, 4:].columns\n",
    "num = df.iloc[:, 4:].values[0]"
   ]
  },
  {
   "cell_type": "code",
   "execution_count": 5,
   "metadata": {},
   "outputs": [],
   "source": [
    "date = pd.to_datetime(date)\n",
    "data = pd.DataFrame({'date': date, 'num': num})\n",
    "data.to_csv('./chap_3/covid19_korea.csv', index=False)"
   ]
  },
  {
   "cell_type": "code",
   "execution_count": 6,
   "metadata": {},
   "outputs": [
    {
     "data": {
      "text/html": [
       "<div>\n",
       "<style scoped>\n",
       "    .dataframe tbody tr th:only-of-type {\n",
       "        vertical-align: middle;\n",
       "    }\n",
       "\n",
       "    .dataframe tbody tr th {\n",
       "        vertical-align: top;\n",
       "    }\n",
       "\n",
       "    .dataframe thead th {\n",
       "        text-align: right;\n",
       "    }\n",
       "</style>\n",
       "<table border=\"1\" class=\"dataframe\">\n",
       "  <thead>\n",
       "    <tr style=\"text-align: right;\">\n",
       "      <th></th>\n",
       "      <th>date</th>\n",
       "      <th>num</th>\n",
       "    </tr>\n",
       "  </thead>\n",
       "  <tbody>\n",
       "    <tr>\n",
       "      <th>0</th>\n",
       "      <td>2020-01-22</td>\n",
       "      <td>1</td>\n",
       "    </tr>\n",
       "    <tr>\n",
       "      <th>1</th>\n",
       "      <td>2020-01-23</td>\n",
       "      <td>1</td>\n",
       "    </tr>\n",
       "    <tr>\n",
       "      <th>2</th>\n",
       "      <td>2020-01-24</td>\n",
       "      <td>2</td>\n",
       "    </tr>\n",
       "    <tr>\n",
       "      <th>3</th>\n",
       "      <td>2020-01-25</td>\n",
       "      <td>2</td>\n",
       "    </tr>\n",
       "    <tr>\n",
       "      <th>4</th>\n",
       "      <td>2020-01-26</td>\n",
       "      <td>3</td>\n",
       "    </tr>\n",
       "    <tr>\n",
       "      <th>...</th>\n",
       "      <td>...</td>\n",
       "      <td>...</td>\n",
       "    </tr>\n",
       "    <tr>\n",
       "      <th>1138</th>\n",
       "      <td>2023-03-05</td>\n",
       "      <td>30569215</td>\n",
       "    </tr>\n",
       "    <tr>\n",
       "      <th>1139</th>\n",
       "      <td>2023-03-06</td>\n",
       "      <td>30581499</td>\n",
       "    </tr>\n",
       "    <tr>\n",
       "      <th>1140</th>\n",
       "      <td>2023-03-07</td>\n",
       "      <td>30594297</td>\n",
       "    </tr>\n",
       "    <tr>\n",
       "      <th>1141</th>\n",
       "      <td>2023-03-08</td>\n",
       "      <td>30605187</td>\n",
       "    </tr>\n",
       "    <tr>\n",
       "      <th>1142</th>\n",
       "      <td>2023-03-09</td>\n",
       "      <td>30615522</td>\n",
       "    </tr>\n",
       "  </tbody>\n",
       "</table>\n",
       "<p>1143 rows × 2 columns</p>\n",
       "</div>"
      ],
      "text/plain": [
       "           date       num\n",
       "0    2020-01-22         1\n",
       "1    2020-01-23         1\n",
       "2    2020-01-24         2\n",
       "3    2020-01-25         2\n",
       "4    2020-01-26         3\n",
       "...         ...       ...\n",
       "1138 2023-03-05  30569215\n",
       "1139 2023-03-06  30581499\n",
       "1140 2023-03-07  30594297\n",
       "1141 2023-03-08  30605187\n",
       "1142 2023-03-09  30615522\n",
       "\n",
       "[1143 rows x 2 columns]"
      ]
     },
     "execution_count": 6,
     "metadata": {},
     "output_type": "execute_result"
    }
   ],
   "source": [
    "data"
   ]
  },
  {
   "attachments": {},
   "cell_type": "markdown",
   "metadata": {},
   "source": [
    "#### 演習問題解答"
   ]
  },
  {
   "cell_type": "code",
   "execution_count": 12,
   "metadata": {},
   "outputs": [],
   "source": [
    "# フィッティング関数の定義\n",
    "f_sigmoid = lambda t, a, b, c: a*(1+b*np.exp(-np.clip(c*t, -709, 100000)))**(-1)"
   ]
  },
  {
   "cell_type": "code",
   "execution_count": 15,
   "metadata": {},
   "outputs": [
    {
     "data": {
      "text/html": [
       "<div>\n",
       "<style scoped>\n",
       "    .dataframe tbody tr th:only-of-type {\n",
       "        vertical-align: middle;\n",
       "    }\n",
       "\n",
       "    .dataframe tbody tr th {\n",
       "        vertical-align: top;\n",
       "    }\n",
       "\n",
       "    .dataframe thead th {\n",
       "        text-align: right;\n",
       "    }\n",
       "</style>\n",
       "<table border=\"1\" class=\"dataframe\">\n",
       "  <thead>\n",
       "    <tr style=\"text-align: right;\">\n",
       "      <th></th>\n",
       "      <th>date</th>\n",
       "      <th>num</th>\n",
       "    </tr>\n",
       "  </thead>\n",
       "  <tbody>\n",
       "    <tr>\n",
       "      <th>0</th>\n",
       "      <td>2020-01-22</td>\n",
       "      <td>1</td>\n",
       "    </tr>\n",
       "    <tr>\n",
       "      <th>1</th>\n",
       "      <td>2020-01-23</td>\n",
       "      <td>1</td>\n",
       "    </tr>\n",
       "    <tr>\n",
       "      <th>2</th>\n",
       "      <td>2020-01-24</td>\n",
       "      <td>2</td>\n",
       "    </tr>\n",
       "    <tr>\n",
       "      <th>3</th>\n",
       "      <td>2020-01-25</td>\n",
       "      <td>2</td>\n",
       "    </tr>\n",
       "    <tr>\n",
       "      <th>4</th>\n",
       "      <td>2020-01-26</td>\n",
       "      <td>3</td>\n",
       "    </tr>\n",
       "    <tr>\n",
       "      <th>...</th>\n",
       "      <td>...</td>\n",
       "      <td>...</td>\n",
       "    </tr>\n",
       "    <tr>\n",
       "      <th>1138</th>\n",
       "      <td>2023-03-05</td>\n",
       "      <td>30569215</td>\n",
       "    </tr>\n",
       "    <tr>\n",
       "      <th>1139</th>\n",
       "      <td>2023-03-06</td>\n",
       "      <td>30581499</td>\n",
       "    </tr>\n",
       "    <tr>\n",
       "      <th>1140</th>\n",
       "      <td>2023-03-07</td>\n",
       "      <td>30594297</td>\n",
       "    </tr>\n",
       "    <tr>\n",
       "      <th>1141</th>\n",
       "      <td>2023-03-08</td>\n",
       "      <td>30605187</td>\n",
       "    </tr>\n",
       "    <tr>\n",
       "      <th>1142</th>\n",
       "      <td>2023-03-09</td>\n",
       "      <td>30615522</td>\n",
       "    </tr>\n",
       "  </tbody>\n",
       "</table>\n",
       "<p>1143 rows × 2 columns</p>\n",
       "</div>"
      ],
      "text/plain": [
       "            date       num\n",
       "0     2020-01-22         1\n",
       "1     2020-01-23         1\n",
       "2     2020-01-24         2\n",
       "3     2020-01-25         2\n",
       "4     2020-01-26         3\n",
       "...          ...       ...\n",
       "1138  2023-03-05  30569215\n",
       "1139  2023-03-06  30581499\n",
       "1140  2023-03-07  30594297\n",
       "1141  2023-03-08  30605187\n",
       "1142  2023-03-09  30615522\n",
       "\n",
       "[1143 rows x 2 columns]"
      ]
     },
     "execution_count": 15,
     "metadata": {},
     "output_type": "execute_result"
    }
   ],
   "source": [
    "# データを読み込む\n",
    "data = pd.read_csv('./chap_3/covid19_korea.csv', header=0)\n",
    "data"
   ]
  },
  {
   "cell_type": "code",
   "execution_count": 16,
   "metadata": {},
   "outputs": [
    {
     "data": {
      "text/plain": [
       "RangeIndex(start=0, stop=1143, step=1)"
      ]
     },
     "execution_count": 16,
     "metadata": {},
     "output_type": "execute_result"
    }
   ],
   "source": [
    "data.index"
   ]
  },
  {
   "cell_type": "code",
   "execution_count": 14,
   "metadata": {},
   "outputs": [
    {
     "data": {
      "text/plain": [
       "Text(0, 0.5, 'number of infected')"
      ]
     },
     "execution_count": 14,
     "metadata": {},
     "output_type": "execute_result"
    },
    {
     "data": {
      "image/png": "[encoded data removed]",
      "text/plain": [
       "<Figure size 400x300 with 1 Axes>"
      ]
     },
     "metadata": {},
     "output_type": "display_data"
    }
   ],
   "source": [
    "# 散布図の描画\n",
    "fig, ax = plt.subplots(figsize=(4, 3))\n",
    "ax.plot(data.index[:100], data['num'][:100], 'x')\n",
    "ax.set_xlabel('time (day)'); ax.set_ylabel('number of infected')"
   ]
  },
  {
   "cell_type": "code",
   "execution_count": 17,
   "metadata": {},
   "outputs": [
    {
     "data": {
      "image/png": "[encoded data removed]",
      "text/plain": [
       "<Figure size 350x300 with 1 Axes>"
      ]
     },
     "metadata": {},
     "output_type": "display_data"
    }
   ],
   "source": [
    "p_opt = curve_fit(f_sigmoid, data.index[:50], data['num'][:50])[0]\n",
    "\n",
    "fig, ax = plt.subplots()\n",
    "ax.plot(data.index[:50], data['num'][:50], 'x')\n",
    "x = np.linspace(0, 50, 100)\n",
    "ax.plot(x, f_sigmoid(x, p_opt[0], p_opt[1], p_opt[2]), 'r-', mfc='None')\n",
    "\n",
    "ax.set_xlabel('time (day)'); ax.set_ylabel('Number of infected');"
   ]
  },
  {
   "cell_type": "code",
   "execution_count": 18,
   "metadata": {},
   "outputs": [
    {
     "data": {
      "image/png": "[encoded data removed]",
      "text/plain": [
       "<Figure size 350x300 with 1 Axes>"
      ]
     },
     "metadata": {},
     "output_type": "display_data"
    }
   ],
   "source": [
    "p_opt = curve_fit(f_sigmoid, data.index[:100], data['num'][:100])[0]\n",
    "\n",
    "fig, ax = plt.subplots()\n",
    "ax.plot(data.index[:100], data['num'][:100], 'x')\n",
    "x = np.linspace(0, 100, 100)\n",
    "ax.plot(x, f_sigmoid(x, p_opt[0], p_opt[1], p_opt[2]), 'r-', mfc='None')\n",
    "\n",
    "ax.set_xlabel('time (day)'); ax.set_ylabel('Number of infected');"
   ]
  },
  {
   "attachments": {},
   "cell_type": "markdown",
   "metadata": {},
   "source": [
    "## 最尤推定"
   ]
  },
  {
   "attachments": {},
   "cell_type": "markdown",
   "metadata": {},
   "source": [
    "- http://bebi103.caltech.edu.s3-website-us-east-1.amazonaws.com/2019a/content/lessons/lesson_08/numerical_mle.html\n",
    "- https://www.kamishima.net/mlmpyja/lr/optimization.html\n",
    "- https://qiita.com/Gyutan/items/97b7cb7d30772f2283a1\n",
    "- https://datascience.stackexchange.com/questions/112563/using-scipy-minimize-to-find-the-maximum-likelihood-estimates-for-multivariate-g\n",
    "- https://qiita.com/katsu1110/items/5792250de638e377ee14"
   ]
  },
  {
   "attachments": {},
   "cell_type": "markdown",
   "metadata": {},
   "source": [
    "使用できる最小の数"
   ]
  },
  {
   "cell_type": "code",
   "execution_count": 2,
   "metadata": {},
   "outputs": [
    {
     "name": "stdout",
     "output_type": "stream",
     "text": [
      "2.2250738585072014e-308\n"
     ]
    }
   ],
   "source": [
    "print(np.finfo(np.float64).tiny)"
   ]
  },
  {
   "attachments": {},
   "cell_type": "markdown",
   "metadata": {},
   "source": [
    "ベルヌーイ分布"
   ]
  },
  {
   "cell_type": "code",
   "execution_count": 35,
   "metadata": {},
   "outputs": [
    {
     "name": "stdout",
     "output_type": "stream",
     "text": [
      "     fun: 19.85152473346694\n",
      "     jac: array([0.04098678])\n",
      " message: 'Optimization terminated successfully'\n",
      "    nfev: 36\n",
      "     nit: 13\n",
      "    njev: 13\n",
      "  status: 0\n",
      " success: True\n",
      "       x: array([0.05001947])\n"
     ]
    }
   ],
   "source": [
    "import numpy as np\n",
    "from scipy.stats import bernoulli\n",
    "import scipy as sp\n",
    "\n",
    "# データの生成\n",
    "# np.random.seed(seed=32)\n",
    "x = bernoulli.rvs(p=0.1, size=100)\n",
    "\n",
    "# 負の対数尤度を計算する関数\n",
    "def neg_log_likelihood(p):\n",
    "    return -np.sum(np.log(np.maximum(bernoulli.pmf(x, p), 1e-100))) # 0をlogに入れると-infになるのを防ぐためにnp.maximumを使う\n",
    "\n",
    "# パラメータの初期値\n",
    "x0 = 0.5\n",
    "\n",
    "# パラメータの制約\n",
    "constraints = [{'type': 'ineq', 'fun': lambda p: p - 1e-6}, # p > 0\n",
    "               {'type': 'ineq', 'fun': lambda p: 1 - p - 1e-6}] # p < 1\n",
    "\n",
    "# 負の対数尤度を最小化\n",
    "result = sp.optimize.minimize(neg_log_likelihood, x0=x0, constraints=constraints)\n",
    "\n",
    "print(result)"
   ]
  },
  {
   "attachments": {},
   "cell_type": "markdown",
   "metadata": {},
   "source": [
    "正規分布"
   ]
  },
  {
   "cell_type": "code",
   "execution_count": 41,
   "metadata": {},
   "outputs": [
    {
     "name": "stdout",
     "output_type": "stream",
     "text": [
      "     fun: 445.228377611385\n",
      "     jac: array([6.10351562e-05, 2.28881836e-05])\n",
      " message: 'Optimization terminated successfully'\n",
      "    nfev: 24\n",
      "     nit: 8\n",
      "    njev: 8\n",
      "  status: 0\n",
      " success: True\n",
      "       x: array([100.39742674,  20.76663164])\n"
     ]
    }
   ],
   "source": [
    "import numpy as np\n",
    "from scipy.stats import norm\n",
    "import scipy as sp\n",
    "\n",
    "# データの生成\n",
    "# np.random.seed(seed=32)\n",
    "x = np.random.normal(loc=100, scale=20, size=100)\n",
    "\n",
    "# 負の対数尤度を計算する関数\n",
    "def neg_log_likelihood(params):\n",
    "    mu, sigma = params\n",
    "    return -np.sum(np.log(np.maximum(norm.pdf(x, mu, sigma), 1e-100)))\n",
    "\n",
    "# パラメータの初期値\n",
    "x0 = np.array([100, 20])\n",
    "\n",
    "# パラメータの制約\n",
    "constraints = [{'type': 'ineq', 'fun': lambda params: params[1] - 1e-6}] # sigma > 0\n",
    "\n",
    "# 負の対数尤度を最小化\n",
    "result = sp.optimize.minimize(neg_log_likelihood, x0=x0, constraints=constraints)\n",
    "\n",
    "print(result)"
   ]
  },
  {
   "cell_type": "code",
   "execution_count": 5,
   "metadata": {},
   "outputs": [],
   "source": [
    "data = pd.read_csv('./chap_4/score_germany.csv')\n",
    "data = data['home']"
   ]
  },
  {
   "cell_type": "code",
   "execution_count": 60,
   "metadata": {},
   "outputs": [
    {
     "data": {
      "image/png": "[encoded data removed]",
      "text/plain": [
       "<Figure size 350x300 with 1 Axes>"
      ]
     },
     "metadata": {},
     "output_type": "display_data"
    }
   ],
   "source": [
    "# ヒストグラムを描画する\n",
    "fig, ax = plt.subplots()\n",
    "ret = ax.hist(data, \n",
    "              bins=np.arange(data.max()+2),  # 階級の左端の値を指定する\n",
    "              align='left',  # バーの中央を階級の左端に合わせる\n",
    "              density=1,     # 縦軸を相対度数にする\n",
    "              color='c',       \n",
    "              edgecolor='k', \n",
    "              rwidth=0.5)\n",
    "\n",
    "k, fk = ret[1][:-1], ret[0] # 階級値と相対度数\n",
    "\n",
    "# 最小二乗法によるフィッティング\n",
    "def f_poisson(k, lmd):\n",
    "    return sp.stats.poisson.pmf(k, lmd)\n",
    "\n",
    "p_opt, p_cov = sp.optimize.curve_fit(f_poisson, k, fk)\n",
    "ax.plot(k, sp.stats.poisson.pmf(k, mu=p_opt), 'k-o')\n",
    "\n",
    "# 装飾\n",
    "ax.set_xlabel('$k$', fontsize=12)\n",
    "ax.set_ylabel('相対度数', fontsize=12)\n",
    "ax.set_xticks(k);"
   ]
  }
 ],
 "metadata": {
  "kernelspec": {
   "display_name": "myenv",
   "language": "python",
   "name": "python3"
  },
  "language_info": {
   "codemirror_mode": {
    "name": "ipython",
    "version": 3
   },
   "file_extension": ".py",
   "mimetype": "text/x-python",
   "name": "python",
   "nbconvert_exporter": "python",
   "pygments_lexer": "ipython3",
   "version": "3.9.13"
  },
  "orig_nbformat": 4
 },
 "nbformat": 4,
 "nbformat_minor": 2
}
