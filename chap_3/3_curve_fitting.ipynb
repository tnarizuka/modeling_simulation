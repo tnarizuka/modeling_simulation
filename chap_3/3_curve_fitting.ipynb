{
 "cells": [
  {
   "attachments": {},
   "cell_type": "markdown",
   "metadata": {},
   "source": [
    "# カーブフィッティング"
   ]
  },
  {
   "cell_type": "code",
   "execution_count": 1,
   "metadata": {},
   "outputs": [],
   "source": [
    "import numpy as np\n",
    "import matplotlib.pyplot as plt\n",
    "from mpl_toolkits.mplot3d import Axes3D\n",
    "import pandas as pd\n",
    "import scipy as sp\n",
    "from scipy.optimize import curve_fit\n",
    "from scipy.stats import bernoulli, norm, poisson, expon\n",
    "\n",
    "# 日本語フォントの設定（Mac:'Hiragino Sans', Windows:'MS Gothic'）\n",
    "plt.rcParams['font.family'] = 'Hiragino Sans'"
   ]
  },
  {
   "attachments": {},
   "cell_type": "markdown",
   "metadata": {},
   "source": [
    "## カーブフィッティングとは？"
   ]
  },
  {
   "attachments": {},
   "cell_type": "markdown",
   "metadata": {},
   "source": [
    "手元にあるデータをある理論曲線に当てはめることを**カーブフィッティング**と呼ぶ．\n",
    "データ分析では，以下の場面でカーブフィッティングが用いられる：\n",
    "\n",
    "1. 回帰分析\n",
    "   - 手元のデータから求めた散布図に対して説明変数と目的変数の間の関数関係（理論曲線）を仮定し，パラメータを調整して当てはめる\n",
    "2. 確率分布のパラメータ推定\n",
    "   - 手元のデータから求めたヒストグラムに対して理論的な確率分布を仮定し，そのパラメータを推定する\n",
    "   - 推定したパラメータを用いてヒストグラムに理論分布を当てはめる\n",
    "\n",
    "なお，統計モデルでは，回帰分析における関数関係や理論的な確率分布など，データを当てはめる理論曲線そのものをモデルと呼ぶ．\n",
    "一方，物理モデルでは，理論曲線のことはモデルと呼ばずに，理論曲線を導くための単純化した基礎方程式などをモデルと呼ぶ．"
   ]
  },
  {
   "attachments": {},
   "cell_type": "markdown",
   "metadata": {},
   "source": [
    "## 回帰分析"
   ]
  },
  {
   "attachments": {},
   "cell_type": "markdown",
   "metadata": {},
   "source": [
    "### 単回帰モデル\n",
    "\n",
    "データ $ X, Y $ が与えられたとき，変数 $ X,\\ Y $ の間に\n",
    "\n",
    "$$\n",
    "\ty = f(x; \\boldsymbol{\\theta}) + \\varepsilon\n",
    "$$(eq:regression_model)\n",
    "\n",
    "という関数関係が成り立つとする．\n",
    "ここで，$ f(x; \\boldsymbol{\\theta}) $ は変数 $ X $ の関数で $ \\boldsymbol{\\theta} = (\\theta_1, \\theta_2, \\ldots) $ はパラメータである．\n",
    "また，$ \\varepsilon $ は確率的な誤差を表し，特定の確率分布に従うものとする．\n",
    "この式は，与えられたデータ $ x $ に対して $ y $ を生成する数理モデルであり，**回帰モデル**と呼ばれる．\n",
    "また，$ X $ を**説明変数**（独立変数），$ Y $ を**目的変数**（従属変数，被説明変数）と呼ぶ．\n",
    "**回帰分析**とは，回帰モデルを用いて説明変数と目的変数の間の関係を明らかにする手法である．"
   ]
  },
  {
   "attachments": {},
   "cell_type": "markdown",
   "metadata": {},
   "source": [
    "回帰モデルには様々な種類が存在するが，式{eq}`eq:regression_model`のように説明変数が1つだけの場合を**単回帰モデル**，説明変数が複数ある場合を**重回帰モデル**と呼ぶ．\n",
    "また，説明変数の１次関数で表されるモデルを**線形回帰モデル**，非線形な関数の場合を**非線形回帰モデル**と呼ぶ．\n",
    "以下では，単回帰モデルのみを扱う．"
   ]
  },
  {
   "attachments": {},
   "cell_type": "markdown",
   "metadata": {},
   "source": [
    "### 最小二乗法\n",
    "\n",
    "１つの説明変数 $ X $ と目的変数 $ Y $ について $ n $ 組のデータ $ (x_{1}, y_{1}), \\ldots, (x_{n}, y_{n}) $ を取得したとする．\n",
    "このとき，横軸に変数 $ X $，縦軸に変数 $ Y $ を取ったグラフを**散布図**と呼ぶ．\n",
    "散布図に対し，回帰モデル{eq}`eq:regression_model`のパラメータを変化させて理論曲線をうまく当てはめる作業がカーブフィッティングである．\n",
    "一般に，カーブフィッティングによって得られた式（**回帰曲線**）は，真の値を表す {eq}`eq:regression_model`と区別して以下のようにハット $\\hat{}$ を付けて表す：\n",
    "\n",
    "$$\n",
    "\t\\hat{y} = f(x; \\boldsymbol{\\theta})\n",
    "$$(eq:regression_curve)\n"
   ]
  },
  {
   "attachments": {},
   "cell_type": "markdown",
   "metadata": {},
   "source": [
    "回帰分析では，最適な曲線を求める手法がいくつか存在するが，最も基本的な手法が**最小二乗法**である．\n",
    "最小二乗法では，回帰モデルによる予測値 $ \\hat{y}_{i}=f(x_{i}; \\boldsymbol{\\theta}) $ と実データ $ y_{i} $ の差（**残差**）の二乗和\n",
    "\n",
    "$$\n",
    "\tE(\\boldsymbol{\\theta}) = \\sum_{i=1}^{n}(\\hat{y}-y_{i})^{2} = \\sum_{i=1}^{n}(f(x_{i}; \\boldsymbol{\\theta})-y_{i})^{2}\n",
    "$$(eq:rss)\n",
    "\n",
    "が最小となるようなパラメータ $ \\hat{\\boldsymbol{\\theta}} = (\\hat{\\theta_1}, \\hat{\\theta_2}, \\ldots) $ を選ぶ．\n",
    "このとき，$ E $ のことを**残差変動**（残差平方和）と呼ぶ．\n",
    "残差変動 $ E $ を最小にすることは，$ \\theta_1,\\ \\theta_2,\\ \\ldots $ を変数とする関数 $ E(\\boldsymbol{\\theta}) $ の最小値を求めることと言い換えられる．\n",
    "このための必要条件は，残差変動 $ E(\\boldsymbol{\\theta}) $ の $ \\theta_1,\\ \\theta_2,\\ \\ldots $ による偏微分がゼロになることである：\n",
    "\n",
    "$$\n",
    "\t\\frac{\\partial E}{\\partial \\theta_1} = 0, \\quad \\frac{\\partial E}{\\partial \\theta_2} = 0,\\ \\ldots\n",
    "$$(eq:rss_diff)"
   ]
  },
  {
   "attachments": {},
   "cell_type": "markdown",
   "metadata": {},
   "source": [
    "### 線形単回帰モデル\n",
    "\n",
    "#### 理論\n",
    "\n",
    "線形単回帰モデルは\n",
    "\n",
    "\\begin{align}\n",
    " y = ax + b + \\varepsilon\n",
    "\\end{align}\n",
    "\n",
    "で与えられる．\n",
    "この場合には，最小二乗法による最適なパラメータ $ a,\\ b $ を理論的に求めることができる．\n",
    "実際に条件を適用すると，$ a,\\ b $ を変数とする以下の連立方程式が得られる：\n",
    "\n",
    "\\begin{align*}\n",
    "\t\\sum_{i=1}^{n} (ax_{i}+b-y_{i})x_{i} &= 0 \\\\\n",
    "\t\\sum_{i=1}^{n} (ax_{i}+b-y_{i}) &= 0\n",
    "\\end{align*}\n",
    "\n",
    "この連立方程式を解くと，$ a,\\ b $ は\n",
    "\n",
    "\\begin{align}\n",
    "\ta &=\\frac{\\displaystyle\\left(\\frac{1}{n}\\sum_{i=1}^{n} x_{i}y_{i}\\right) - \\left(\\frac{1}{n} \\sum_{i=1}^{n}x_{i}\\right)\\left(\\frac{1}{n}\\sum_{i=1}^{n}y_{i}\\right)}{\\displaystyle \\left(\\frac{1}{n}\\sum_{i=1}^{n} x_{i}^{2}\\right) -  \\left(\\frac{1}{n}\\sum_{i=1}^{n}x_{i}\\right)^{2}}\n",
    "\t   = \\frac{\\overline{xy}-\\bar{x}\\bar{y}}{\\overline{x^2}-\\bar{x}^2} \\\\[10pt]\n",
    "\tb &= \\left(\\frac{1}{n} \\sum_{i=1}^{n}y_{i}\\right) - a\\left(\\frac{1}{n} \\sum_{i=1}^{n}x_{i}\\right) = \\bar{y} - a \\bar{x}\n",
    "\\end{align}\n",
    "\n",
    "と求まる．"
   ]
  },
  {
   "attachments": {},
   "cell_type": "markdown",
   "metadata": {},
   "source": [
    "なお，傾き $ a $ の式は $ X, Y $ の共分散を $ X $ の分散で割った形になっている（相関係数の式に似ているが違う）．\n",
    "よって，傾き $ a $ が正なら正の相関，負なら負の相関，ゼロなら無相関であることが分かる．"
   ]
  },
  {
   "attachments": {},
   "cell_type": "markdown",
   "metadata": {},
   "source": [
    "#### 決定係数\n",
    "\n",
    "$ n $ 組のデータ $ (x_{1}, y_{1}), \\ldots (x_{n}, y_{n}) $ に対して，データ $ Y $ のばらつきを\n",
    "\n",
    "$$\n",
    "  S_{y}^{2} = \\sum_{i=1}^{n} (y_{i} - \\bar{y})^{2}\n",
    "$$\n",
    "\n",
    "と定義する．\n",
    "これを**全変動**と呼ぶ．\n",
    "また，実データと予測値のズレは残差変動{eq}`eq:rss`によって表される．\n",
    "ここでは，残差変動を\n",
    "\n",
    "$$\n",
    "  \\displaystyle S_{e}^{2} = \\sum_{i=1}^{n} (y_{i} - \\hat{y}_{i})^{2}\n",
    "$$\n",
    "\n",
    "と表す．\n",
    "\n",
    "このとき，回帰直線のデータへの当てはまりの良さを\n",
    "\n",
    "$$\n",
    "\tR^{2} = 1 - \\frac{S_{e}^{2}}{S_{y}^{2}}\n",
    "$$(eq:R2)\n",
    "\n",
    "で定義する．\n",
    "これを**決定係数**と呼ぶ（他の定義もあるので注意）．\n",
    "\n",
    "最小二乗法による単回帰分析の場合，決定係数は $ X,\\ Y $ の相関係数の２乗に等しく，その定義域は $ 0 \\leq R^{2} \\leq 1 $ である．\n",
    "よって，以下が成り立つ\n",
    "- 残差変動 $ S_{e}^{2} $ が小さくなると $ R^{2} $ は $ 1 $ に近づく（データへの当てはまりが良い）\n",
    "- 残差変動 $ S_{e}^{2} $ が大きくなると $ R^{2} $ は $ 0 $ に近づく（データへの当てはまりが悪い）\n",
    "\n",
    "※ 予測値 $ \\hat{y} $ が最小二乗法以外の方法によって決められた場合，決定係数が負になることもあり，さらに相関係数の２乗にはならない．"
   ]
  },
  {
   "attachments": {},
   "cell_type": "markdown",
   "metadata": {},
   "source": [
    "#### Pythonによる実装"
   ]
  },
  {
   "attachments": {},
   "cell_type": "markdown",
   "metadata": {},
   "source": [
    "`scipy`には最小二乗法を用いてカーブフィッティングを実行するための `scipy.optimize.curve_fit` 関数が用意されている．\n",
    "`curve_fit` 関数は以下のように使用する．"
   ]
  },
  {
   "cell_type": "markdown",
   "metadata": {},
   "source": [
    "**1. フィッティングに用いる関数を定義する**"
   ]
  },
  {
   "cell_type": "code",
   "execution_count": 2,
   "metadata": {},
   "outputs": [],
   "source": [
    "# フィッティング関数の定義\n",
    "def func(x, a, b):\n",
    "    return a*x + b"
   ]
  },
  {
   "attachments": {},
   "cell_type": "markdown",
   "metadata": {},
   "source": [
    "この関数は，第1引数に $ x $ 座標のデータ，第２引数以降にパラメータを入力し，出力として $ y $ 座標のデータが得られる．"
   ]
  },
  {
   "cell_type": "markdown",
   "metadata": {},
   "source": [
    "**2. フィッティング対象となる実データを用意する**"
   ]
  },
  {
   "cell_type": "code",
   "execution_count": 3,
   "metadata": {},
   "outputs": [
    {
     "data": {
      "image/png": "[encoded data removed]",
      "text/plain": [
       "<Figure size 350x300 with 1 Axes>"
      ]
     },
     "metadata": {},
     "output_type": "display_data"
    }
   ],
   "source": [
    "# データの作成\n",
    "np.random.seed(1234)\n",
    "x_data = np.linspace(-10, 10, num=100)\n",
    "y_data = func(x_data, 2, 5) + 5.*np.random.randn(x_data.size)\n",
    "\n",
    "fig, ax = plt.subplots()\n",
    "ax.plot(x_data, y_data, 'ko', mfc='None');"
   ]
  },
  {
   "attachments": {},
   "cell_type": "markdown",
   "metadata": {},
   "source": [
    "**3. フィッティングを実行する**\n",
    "\n",
    "`curve_fit` 関数には，第1引数にフィッティング関数，第2, 3引数にデータ，それ以降にオプションを指定する．\n",
    "オプションにはパラメータの初期値 `p0` などを指定することができる．\n",
    "`curve_fit` 関数を実行すると，戻り値として最小二乗法によって得られた最適なパラメータ（`p_opt`） と共分散（`p_cov`）が得られる．"
   ]
  },
  {
   "cell_type": "code",
   "execution_count": 8,
   "metadata": {},
   "outputs": [
    {
     "name": "stdout",
     "output_type": "stream",
     "text": [
      "[1.98277627 5.17556142]\n"
     ]
    }
   ],
   "source": [
    "# フィッティングの実行\n",
    "p_opt, p_cov = curve_fit(func, x_data, y_data)\n",
    "print(p_opt)"
   ]
  },
  {
   "attachments": {},
   "cell_type": "markdown",
   "metadata": {},
   "source": [
    "以下は公式から得られた最適解を求めた結果である．\n",
    "確かに，`curve_fit` 関数から求めた値と同じ値が得られていることが分かる．"
   ]
  },
  {
   "cell_type": "code",
   "execution_count": 9,
   "metadata": {},
   "outputs": [
    {
     "name": "stdout",
     "output_type": "stream",
     "text": [
      "1.9827762695911915 5.1755614156271825\n"
     ]
    }
   ],
   "source": [
    "# 公式から\n",
    "nume = np.mean(x_data * y_data) - np.mean(x_data) * np.mean(y_data)\n",
    "denom = np.mean(x_data**2) - np.mean(x_data)**2\n",
    "a = nume / denom\n",
    "b = np.mean(y_data - a*x_data)\n",
    "print(a, b)"
   ]
  },
  {
   "cell_type": "markdown",
   "metadata": {},
   "source": [
    "**4. フィッティング結果を可視化する**"
   ]
  },
  {
   "cell_type": "code",
   "execution_count": 10,
   "metadata": {},
   "outputs": [
    {
     "data": {
      "image/png": "[encoded data removed]",
      "text/plain": [
       "<Figure size 350x300 with 1 Axes>"
      ]
     },
     "metadata": {},
     "output_type": "display_data"
    }
   ],
   "source": [
    "fig, ax = plt.subplots()\n",
    "ax.plot(x_data, y_data, 'ko', mfc='None')\n",
    "ax.plot(x_data, func(x_data, p_opt[0], p_opt[1]), 'r-', mfc='None');"
   ]
  },
  {
   "attachments": {},
   "cell_type": "markdown",
   "metadata": {},
   "source": [
    "**5. 決定係数を求める**"
   ]
  },
  {
   "cell_type": "code",
   "execution_count": 14,
   "metadata": {},
   "outputs": [
    {
     "data": {
      "text/plain": [
       "0.8436624302090605"
      ]
     },
     "execution_count": 14,
     "metadata": {},
     "output_type": "execute_result"
    }
   ],
   "source": [
    "# 決定係数\n",
    "y_reg = func(x_data, p_opt[0], p_opt[1]) # 回帰直線の値\n",
    "R2 = 1 - np.var(y_data-y_reg) / np.var(y_data) # 決定係数\n",
    "R2"
   ]
  },
  {
   "cell_type": "code",
   "execution_count": 15,
   "metadata": {},
   "outputs": [
    {
     "data": {
      "text/plain": [
       "0.8436624302090611"
      ]
     },
     "execution_count": 15,
     "metadata": {},
     "output_type": "execute_result"
    }
   ],
   "source": [
    "# 相関係数の２乗\n",
    "r_xy = pd.DataFrame(np.c_[x_data, y_data]).corr()[0][1] # pandasのcorr()関数で相関係数を計算\n",
    "r_xy**2"
   ]
  },
  {
   "attachments": {},
   "cell_type": "markdown",
   "metadata": {},
   "source": [
    "### 非線形単回帰モデル"
   ]
  },
  {
   "cell_type": "markdown",
   "metadata": {},
   "source": [
    "**1. フィッティングに用いる関数を定義する**"
   ]
  },
  {
   "cell_type": "code",
   "execution_count": 11,
   "metadata": {},
   "outputs": [],
   "source": [
    "def func(x, a, b, c):\n",
    "    return a * np.exp(-b * x) + c"
   ]
  },
  {
   "cell_type": "markdown",
   "metadata": {},
   "source": [
    "**2. フィッティング対象となる実データを用意する**"
   ]
  },
  {
   "cell_type": "code",
   "execution_count": 12,
   "metadata": {},
   "outputs": [
    {
     "data": {
      "image/png": "[encoded data removed]",
      "text/plain": [
       "<Figure size 350x300 with 1 Axes>"
      ]
     },
     "metadata": {},
     "output_type": "display_data"
    }
   ],
   "source": [
    "x_data = np.linspace(0, 4, 50)\n",
    "y_data = func(x_data, 2.5, 1.3, 0.5) + 0.2 * np.random.normal(size=len(x_data))\n",
    "\n",
    "fig, ax = plt.subplots()\n",
    "ax.plot(x_data, y_data, 'x');"
   ]
  },
  {
   "cell_type": "markdown",
   "metadata": {},
   "source": [
    "**3. フィッティングを実行する**"
   ]
  },
  {
   "cell_type": "code",
   "execution_count": 13,
   "metadata": {},
   "outputs": [
    {
     "name": "stdout",
     "output_type": "stream",
     "text": [
      "[2.60564567 1.52585213 0.57280183]\n"
     ]
    }
   ],
   "source": [
    "# フィッティングの実行\n",
    "opt_p = curve_fit(func, x_data, y_data)[0]\n",
    "print(opt_p)"
   ]
  },
  {
   "cell_type": "markdown",
   "metadata": {},
   "source": [
    "**4. フィッティング結果を可視化する**"
   ]
  },
  {
   "cell_type": "code",
   "execution_count": 17,
   "metadata": {},
   "outputs": [
    {
     "data": {
      "image/png": "[encoded data removed]",
      "text/plain": [
       "<Figure size 350x300 with 1 Axes>"
      ]
     },
     "metadata": {},
     "output_type": "display_data"
    }
   ],
   "source": [
    "x_data = np.linspace(0, 4, 50)\n",
    "y_data = func(x_data, 2.5, 1.3, 0.5) + 0.2 * np.random.normal(size=len(x_data))\n",
    "\n",
    "fig, ax = plt.subplots()\n",
    "ax.plot(x_data, y_data, 'x')\n",
    "ax.plot(x_data, func(x_data, opt_p[0], opt_p[1], opt_p[2]), 'r-', mfc='None');"
   ]
  },
  {
   "attachments": {},
   "cell_type": "markdown",
   "metadata": {},
   "source": [
    "#### 演習問題\n"
   ]
  },
  {
   "attachments": {},
   "cell_type": "markdown",
   "metadata": {},
   "source": [
    "## 確率分布のパラメータ推定\n"
   ]
  },
  {
   "attachments": {},
   "cell_type": "markdown",
   "metadata": {},
   "source": [
    "手元にあるデータから作成したヒストグラムがある確率分布に従うと仮定し，データに合うように確率分布のパラメータを推定することもカーブフィッティングの一つである．"
   ]
  },
  {
   "attachments": {},
   "cell_type": "markdown",
   "metadata": {},
   "source": [
    "確率分布のパラメータ推定では，以下の方法がよく用いられる：\n",
    "\n",
    "- 最小二乗法\n",
    "- 最尤推定\n",
    "\n",
    "このうち，最小二乗法によるパラメータ推定は回帰分析と手続きは同じである．\n",
    "そこで，以下では最尤推定を扱う．"
   ]
  },
  {
   "attachments": {},
   "cell_type": "markdown",
   "metadata": {},
   "source": [
    "### ヒストグラムの作成とフィッティング"
   ]
  },
  {
   "attachments": {},
   "cell_type": "markdown",
   "metadata": {},
   "source": [
    "与えられた観測データからヒストグラムを作成し，適当な確率分布をフィッティングするプログラムを作成してみよう．"
   ]
  },
  {
   "cell_type": "code",
   "execution_count": 140,
   "metadata": {},
   "outputs": [
    {
     "data": {
      "text/plain": [
       "[<matplotlib.lines.Line2D at 0x1d6e81760>]"
      ]
     },
     "execution_count": 140,
     "metadata": {},
     "output_type": "execute_result"
    },
    {
     "data": {
      "image/png": "[encoded data removed]",
      "text/plain": [
       "<Figure size 350x300 with 1 Axes>"
      ]
     },
     "metadata": {},
     "output_type": "display_data"
    }
   ],
   "source": [
    "'''ヒストグラムの描画'''\n",
    "# データの作成\n",
    "np.random.seed(20)\n",
    "x_data = np.random.normal(loc=170, scale=10, size=1000)\n",
    "\n",
    "# ヒストグラムの描画\n",
    "fig, ax = plt.subplots()\n",
    "ret = ax.hist(x_data, bins=10, density=1, color='gray', edgecolor='k')\n",
    "\n",
    "# 軸のラベル\n",
    "ax.set_xlabel('$X$', fontsize=15)\n",
    "ax.set_ylabel('Frequency', fontsize=15)\n",
    "ax.set_xticks(np.arange(130, 210, 10));\n",
    "\n",
    "'''フィッティング'''\n",
    "x = np.arange(140, 200)\n",
    "ax.plot(x, norm.pdf(x, loc=170, scale=10), 'r--')"
   ]
  },
  {
   "attachments": {},
   "cell_type": "markdown",
   "metadata": {},
   "source": [
    "### 最尤推定"
   ]
  },
  {
   "attachments": {},
   "cell_type": "markdown",
   "metadata": {},
   "source": [
    "以下では，パラメータ $ \\boldsymbol{\\theta} $ を持つ1次元確率分布を $ f(x|\\boldsymbol{\\theta}) $ と表記する（ $ f(x; \\boldsymbol{\\theta}) $ と表す場合もある）．\n",
    "例えば，正規分布は平均 $ \\mu $ と標準偏差 $ \\sigma $ をパラメータとして持つので $ \\boldsymbol{\\theta}=\\{\\mu, \\sigma\\} $ である．"
   ]
  },
  {
   "attachments": {},
   "cell_type": "markdown",
   "metadata": {},
   "source": [
    "いま，手元にある $ n $ 個のデータ $ (x_{1}, x_{2}, \\ldots, x_{n}) $ が確率分布 $ f(x|\\boldsymbol{\\theta}) $ から独立に得られたとする．\n",
    "すなわち，$ x_{i} $ というデータが得られる確率は $ f(x_{i}|\\boldsymbol{\\theta}) $，手元にある $ n $ 個のデータが得られる確率は\n",
    "\n",
    "$$\n",
    "    f(x_{1}, x_{2},\\ldots, x_{n}|\\boldsymbol{\\theta}) = \\prod_{i=1}^{n} f(x_{i}|\\boldsymbol{\\theta})\n",
    "$$\n",
    "\n",
    "と表される．"
   ]
  },
  {
   "attachments": {},
   "cell_type": "markdown",
   "metadata": {},
   "source": [
    "確率 $ f(x_{1}, x_{2},\\ldots, x_{n}|\\boldsymbol{\\theta}) $ はパラメータ $ \\boldsymbol{\\theta} $ によって変化するので，データ $ x_{1},\\ x_{2},\\ \\ldots, x_{n} $ を固定して，パラメータ $ \\boldsymbol{\\theta} $ の関数と見ることもできる．\n",
    "これを**尤度関数**と呼び，\n",
    "\n",
    "$$\n",
    "    L(\\boldsymbol{\\theta}|x_{1},x_{2},\\ldots) = \\prod_{i=1}^{n} f(x_{i}|\\boldsymbol{\\theta})\n",
    "$$\n",
    "\n",
    "と表記する．"
   ]
  },
  {
   "attachments": {},
   "cell_type": "markdown",
   "metadata": {},
   "source": [
    "以上を踏まえ，手元にある $ n $ 個のデータを基に，生成元となった確率分布 $ f(x|\\boldsymbol{\\theta}) $ の形を推定することを考える．\n",
    "ただし，$ f(x|\\boldsymbol{\\theta}) $ には特定の確率分布（例えば，正規分布や指数分布など）を仮定した上で最も最適なパラメータ $ \\boldsymbol{\\theta} $ を推定するものとする．\n",
    "\n",
    "最適なパラメータを選ぶ基準は色々と考えられるが，手元にあるデータが得られる確率が最大となるようなパラメータ $\\boldsymbol{\\theta} $ を最適な（尤もらしい）パラメータとする手法が**最尤法**である．\n",
    "これは，尤度関数 $ L(\\boldsymbol{\\theta}|x_{1},x_{2},\\ldots) $ を最大化するようなパラメータを最適とする手法と言い換えることもできる．\n",
    "なお，尤度関数そのものを最大化しようとすると計算が複雑になるので，一般的には尤度関数の対数を取った対数尤度 $ \\log L(\\boldsymbol{\\theta}|x_{1},x_{2},\\ldots) $ を最大化することが多い．"
   ]
  },
  {
   "attachments": {},
   "cell_type": "markdown",
   "metadata": {},
   "source": [
    "対数尤度関数を最大化するパラメータは以下の条件を満たす：\n",
    "\n",
    "$$\n",
    "    \\frac{\\partial \\log L}{\\partial \\theta_{1}} = 0, \\quad \\frac{\\partial \\log L}{\\partial \\theta_{2}} = 0, \\quad \\cdots, \\quad \\frac{\\partial \\log L}{\\partial \\theta_{n}} = 0\n",
    "$$\n",
    "\n",
    "これを**対数尤度方程式**と呼ぶ．\n",
    "対数尤度関数が凸関数の場合，対数尤度方程式を解けば最尤推定値が得られる．"
   ]
  },
  {
   "attachments": {},
   "cell_type": "markdown",
   "metadata": {},
   "source": [
    "### ベルヌーイ分布"
   ]
  },
  {
   "attachments": {},
   "cell_type": "markdown",
   "metadata": {},
   "source": [
    "#### 解析解\n",
    "\n",
    "ベルヌーイ分布は以下の式で与えられる：\n",
    "\n",
    "$$\n",
    "    f(x|p) = p^{x}(1-p)^{1-x}\n",
    "$$\n",
    "\n",
    "ただし，$ x $ の取りうる値は $ 0, 1 $ のみである．\n",
    "観測データ $ x_{1}, \\ldots, x_{n} $ に対する尤度関数は\n",
    "\n",
    "$$\n",
    "    L(p|x_{1}, \\ldots, x_{n}) = p^{\\sum_{i}x_{i}}(1-p)^{n-\\sum_{i}x_{i}}\n",
    "$$\n",
    "\n",
    "対数尤度関数は\n",
    "\n",
    "$$\n",
    "    \\log L(p|x_{1}, \\ldots, x_{n}) = \\left(\\sum_{i} x_{i}\\right) \\log p + \\left(n-\\sum_{i}x_{i}\\right)\\log(1-p)\n",
    "$$\n",
    "\n",
    "となる．\n",
    "\n",
    "これより，対数尤度方程式は\n",
    "\n",
    "$$\n",
    "    \\frac{dL}{dp} = \\frac{\\sum_{i}x_{i}}{p} - \\frac{n-\\sum_{i}x_{i}}{1-p} = 0\n",
    "$$\n",
    "\n",
    "となり，これを解けば\n",
    "\n",
    "$$\n",
    "    p = \\frac{1}{n} \\sum_{i=1}^{n} x_{i}\n",
    "$$\n",
    "\n",
    "が得られる．\n",
    "すなわち，$ p $ の最尤推定値は観測データの標本平均である．"
   ]
  },
  {
   "attachments": {},
   "cell_type": "markdown",
   "metadata": {},
   "source": [
    "#### Pythonによる実装"
   ]
  },
  {
   "attachments": {},
   "cell_type": "markdown",
   "metadata": {},
   "source": [
    "ここでは，$ p=0.3 $ のベルヌーイ分布からサイズ100の標本を得る場合を考える．\n",
    "すなわち，$ p=0.3 $ がパラメータの真の値である．"
   ]
  },
  {
   "cell_type": "code",
   "execution_count": 2,
   "metadata": {},
   "outputs": [
    {
     "data": {
      "text/plain": [
       "array([1, 0, 0, 1, 1, 1, 0, 1, 0, 0, 0, 0, 0, 0, 0, 1, 0, 0, 0, 1, 1, 0,\n",
       "       1, 0, 0, 1, 0, 1, 0, 1, 0, 0, 0, 0, 0, 0, 0, 1, 0, 0, 0, 0, 0, 0,\n",
       "       1, 0, 0, 1, 1, 0, 0, 1, 0, 0, 0, 0, 0, 0, 1, 0, 0, 0, 0, 0, 0, 1,\n",
       "       0, 0, 0, 0, 0, 0, 0, 0, 0, 0, 0, 0, 0, 1, 1, 1, 0, 0, 0, 0, 0, 0,\n",
       "       0, 0, 0, 0, 0, 1, 1, 0, 1, 1, 0, 0])"
      ]
     },
     "execution_count": 2,
     "metadata": {},
     "output_type": "execute_result"
    }
   ],
   "source": [
    "np.random.seed(seed=32)\n",
    "p = 0.3\n",
    "x = bernoulli.rvs(p, size=100)\n",
    "x"
   ]
  },
  {
   "attachments": {},
   "cell_type": "markdown",
   "metadata": {},
   "source": [
    "次に，得られた標本（観測データ）から尤度関数を求める．"
   ]
  },
  {
   "cell_type": "code",
   "execution_count": 3,
   "metadata": {},
   "outputs": [],
   "source": [
    "L = []\n",
    "P = np.arange(0, 1, 0.01)\n",
    "\n",
    "# 様々なPについて尤度を計算する\n",
    "for p in P:\n",
    "    l = np.prod(bernoulli.pmf(x, p))\n",
    "    L.append(l)\n",
    "\n",
    "L = np.array(L)"
   ]
  },
  {
   "attachments": {},
   "cell_type": "markdown",
   "metadata": {},
   "source": [
    "最後に，尤度関数を描画し，さらに尤度関数が最大となる $ p $ の値をグラフ中にプロットする．"
   ]
  },
  {
   "cell_type": "code",
   "execution_count": 4,
   "metadata": {},
   "outputs": [
    {
     "name": "stdout",
     "output_type": "stream",
     "text": [
      "最尤推定値： 0.26\n"
     ]
    },
    {
     "data": {
      "text/plain": [
       "(0.0, 1.3603279030607903e-25)"
      ]
     },
     "execution_count": 4,
     "metadata": {},
     "output_type": "execute_result"
    },
    {
     "data": {
      "image/png": "[encoded data removed]",
      "text/plain": [
       "<Figure size 350x300 with 1 Axes>"
      ]
     },
     "metadata": {},
     "output_type": "display_data"
    }
   ],
   "source": [
    "# 尤度関数の描画\n",
    "fig, ax = plt.subplots()\n",
    "ax.plot(P, L)\n",
    "ax.vlines(P[np.argmax(L)], 0, np.max(L), color='r', linestyles='dashed')\n",
    "print('最尤推定値：', P[np.argmax(L)])\n",
    "ax.set_xlim(0, 1); ax.set_ylim(ymin=0)"
   ]
  },
  {
   "attachments": {},
   "cell_type": "markdown",
   "metadata": {},
   "source": [
    "得られた最尤推定値は $ p=0.26 $ であるが，これは解析解である標本平均と一致している．"
   ]
  },
  {
   "attachments": {},
   "cell_type": "markdown",
   "metadata": {},
   "source": [
    "### 正規分布"
   ]
  },
  {
   "attachments": {},
   "cell_type": "markdown",
   "metadata": {},
   "source": [
    "#### 解析解"
   ]
  },
  {
   "attachments": {},
   "cell_type": "markdown",
   "metadata": {},
   "source": [
    "正規分布の確率密度関数は以下で与えられる：\n",
    "\n",
    "$$\n",
    "    f(x|\\mu, \\sigma) = \\frac{1}{\\sqrt{2\\pi\\sigma^2}} \\mathrm{e}^{-\\frac{(x-\\mu)^2}{2\\sigma^2}}\n",
    "$$\n",
    "\n",
    "観測データ $ x_{1}, \\ldots, x_{n} $ に対する尤度関数は\n",
    "\n",
    "$$\n",
    "    L(\\mu, \\sigma|x_{1}, \\ldots, x_{n}) = \\prod_{i=1}^{n} \\frac{1}{\\sqrt{2\\pi\\sigma^2}} \\mathrm{e}^{-\\frac{(x_{i}-\\mu)^2}{2\\sigma^2}}\n",
    "    = \\frac{1}{(2\\pi\\sigma^2)^{n/2}} \\exp\\left[-\\frac{1}{2\\sigma^2}\\sum_{i=1}^{n}(x-\\mu)^2\\right]\n",
    "$$\n",
    "\n",
    "対数尤度関数は\n",
    "\n",
    "$$\n",
    "    \\log L = -\\frac{n}{2} \\log(2\\pi) -\\frac{n}{2} \\log(\\sigma^2) - \\frac{1}{2\\sigma^2} \\sum_{i=1}^{n} (x_{i}-\\mu)^2\n",
    "$$\n",
    "\n",
    "である．"
   ]
  },
  {
   "attachments": {},
   "cell_type": "markdown",
   "metadata": {},
   "source": [
    "これより，対数尤度方程式は\n",
    "\n",
    "\\begin{align*}\n",
    "    \\frac{\\partial L}{\\partial \\mu} &= -\\frac{1}{2\\sigma^2} \\sum_{i}^{n}2(x_{i}-\\mu)\\times (-1)\n",
    "    = \\frac{1}{\\sigma^2}\\sum_{i}^{n}(x_{i}-\\mu) = 0 \\\\\n",
    "    \\frac{\\partial L}{\\partial \\sigma^2} &= -\\frac{n}{2\\sigma^2} - \\frac{1}{2\\sigma^4} \\sum_{i=1}^{n} (x_{i} - \\mu)^2 = 0\n",
    "\\end{align*}\n",
    "\n",
    "となり，これらを解けば，\n",
    "\n",
    "\\begin{align*}\n",
    "    \\mu &= \\frac{1}{n}\\sum_{i=1}^{n}x_{i}\\\\\n",
    "    \\sigma^2 &= \\frac{1}{n}\\sum_{i=1}^{n}(x_{i}-\\mu)^2\n",
    "\\end{align*}\n",
    "\n",
    "が得られる．\n",
    "すなわち，$ \\mu,\\ \\sigma^2 $ の最尤推定値はそれぞれ標本平均と標本分散である．"
   ]
  },
  {
   "attachments": {},
   "cell_type": "markdown",
   "metadata": {},
   "source": [
    "#### Pythonによる実装"
   ]
  },
  {
   "cell_type": "code",
   "execution_count": 37,
   "metadata": {},
   "outputs": [],
   "source": [
    "# 1. 標準正規分布からサイズ100の標本を生成する\n",
    "np.random.seed(seed=32)\n",
    "mu, sigma = 0, 1\n",
    "x = norm.rvs(loc=mu, scale=sigma, size=100)"
   ]
  },
  {
   "cell_type": "code",
   "execution_count": 115,
   "metadata": {},
   "outputs": [],
   "source": [
    "# 2. この標本を基に，正規分布の平均と標準偏差をx, y軸，尤度関数をz軸とするグラフを描画する\n",
    "mean_range = np.linspace(-0.1, 0.1, 100)\n",
    "std_dev_range = np.linspace(0.9, 1.1, 100)\n",
    "M, S = np.meshgrid(mean_range, std_dev_range)\n",
    "L = []\n",
    "\n",
    "for m, s in zip(M.ravel(), S.ravel()):\n",
    "    # L.append(np.log(np.prod(norm.pdf(x, loc=m, scale=s))))\n",
    "    L.append(np.prod(norm.pdf(x, loc=m, scale=s)))\n",
    "\n",
    "L = np.array(L).reshape(M.shape)"
   ]
  },
  {
   "cell_type": "code",
   "execution_count": 111,
   "metadata": {},
   "outputs": [
    {
     "data": {
      "text/plain": [
       "Text(0.5, 0, 'Likelihood')"
      ]
     },
     "execution_count": 111,
     "metadata": {},
     "output_type": "execute_result"
    },
    {
     "data": {
      "image/png": "[encoded data removed]",
      "text/plain": [
       "<Figure size 350x300 with 1 Axes>"
      ]
     },
     "metadata": {},
     "output_type": "display_data"
    }
   ],
   "source": [
    "fig, ax = plt.subplots(subplot_kw=dict(projection='3d'))\n",
    "ax.plot_wireframe(M, S, L)\n",
    "ax.set_xlabel('$\\mu$')\n",
    "ax.set_ylabel('$\\sigma$')\n",
    "ax.set_zlabel('Likelihood')"
   ]
  },
  {
   "cell_type": "code",
   "execution_count": 112,
   "metadata": {},
   "outputs": [
    {
     "name": "stdout",
     "output_type": "stream",
     "text": [
      "MLE of mean: 0.06368595578464202\n",
      "MLE of standard deviation: 1.02857877771493\n"
     ]
    }
   ],
   "source": [
    "# 3. 最尤推定値を計算する\n",
    "mle_mean = np.mean(x)\n",
    "mle_std_dev = np.std(x, ddof=0)\n",
    "\n",
    "print(f'MLE of mean: {mle_mean}')\n",
    "print(f'MLE of standard deviation: {mle_std_dev}')"
   ]
  },
  {
   "cell_type": "code",
   "execution_count": 113,
   "metadata": {},
   "outputs": [
    {
     "data": {
      "text/plain": [
       "array([0.0638796])"
      ]
     },
     "execution_count": 113,
     "metadata": {},
     "output_type": "execute_result"
    }
   ],
   "source": [
    "M[np.where(L==L.max())]"
   ]
  },
  {
   "cell_type": "code",
   "execution_count": 114,
   "metadata": {},
   "outputs": [
    {
     "data": {
      "text/plain": [
       "array([1.02842809])"
      ]
     },
     "execution_count": 114,
     "metadata": {},
     "output_type": "execute_result"
    }
   ],
   "source": [
    "S[np.where(L==L.max())]"
   ]
  },
  {
   "attachments": {},
   "cell_type": "markdown",
   "metadata": {},
   "source": [
    "**求めたパラメータでカーブフィッティング**"
   ]
  },
  {
   "cell_type": "code",
   "execution_count": 128,
   "metadata": {},
   "outputs": [
    {
     "data": {
      "text/plain": [
       "[<matplotlib.lines.Line2D at 0x1d69a4c40>]"
      ]
     },
     "execution_count": 128,
     "metadata": {},
     "output_type": "execute_result"
    },
    {
     "data": {
      "image/png": "[encoded data removed]",
      "text/plain": [
       "<Figure size 350x300 with 1 Axes>"
      ]
     },
     "metadata": {},
     "output_type": "display_data"
    }
   ],
   "source": [
    "# ヒストグラムの描画\n",
    "fig, ax = plt.subplots()\n",
    "ret = ax.hist(x, bins=15, density=1, color='gray', edgecolor='k')\n",
    "ax.plot(ret[1], norm.pdf(ret[1], loc=mle_mean, scale=mle_std_dev), 'r-')"
   ]
  },
  {
   "attachments": {},
   "cell_type": "markdown",
   "metadata": {},
   "source": [
    "### 演習問題"
   ]
  },
  {
   "attachments": {},
   "cell_type": "markdown",
   "metadata": {},
   "source": [
    "**指数分布の最尤推定**\n",
    "\n",
    "指数分布\n",
    "\n",
    "$$\n",
    "    f(x|\\lambda) = \\frac{1}{\\lambda}\\mathrm{e}^{-\\frac{x}{\\lambda}}\n",
    "$$\n",
    "\n",
    "について，最尤推定値の解析解を計算せよ．\n",
    "また，適当な $ \\lambda $ の値について最尤推定値を求めるPythonプログラムを作成せよ．\n",
    "\n",
    "**ポアソン分布の最尤推定**\n",
    "\n",
    "ポアソン分布\n",
    "\n",
    "$$\n",
    "    f(x|\\lambda) = \\frac{\\lambda^{x}\\mathrm{e}^{-\\lambda}}{k!}\n",
    "$$\n",
    "\n",
    "について，最尤推定値の解析解を計算せよ．\n",
    "また，適当な $ \\lambda $ の値について最尤推定値を求めるPythonプログラムを作成せよ．"
   ]
  }
 ],
 "metadata": {
  "kernelspec": {
   "display_name": "myenv",
   "language": "python",
   "name": "python3"
  },
  "language_info": {
   "codemirror_mode": {
    "name": "ipython",
    "version": 3
   },
   "file_extension": ".py",
   "mimetype": "text/x-python",
   "name": "python",
   "nbconvert_exporter": "python",
   "pygments_lexer": "ipython3",
   "version": "3.9.13"
  },
  "orig_nbformat": 4,
  "vscode": {
   "interpreter": {
    "hash": "911fd4aa1eca4252368dc27db61226a38a6cfe922f9bbc90c7d50e9c97ede316"
   }
  }
 },
 "nbformat": 4,
 "nbformat_minor": 2
}
