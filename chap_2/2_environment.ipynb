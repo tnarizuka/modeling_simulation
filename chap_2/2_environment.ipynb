{
 "cells": [
  {
   "attachments": {},
   "cell_type": "markdown",
   "metadata": {},
   "source": [
    "# 準備"
   ]
  },
  {
   "cell_type": "code",
   "execution_count": 20,
   "metadata": {},
   "outputs": [],
   "source": [
    "import numpy as np\n",
    "import matplotlib.pyplot as plt\n",
    "from mpl_toolkits.mplot3d import Axes3D\n",
    "import pandas as pd\n",
    "import scipy as sp\n",
    "from scipy.optimize import curve_fit\n",
    "from scipy.stats import bernoulli, norm, poisson, expon\n",
    "import japanize_matplotlib"
   ]
  },
  {
   "attachments": {},
   "cell_type": "markdown",
   "metadata": {},
   "source": [
    "## プログラミング環境の構築"
   ]
  },
  {
   "attachments": {},
   "cell_type": "markdown",
   "metadata": {},
   "source": [
    "### Anacondaのインストール\n",
    "\n",
    "- Anacondaのアンインストール（環境再構築の場合）\n",
    "  - コントロールパネル > プログラムのアンインストール\n",
    "  - Anacondaを選択してアンインストール\n",
    "  - PC再起動\n",
    "- インストーラのダウンロード\n",
    "  - [Anaconda Distribution](https://www.anaconda.com/download) にアクセス\n",
    "  - メールアドレスを入力して，届いたメールのURLを開く\n",
    "  - Anacondaをダウンロード\n",
    "- Cドライブ直下（ユーザフォルダと同じ階層）に`anaconda3`というフォルダを作っておく\n",
    "- Anacondaのインストール\n",
    "  - Select Installation TypeでJust Meを選ぶ\n",
    "  - Choose Install LocationでCドライブ直下に作ったanaconda3フォルダを選ぶ\n",
    "    - anacondaのインストール先のパスに日本語が含まれるとうまくいかないため\n",
    "  - Advanced Installation Optionsで以下の2つに必ずチェックを入れる\n",
    "    - Add Anaconda3 to my PATH environment variable\n",
    "    - Register Anaconda3 as my default Python 3.9\n",
    "- Anaconda Navigatorを起動して，インストールが成功しているか確認する（適宜アップデートする）"
   ]
  },
  {
   "attachments": {},
   "cell_type": "markdown",
   "metadata": {},
   "source": [
    "### 作業フォルダの作成"
   ]
  },
  {
   "attachments": {},
   "cell_type": "markdown",
   "metadata": {},
   "source": [
    "データ分析では，様々なファイルを扱わなければならない．\n",
    "例えば，本講義では，Pythonのソースコード（`.py`），Jupyter NoteBook（`.ipynb`），データ（`.csv`），図（`.pdf`や`.png`）などのファイルを扱うことになる．\n",
    "これらのファイルが自分のPC内のどこに保存されているかを把握しておかないと，ファイルを探すだけで時間を取られてしまう．\n",
    "データ分析を始める際にまず行うべきことは，PC内のフォルダやファイルを整理することである．"
   ]
  },
  {
   "attachments": {},
   "cell_type": "markdown",
   "metadata": {},
   "source": [
    "まず本講義専用の作業フォルダを作成する．\n",
    "名前は自分で分かれば何でも良いが，なるべく半角英数字とし，スペースは絶対に入れないこと．\n",
    "作業フォルダの作成場所はできればクラウドストレージのフォルダ（OneDriveやGoogle Drive）の中に作ることを推奨する（こうすれば，自動的にクラウド上にバックアップされる）．\n",
    "\n",
    "ここでは，`ローカルディスク（C:）>Users>username>OneDrive`の中に`modeling_simulation`という作業フォルダを作ったとする：\n",
    "\n",
    "```\n",
    "[OneDrive]\n",
    "    - [デスクトップ]\n",
    "    - [ドキュメント]\n",
    "    ...\n",
    "    - [modeling_simulation]\n",
    "\n",
    "```"
   ]
  },
  {
   "attachments": {},
   "cell_type": "markdown",
   "metadata": {},
   "source": [
    "本講義で扱うファイルは全てこの`modeling_simulation`の中に保存することを想定する．\n",
    "`work`フォルダの中身は次のように章ごとのサブフォルダやレポート用のフォルダに分けておくと良い：\n",
    "```\n",
    "[modeling_simulation]\n",
    "    - [1_introduction]\n",
    "    - [2_environment]\n",
    "        - 2_environment.ipynb\n",
    "    - [report]\n",
    "    - [others]\n",
    "```"
   ]
  },
  {
   "attachments": {},
   "cell_type": "markdown",
   "metadata": {},
   "source": [
    "### Jupyter Lab\n",
    "\n",
    "本講義ノートは`.ipynb`ファイル形式でダウンロードしてJupyter上で実行可能である．\n",
    "Jupyterの環境構築の方法はいくつかあるので自分の好きな方法を選んで良いが，Anacondaをインストールすると，自動的にJupyter NotebookとJupyter Labが使えるようになる．\n",
    "\n",
    "**Jupyter Labの起動**\n",
    "\n",
    "- Anaconda Navigatorを起動\n",
    "    - ［スタートメニュー］→［すべてのアプリ］→ [Anaconda3(64-bit)] →［Anaconda Navigator］\n",
    "- ［Jupyter Lab］をLaunch\n",
    "\n",
    "**ノートブック（.ipynbファイル）の起動**\n",
    "\n",
    "- `.ipynb`ファイルをダウンロードし，作業フォルダに保存する．\n",
    "    - 講義ノート上部のアイコンから`.ipynb`をクリック\n",
    "    - 自動保存された場合は`ダウンロード`フォルダ内に保存される\n",
    "- Jupyter Labを起動し，左上のフォルダアイコンをクリックする．\n",
    "- .ipynbファイルを保存した作業フォルダに移動し，`.ipynb`ファイルをダブルクリックする．"
   ]
  },
  {
   "attachments": {},
   "cell_type": "markdown",
   "metadata": {},
   "source": [
    "### パス（Path）について\n",
    "\n",
    "#### パスとは何か？\n",
    "Pythonプログラムの実行，自分のPC上のファイルの読み込み，加工したデータの保存を行うには，対象となるファイルの在り処，つまりアドレスが分からないといけない．\n",
    "このアドレスを指定する文字列のことをパス（Path）と呼ぶ．\n",
    "Windowsの場合，パスはフォルダの階層構造を区切り文字`¥`（またはバックスラッシュ`\\`）によって区切った形式で以下のように表される：\n",
    "\n",
    "```\n",
    "C:¥Users¥narizuka¥Documents\n",
    "```"
   ]
  },
  {
   "attachments": {},
   "cell_type": "markdown",
   "metadata": {},
   "source": [
    "フォルダの階層の区切りは`¥`（またはバックスラッシュ`\\\\`）によって表されており，`¥`の隣にはフォルダの名前が記載されている．\n",
    "上の例は，Cドライブ（`C:`）の`Users`フォルダの中の`narizuka`フォルダにある`Documents`フォルダのパスを表す．"
   ]
  },
  {
   "attachments": {},
   "cell_type": "markdown",
   "metadata": {},
   "source": [
    "#### 絶対パスと相対パス\n",
    "パスには絶対パスと相対パスの2種類が存在する．\n",
    "パスを使用する場面の具体例として，matplotlibで描画した図を指定したフォルダ内に保存する場合を考える．\n",
    "まず，以下のプログラムを実行する．"
   ]
  },
  {
   "cell_type": "code",
   "execution_count": 2,
   "metadata": {},
   "outputs": [
    {
     "data": {
      "image/png": "[encoded data removed]",
      "text/plain": [
       "<Figure size 350x300 with 1 Axes>"
      ]
     },
     "metadata": {},
     "output_type": "display_data"
    }
   ],
   "source": [
    "import matplotlib.pyplot as plt\n",
    "fig, ax = plt.subplots(figsize=(3.5, 3))\n",
    "x = np.arange(-np.pi, np.pi, 0.01)\n",
    "ax.plot(x, np.sin(x))\n",
    "ax.set_xlabel('X軸'); ax.set_ylabel('Y軸');"
   ]
  },
  {
   "attachments": {},
   "cell_type": "markdown",
   "metadata": {},
   "source": [
    "実行がうまくいけば，サイン関数が出力されるはずである．\n",
    "出力された図を自分の作業フォルダに保存するには，`fig.savefig(path)`のように保存先のパスを指定すれば良い．\n",
    "このとき，パスの指定方法には以下の２つの方法が存在する．"
   ]
  },
  {
   "attachments": {},
   "cell_type": "markdown",
   "metadata": {},
   "source": [
    "#### 1. 絶対パスによる指定"
   ]
  },
  {
   "cell_type": "code",
   "execution_count": 3,
   "metadata": {},
   "outputs": [],
   "source": [
    "fig.savefig(r\"C:\\Users\\narizuka\\OneDrive\\modeling_simulation\\2_environment\\graph.pdf\")"
   ]
  },
  {
   "attachments": {},
   "cell_type": "markdown",
   "metadata": {},
   "source": [
    "この方法では，最も上の階層であるドライブ名（ここではCドライブ）から始まるパスを指定しており，これを**絶対パス**と呼ぶ．\n",
    "Windowsで絶対パスを取得するには，パスをコピーしたいファイルやフォルダを右クリックし，「パスのコピー」を選択すれば良い．\n",
    "絶対パスを使っておけばエラーは出にくいが，PCの奥深くにあるフォルダだとパスが長くなるという問題がある．\n",
    "\n",
    "なお，Windows環境においてパスをコピーして貼り付けると区切り文字がバックスラッシュ`\\`または`¥`になるはずである．\n",
    "ところが，pythonではバックスラッシュ`\\`と文字を組み合わせたエスケープシーケンスいう特別な文字列が存在し，例えば，`\\n`は改行，`\\t`はタブを表すエスケープシーケンスとなる．\n",
    "これにより，上の例の中にある`\\t`の部分はパスの区切りではなくエスケープシーケンスとして認識され，エラーが出ることがある（特に，pythonでファイルの入出力を行うとき）．\n",
    "これを回避するにはパスの先頭に`r`を付ける．\n",
    "これは，raw文字列と呼ばれ，\"\"の中に指定した文字列をそのままの形で認識させることができる．"
   ]
  },
  {
   "attachments": {},
   "cell_type": "markdown",
   "metadata": {},
   "source": [
    "#### 2. 相対パスによる指定"
   ]
  },
  {
   "cell_type": "code",
   "execution_count": 4,
   "metadata": {},
   "outputs": [],
   "source": [
    "fig.savefig(\"./graph2.pdf\")"
   ]
  },
  {
   "cell_type": "markdown",
   "metadata": {},
   "source": [
    "2つ目の方法では，パスが`'.'`から始まっているが，これは現在の居場所（**カレントディレクトリ**と呼ぶ）のパスを意味する．\n",
    "デフォルトではカレントディレクトリは`.ipynb`ファイルが保存されているフォルダとなる．\n",
    "このように，カレントディレクトリのパス`'.'`から始まるパスを**相対パス**と呼ぶ．\n",
    "カレントディレクトリは以下のコマンドにより任意のフォルダに変更することができる．\n",
    "\n",
    "```python\n",
    "import os\n",
    "os.chdir(path)\n",
    "```\n",
    "\n",
    "相対パスを用いると，パスが短くなるので便利であるが，カレントディレクトリがどこなのかを認識しておく必要がある．"
   ]
  },
  {
   "attachments": {},
   "cell_type": "markdown",
   "metadata": {},
   "source": [
    "### JupyterとPythonスクリプトの使い分け\n",
    "\n",
    "Jupyterは短いコードを逐次実行しながら結果を確認するのには適しているが，コードが長くなると分かりにくくなる．\n",
    "そこで，コードが長くなってきたら関数やクラスに適宜まとめてスクリプト（`.py`ファイル）に保存すると良い．\n",
    "`.py`ファイルを編集するにはVSCodeなどのエディタを使用する．\n",
    "最近のエディタは`.py`ファイルを実行する機能を備えている．\n",
    "また，保存したスクリプトはNumPyやPandasと同じようにimportできるので，Jupyter上ではimportしたスクリプト内の関数を実行するだけにすると結果が整理しやすい．"
   ]
  },
  {
   "attachments": {},
   "cell_type": "markdown",
   "metadata": {},
   "source": [
    "## Pythonの基礎知識"
   ]
  },
  {
   "cell_type": "markdown",
   "metadata": {},
   "source": [
    "### データ（csvファイル）の読み込み"
   ]
  },
  {
   "cell_type": "markdown",
   "metadata": {},
   "source": [
    "`.csv`形式のデータを読み込むには`pandas`ライブラリの`pd.read_csv()`関数を使用する．\n",
    "以下の例は，カレントディレクトリ内の`data.csv`ファイルを読み込む例である．\n",
    "\n",
    "```python\n",
    "import pandas as pd\n",
    "df = pd.read_csv('./data.csv', options)\n",
    "```\n",
    "第１引数には読み込むファイルのパス，第２引数以降には読み込む際のオプションを指定する．\n"
   ]
  },
  {
   "cell_type": "markdown",
   "metadata": {},
   "source": [
    "例として，[Iris dataset](https://drive.google.com/uc?export=download&id=1Y0A04s0klZiUZWWabH3ozUTgXE63Az5j)を読み込む．\n",
    "Iris datasetはアヤメの花のデータセットであり，アヤメの種類（setosa, versicolor, virginica）ごとにがく片（sepal）と花弁（petal）の長さと幅が記録されている．\n",
    "- 出典：Ronald A Fisher. The use of multiple measurements in taxonomic problems. Annals of eugenics, 7(2):179–188, 1936."
   ]
  },
  {
   "cell_type": "code",
   "execution_count": 37,
   "metadata": {},
   "outputs": [
    {
     "data": {
      "text/html": [
       "<div>\n",
       "<style scoped>\n",
       "    .dataframe tbody tr th:only-of-type {\n",
       "        vertical-align: middle;\n",
       "    }\n",
       "\n",
       "    .dataframe tbody tr th {\n",
       "        vertical-align: top;\n",
       "    }\n",
       "\n",
       "    .dataframe thead th {\n",
       "        text-align: right;\n",
       "    }\n",
       "</style>\n",
       "<table border=\"1\" class=\"dataframe\">\n",
       "  <thead>\n",
       "    <tr style=\"text-align: right;\">\n",
       "      <th></th>\n",
       "      <th>SepalLengthCm</th>\n",
       "      <th>SepalWidthCm</th>\n",
       "      <th>PetalLengthCm</th>\n",
       "      <th>PetalWidthCm</th>\n",
       "      <th>Species</th>\n",
       "    </tr>\n",
       "    <tr>\n",
       "      <th>Id</th>\n",
       "      <th></th>\n",
       "      <th></th>\n",
       "      <th></th>\n",
       "      <th></th>\n",
       "      <th></th>\n",
       "    </tr>\n",
       "  </thead>\n",
       "  <tbody>\n",
       "    <tr>\n",
       "      <th>1</th>\n",
       "      <td>5.1</td>\n",
       "      <td>3.5</td>\n",
       "      <td>1.4</td>\n",
       "      <td>0.2</td>\n",
       "      <td>Iris-setosa</td>\n",
       "    </tr>\n",
       "    <tr>\n",
       "      <th>2</th>\n",
       "      <td>4.9</td>\n",
       "      <td>3.0</td>\n",
       "      <td>1.4</td>\n",
       "      <td>0.2</td>\n",
       "      <td>Iris-setosa</td>\n",
       "    </tr>\n",
       "    <tr>\n",
       "      <th>3</th>\n",
       "      <td>4.7</td>\n",
       "      <td>3.2</td>\n",
       "      <td>1.3</td>\n",
       "      <td>0.2</td>\n",
       "      <td>Iris-setosa</td>\n",
       "    </tr>\n",
       "    <tr>\n",
       "      <th>4</th>\n",
       "      <td>4.6</td>\n",
       "      <td>3.1</td>\n",
       "      <td>1.5</td>\n",
       "      <td>0.2</td>\n",
       "      <td>Iris-setosa</td>\n",
       "    </tr>\n",
       "    <tr>\n",
       "      <th>5</th>\n",
       "      <td>5.0</td>\n",
       "      <td>3.6</td>\n",
       "      <td>1.4</td>\n",
       "      <td>0.2</td>\n",
       "      <td>Iris-setosa</td>\n",
       "    </tr>\n",
       "    <tr>\n",
       "      <th>...</th>\n",
       "      <td>...</td>\n",
       "      <td>...</td>\n",
       "      <td>...</td>\n",
       "      <td>...</td>\n",
       "      <td>...</td>\n",
       "    </tr>\n",
       "    <tr>\n",
       "      <th>146</th>\n",
       "      <td>6.7</td>\n",
       "      <td>3.0</td>\n",
       "      <td>5.2</td>\n",
       "      <td>2.3</td>\n",
       "      <td>Iris-virginica</td>\n",
       "    </tr>\n",
       "    <tr>\n",
       "      <th>147</th>\n",
       "      <td>6.3</td>\n",
       "      <td>2.5</td>\n",
       "      <td>5.0</td>\n",
       "      <td>1.9</td>\n",
       "      <td>Iris-virginica</td>\n",
       "    </tr>\n",
       "    <tr>\n",
       "      <th>148</th>\n",
       "      <td>6.5</td>\n",
       "      <td>3.0</td>\n",
       "      <td>5.2</td>\n",
       "      <td>2.0</td>\n",
       "      <td>Iris-virginica</td>\n",
       "    </tr>\n",
       "    <tr>\n",
       "      <th>149</th>\n",
       "      <td>6.2</td>\n",
       "      <td>3.4</td>\n",
       "      <td>5.4</td>\n",
       "      <td>2.3</td>\n",
       "      <td>Iris-virginica</td>\n",
       "    </tr>\n",
       "    <tr>\n",
       "      <th>150</th>\n",
       "      <td>5.9</td>\n",
       "      <td>3.0</td>\n",
       "      <td>5.1</td>\n",
       "      <td>1.8</td>\n",
       "      <td>Iris-virginica</td>\n",
       "    </tr>\n",
       "  </tbody>\n",
       "</table>\n",
       "<p>150 rows × 5 columns</p>\n",
       "</div>"
      ],
      "text/plain": [
       "     SepalLengthCm  SepalWidthCm  PetalLengthCm  PetalWidthCm         Species\n",
       "Id                                                                           \n",
       "1              5.1           3.5            1.4           0.2     Iris-setosa\n",
       "2              4.9           3.0            1.4           0.2     Iris-setosa\n",
       "3              4.7           3.2            1.3           0.2     Iris-setosa\n",
       "4              4.6           3.1            1.5           0.2     Iris-setosa\n",
       "5              5.0           3.6            1.4           0.2     Iris-setosa\n",
       "..             ...           ...            ...           ...             ...\n",
       "146            6.7           3.0            5.2           2.3  Iris-virginica\n",
       "147            6.3           2.5            5.0           1.9  Iris-virginica\n",
       "148            6.5           3.0            5.2           2.0  Iris-virginica\n",
       "149            6.2           3.4            5.4           2.3  Iris-virginica\n",
       "150            5.9           3.0            5.1           1.8  Iris-virginica\n",
       "\n",
       "[150 rows x 5 columns]"
      ]
     },
     "execution_count": 37,
     "metadata": {},
     "output_type": "execute_result"
    }
   ],
   "source": [
    "# 相対パスを指定してcsvファイルをDataFrameに読み込む\n",
    "df = pd.read_csv('./iris_dataset.csv',\n",
    "                 header=0,      # 第0行目を列ラベルとする\n",
    "                 index_col=0,   # 第0列目を行ラベルとする\n",
    "                 usecols=None,  # 読み込む列を指定する\n",
    "                 na_values=None # 欠損値として認識する文字列を指定する\n",
    "                 )\n",
    "df"
   ]
  },
  {
   "attachments": {},
   "cell_type": "markdown",
   "metadata": {},
   "source": [
    "### matplotlibの基礎"
   ]
  },
  {
   "attachments": {},
   "cell_type": "markdown",
   "metadata": {},
   "source": [
    "#### maplotlibの日本語対応\n",
    "\n",
    "Matplotlibはグラフ作成のためのライブラリである（詳しくは基礎編で解説する）．\n",
    "Matplotlibは標準で日本語に対応していないので，ここでは日本語対応する方法を2つ紹介する．"
   ]
  },
  {
   "cell_type": "markdown",
   "metadata": {},
   "source": [
    "**方法1： japanize_matplotlib を利用する（詳しくは[こちら](https://pypi.org/project/japanize-matplotlib/)）**\n",
    "\n",
    "japanize_matplotlibは一度インストールすれば，あとは他のモジュールと同じように`import japanize_matplotlib`とするだけで日本語が使用可能になる．\n",
    "ただし，使用可能なフォントはIPAexゴシックだけなので，フォントにこだわりたい場合は方法１をおすすめする．\n",
    "\n",
    "- Anaconda Promptを起動\n",
    "- 以下のコマンドを実行してjapanize_matplotlibをインストールする\n",
    "    ```zsh\n",
    "    pip install japanize-matplotlib\n",
    "    ```\n",
    "- Jupyter Labを再起動して，以下のコードを実行する\n",
    "    ```python\n",
    "    import japanize_matplotlib\n",
    "    ```\n",
    "- 日本語が使用可能になる"
   ]
  },
  {
   "cell_type": "markdown",
   "metadata": {},
   "source": [
    "**方法2：`rcParams`に使用するフォント名を指定する**\n",
    "\n",
    "以下のように，`matplotlib.pyplot`をインポートしておき，`plt.rcParams['font.family']`に日本語フォントを指定する．\n",
    "使用可能なフォントは環境によって異なるが，Windowsの場合は`'MS Gothic'`，`'Meiryo'`などを指定する．\n",
    "Macの場合は`'Hiragino Sans'`，`IPAexGothic`などを指定する．"
   ]
  },
  {
   "cell_type": "code",
   "execution_count": null,
   "metadata": {},
   "outputs": [],
   "source": [
    "import matplotlib.pyplot as plt\n",
    "plt.rcParams['font.family'] = 'MS Gothic'"
   ]
  },
  {
   "attachments": {},
   "cell_type": "markdown",
   "metadata": {},
   "source": [
    "#### 描画結果の出力先\n",
    "\n",
    "Jupyterでは，デフォルトでコードセルの下に描画結果が表示される設定になっている．\n",
    "これを明示的に指定するには，Jupyterのマジックコマンド`%matplotlib`の後に`inline`を指定する．\n",
    "\n",
    "**※ 一番最後のコマンドにセミコロンを付けることがある．これは，不要な文字列が出力されるのを防ぐ（隠す）ためである．**"
   ]
  },
  {
   "cell_type": "code",
   "execution_count": 18,
   "metadata": {},
   "outputs": [],
   "source": [
    "# notebook内に出力する\n",
    "%matplotlib inline"
   ]
  },
  {
   "attachments": {},
   "cell_type": "markdown",
   "metadata": {},
   "source": [
    "一方，`%matplotlib`の後に`tk`を指定すると，描画結果を別画面に出力することができる．\n",
    "この機能はアニメーションを出力するときに使用する．"
   ]
  },
  {
   "cell_type": "code",
   "execution_count": 93,
   "metadata": {},
   "outputs": [],
   "source": [
    "# 別ウインドウに出力する\n",
    "%matplotlib tk"
   ]
  },
  {
   "attachments": {},
   "cell_type": "markdown",
   "metadata": {},
   "source": [
    "#### グラフの作成手順\n",
    "\n",
    "matplotlibを用いたグラフ作成にはいくつかのスタイルがあるが，本講義ではオブジェクトを明示的に生成するスタイル（オブジェクト指向スタイル）に従う．\n",
    "このスタイルでは，`plt.subplots()`を用いて{numref}`fig:fig_axes`のようにFigureオブジェクトとAxesオブジェクトを生成し，個々のAxesオブジェクトに対してプロットを行う．"
   ]
  },
  {
   "attachments": {},
   "cell_type": "markdown",
   "metadata": {},
   "source": [
    "```{figure} ../figure/fig_axes.png\n",
    "---\n",
    "height: 250px\n",
    "name: fig:fig_axes\n",
    "---\n",
    "MatplotlibにおけるFigureオブジェクトとAxesオブジェクト\n",
    "```"
   ]
  },
  {
   "attachments": {},
   "cell_type": "markdown",
   "metadata": {},
   "source": [
    "データのプロット，グラフの装飾，グラフの保存までの手順は以下の通りである．\n",
    "\n",
    "1. FigureオブジェクトとAxesオブジェクトを生成する\n",
    "    ```python\n",
    "    fig, ax = plt.subplots(figsize=(3, 3))\n",
    "    ```\n",
    "2. Axesオブジェクトのメソッドを用いてプロットする\n",
    "    ```python\n",
    "    ax.plot(x, y, option)\n",
    "    ax.bar(x, y, option)\n",
    "    ```\n",
    "3. Axesを装飾する\n",
    "    ```python\n",
    "    ax.set_xlim(xmin, xmax)\n",
    "    ax.set_xlabel('X')\n",
    "    ```\n",
    "4. Figureを保存する\n",
    "    ```python\n",
    "    fig.savefig('abc.pdf', dpi=80, transparent=True, bbox_inches='tight', pad_inches=0.2)\n",
    "    ```"
   ]
  },
  {
   "cell_type": "code",
   "execution_count": 29,
   "metadata": {},
   "outputs": [
    {
     "data": {
      "image/png": "[encoded data removed]",
      "text/plain": [
       "<Figure size 500x300 with 1 Axes>"
      ]
     },
     "metadata": {},
     "output_type": "display_data"
    }
   ],
   "source": [
    "# FigureとAxesを生成する\n",
    "fig, ax = plt.subplots(figsize=(5, 3))\n",
    "\n",
    "# Axesに対してプロットする\n",
    "x = np.linspace(0, 2*np.pi, 20)\n",
    "ax.plot(x, 2*np.sin(x), 'bo--');  # 青のoを点線で結ぶ\n",
    "\n",
    "# Axesを装飾する\n",
    "ax.set_xlim(0, 2*np.pi); ax.set_ylim(-2.1, 2.1)\n",
    "ax.set_xlabel('X軸'); ax.set_ylabel('Y軸')\n",
    "\n",
    "# Figureを保存する（相対パスを指定）\n",
    "fig.savefig('./sin.pdf', bbox_inches=\"tight\", pad_inches=0.2, transparent=False, dpi=300);"
   ]
  },
  {
   "attachments": {},
   "cell_type": "markdown",
   "metadata": {},
   "source": [
    "#### 基本のプロット関数"
   ]
  },
  {
   "attachments": {},
   "cell_type": "markdown",
   "metadata": {},
   "source": [
    "Matplotlibの最も基本的なプロット関数が`pyplot.plot()`である．\n",
    "Axesオブジェクトを`ax`として取得したい場合，`plot`関数は以下のように実行する：\n",
    "```python\n",
    "ax.plot(x, y, 'rx-', option)\n",
    "```\n",
    "`plot`関数の第3引数は色・マーカー・線種を同時指定することができる．\n",
    "主要なoptionを以下にまとめる．"
   ]
  },
  {
   "attachments": {},
   "cell_type": "markdown",
   "metadata": {},
   "source": [
    "| オプション名 | 省略表記 | 内容 | 指定の仕方（例） | \n",
    "| ---- | ---- | ---- | ---- |\n",
    "| color | c | 色 | 'k'(='black'), 'r'(='red'), 'b'(='blue') |\n",
    "| linestyle | ls | 線種 | '-', '--', ':' , '-.', 'None' |\n",
    "| marker | なし |マーカーの種類 | 'x', 'o', '^', '.', '+', 's', 'd' |\n",
    "| markersize | ms | マーカーのサイズ | 数値 |\n",
    "| markeredgecolor | mec | マーカーの境界の色 | 色名 |\n",
    "| markerfacecolor | mfc | マーカーの塗りつぶしの色 | 色名 |\n",
    "| linewidth | lw | 線の太さ | 数値 |\n",
    "| alpha | なし | 透過度 | 0~1 |"
   ]
  },
  {
   "cell_type": "code",
   "execution_count": 6,
   "metadata": {},
   "outputs": [
    {
     "data": {
      "image/png": "[encoded data removed]",
      "text/plain": [
       "<Figure size 500x300 with 1 Axes>"
      ]
     },
     "metadata": {},
     "output_type": "display_data"
    }
   ],
   "source": [
    "'''FigureとAxesの生成'''\n",
    "fig, ax = plt.subplots(figsize=(5, 3))\n",
    "\n",
    "'''Axesに対する描画'''\n",
    "x = np.linspace(0, 10, 30)\n",
    "ax.plot(x, np.sin(x), '-', label='A')\n",
    "ax.plot(x, np.sin(x-np.pi/2), 'x-.', label='B')\n",
    "ax.plot(x, np.sin(x-2*np.pi/2), '^--', label='C')\n",
    "\n",
    "''' Axesの装飾 '''\n",
    "# 座標軸の範囲の設定\n",
    "ax.set_xlim(0, 10)\n",
    "ax.set_ylim(-3, 3)\n",
    "\n",
    "# アスペクト比\n",
    "ax.set_aspect('equal')\n",
    "\n",
    "# タイトル\n",
    "ax.set_title('三角関数のグラフ', fontsize=12)\n",
    "\n",
    "# 軸ラベル\n",
    "ax.set_xlabel('角度 $X$ [rad]', fontsize=12)\n",
    "ax.set_ylabel('$Y$', fontsize=12)\n",
    "\n",
    "# 凡例\n",
    "ax.legend(loc='best', frameon=True, fontsize=8, numpoints=1)\n",
    "\n",
    "# 補助目盛りの表示\n",
    "ax.minorticks_on()\n",
    "\n",
    "# 目盛線の表示\n",
    "ax.grid(axis='both', which='major', linestyle='--')\n",
    "\n",
    "# 目盛りラベルを文字列に変更\n",
    "ax.set_xticks([0, np.pi, 2*np.pi, 3*np.pi])\n",
    "ax.set_xticklabels(['0', '$\\pi$', '$2\\pi$', '$3\\pi$'])\n",
    "\n",
    "# 目盛りのラベルサイズ\n",
    "ax.tick_params(axis='both', labelsize=12)\n",
    "\n",
    "'''Figureの保存'''\n",
    "fig.savefig('./multi_sin.pdf', bbox_inches=\"tight\", pad_inches=0.2, transparent=False, dpi=300)"
   ]
  },
  {
   "attachments": {},
   "cell_type": "markdown",
   "metadata": {},
   "source": [
    "#### ヒストグラム"
   ]
  },
  {
   "attachments": {},
   "cell_type": "markdown",
   "metadata": {},
   "source": [
    "Matplotlibで1次元ヒストグラムを描画するには`ax.hist()`を用いる：\n",
    "\n",
    "```python\n",
    "ax.hist(data, bins, option)\n",
    "```\n",
    "- 第１引数には数値データを与える．\n",
    "- `bins`引数には，以下を指定できる：\n",
    "  - `bins=n`とした場合，$ n $ 個の等間隔の階級に分ける．１つの階級の幅は `(最大値-最小値) / n` となる．\n",
    "  - `bins=[0, 1, 2, 3]`とした場合，階級の境界は`[0, 1), [1, 2), [2, 3]`となる（最後だけ右端を含むことに注意）．"
   ]
  },
  {
   "cell_type": "code",
   "execution_count": 31,
   "metadata": {},
   "outputs": [
    {
     "data": {
      "image/png": "[encoded data removed]",
      "text/plain": [
       "<Figure size 350x300 with 1 Axes>"
      ]
     },
     "metadata": {},
     "output_type": "display_data"
    }
   ],
   "source": [
    "# データの作成\n",
    "np.random.seed(20)\n",
    "data = np.random.normal(170, 10, 1000)\n",
    "\n",
    "# ヒストグラムの描画\n",
    "fig, ax = plt.subplots()\n",
    "ret = ax.hist(data, bins=10, color='gray', edgecolor='k')  # 階級数10\n",
    "\n",
    "# 軸のラベル\n",
    "ax.set_xlabel('$X$', fontsize=15)\n",
    "ax.set_ylabel('頻度', fontsize=15)\n",
    "ax.set_xticks(np.arange(130, 210, 10));"
   ]
  },
  {
   "cell_type": "code",
   "execution_count": 33,
   "metadata": {},
   "outputs": [
    {
     "data": {
      "text/html": [
       "<div>\n",
       "<style scoped>\n",
       "    .dataframe tbody tr th:only-of-type {\n",
       "        vertical-align: middle;\n",
       "    }\n",
       "\n",
       "    .dataframe tbody tr th {\n",
       "        vertical-align: top;\n",
       "    }\n",
       "\n",
       "    .dataframe thead th {\n",
       "        text-align: right;\n",
       "    }\n",
       "</style>\n",
       "<table border=\"1\" class=\"dataframe\">\n",
       "  <thead>\n",
       "    <tr style=\"text-align: right;\">\n",
       "      <th></th>\n",
       "      <th>最小</th>\n",
       "      <th>最大</th>\n",
       "      <th>階級値</th>\n",
       "      <th>度数</th>\n",
       "      <th>相対度数</th>\n",
       "    </tr>\n",
       "  </thead>\n",
       "  <tbody>\n",
       "    <tr>\n",
       "      <th>0</th>\n",
       "      <td>138.102972</td>\n",
       "      <td>144.180495</td>\n",
       "      <td>141.141733</td>\n",
       "      <td>4.0</td>\n",
       "      <td>0.004</td>\n",
       "    </tr>\n",
       "    <tr>\n",
       "      <th>1</th>\n",
       "      <td>144.180495</td>\n",
       "      <td>150.258017</td>\n",
       "      <td>147.219256</td>\n",
       "      <td>15.0</td>\n",
       "      <td>0.015</td>\n",
       "    </tr>\n",
       "    <tr>\n",
       "      <th>2</th>\n",
       "      <td>150.258017</td>\n",
       "      <td>156.335540</td>\n",
       "      <td>153.296779</td>\n",
       "      <td>70.0</td>\n",
       "      <td>0.070</td>\n",
       "    </tr>\n",
       "    <tr>\n",
       "      <th>3</th>\n",
       "      <td>156.335540</td>\n",
       "      <td>162.413063</td>\n",
       "      <td>159.374301</td>\n",
       "      <td>148.0</td>\n",
       "      <td>0.148</td>\n",
       "    </tr>\n",
       "    <tr>\n",
       "      <th>4</th>\n",
       "      <td>162.413063</td>\n",
       "      <td>168.490585</td>\n",
       "      <td>165.451824</td>\n",
       "      <td>205.0</td>\n",
       "      <td>0.205</td>\n",
       "    </tr>\n",
       "    <tr>\n",
       "      <th>5</th>\n",
       "      <td>168.490585</td>\n",
       "      <td>174.568108</td>\n",
       "      <td>171.529347</td>\n",
       "      <td>226.0</td>\n",
       "      <td>0.226</td>\n",
       "    </tr>\n",
       "    <tr>\n",
       "      <th>6</th>\n",
       "      <td>174.568108</td>\n",
       "      <td>180.645631</td>\n",
       "      <td>177.606869</td>\n",
       "      <td>181.0</td>\n",
       "      <td>0.181</td>\n",
       "    </tr>\n",
       "    <tr>\n",
       "      <th>7</th>\n",
       "      <td>180.645631</td>\n",
       "      <td>186.723153</td>\n",
       "      <td>183.684392</td>\n",
       "      <td>114.0</td>\n",
       "      <td>0.114</td>\n",
       "    </tr>\n",
       "    <tr>\n",
       "      <th>8</th>\n",
       "      <td>186.723153</td>\n",
       "      <td>192.800676</td>\n",
       "      <td>189.761915</td>\n",
       "      <td>31.0</td>\n",
       "      <td>0.031</td>\n",
       "    </tr>\n",
       "    <tr>\n",
       "      <th>9</th>\n",
       "      <td>192.800676</td>\n",
       "      <td>198.878199</td>\n",
       "      <td>195.839437</td>\n",
       "      <td>6.0</td>\n",
       "      <td>0.006</td>\n",
       "    </tr>\n",
       "  </tbody>\n",
       "</table>\n",
       "</div>"
      ],
      "text/plain": [
       "           最小          最大         階級値     度数   相対度数\n",
       "0  138.102972  144.180495  141.141733    4.0  0.004\n",
       "1  144.180495  150.258017  147.219256   15.0  0.015\n",
       "2  150.258017  156.335540  153.296779   70.0  0.070\n",
       "3  156.335540  162.413063  159.374301  148.0  0.148\n",
       "4  162.413063  168.490585  165.451824  205.0  0.205\n",
       "5  168.490585  174.568108  171.529347  226.0  0.226\n",
       "6  174.568108  180.645631  177.606869  181.0  0.181\n",
       "7  180.645631  186.723153  183.684392  114.0  0.114\n",
       "8  186.723153  192.800676  189.761915   31.0  0.031\n",
       "9  192.800676  198.878199  195.839437    6.0  0.006"
      ]
     },
     "execution_count": 33,
     "metadata": {},
     "output_type": "execute_result"
    }
   ],
   "source": [
    "# 度数分布表の作成\n",
    "f, x = ret[0], ret[1]\n",
    "df = pd.DataFrame(np.c_[x[:-1], x[1:], 0.5*(x[1:]+x[:-1]), f, f/len(data)],\n",
    "                  columns=['最小', '最大', '階級値', '度数', '相対度数'])\n",
    "df"
   ]
  },
  {
   "attachments": {},
   "cell_type": "markdown",
   "metadata": {},
   "source": [
    "**ヒストグラムの装飾**\n",
    "\n",
    "`ax.hist`メソッドにも，色やスタイルを変更するためのオプションが多数用意されている．\n",
    "主要なオプションを以下にまとめる．"
   ]
  },
  {
   "attachments": {},
   "cell_type": "markdown",
   "metadata": {},
   "source": [
    "| オプション |  内容 | 指定の仕方（例） | \n",
    "| ---- | ---- | ---- |\n",
    "| histtype | ヒストグラムのスタイル | 'bar', 'step', 'stepfilled', 'barstacked' |\n",
    "| color | 塗りつぶしの色 | 色名 |\n",
    "| edgecolor | 枠線の色 | 色名 |\n",
    "| linewidth | 枠線の太さ | 数値 |\n",
    "| linestyle | 線種 | '-', '--', '-.', ':' |\n",
    "| rwidth | バーの幅 | 数値（0~1） |\n",
    "| align | バーの中央を階級のどこに合わせるか | 'left'（階級の左端）, 'mid'（階級の中央＝デフォルト）, 'right'（階級の右端） |\n",
    "| density | Trueの場合は縦軸を相対度数に変更 | True/False |\n",
    "| cumulative | Trueの場合は縦軸を累積度数に変更 | 1（下側累積）, 0, -1（上側累積） |"
   ]
  },
  {
   "cell_type": "code",
   "execution_count": 34,
   "metadata": {},
   "outputs": [
    {
     "data": {
      "image/png": "[encoded data removed]",
      "text/plain": [
       "<Figure size 350x300 with 1 Axes>"
      ]
     },
     "metadata": {},
     "output_type": "display_data"
    }
   ],
   "source": [
    "# データの作成\n",
    "np.random.seed(20)\n",
    "data = np.random.normal(170, 10, 1000)\n",
    "\n",
    "fig, ax = plt.subplots()\n",
    "ret = ax.hist(data, \n",
    "              bins=10,\n",
    "              # bins=[-4, -3, -2, -1, 0, 1, 2, 3, 4], # 階級の左端の値を指定する場合\n",
    "              histtype='bar',  # ヒストグラムのスタイルを棒グラフに\n",
    "              color='c',       # バーの色をシアンに\n",
    "              edgecolor='k',   # バーの枠線の色を黒に\n",
    "              linewidth=0.5,   # バーの枠線の太さを1に\n",
    "              linestyle='--',  # 枠線を点線に\n",
    "              density=True     # 縦軸を相対度数に\n",
    "              )\n",
    "\n",
    "# 軸のラベル\n",
    "ax.set_xlabel('$X$', fontsize=15)\n",
    "ax.set_ylabel('頻度', fontsize=15)\n",
    "ax.set_xticks(np.arange(130, 210, 10));"
   ]
  },
  {
   "attachments": {},
   "cell_type": "markdown",
   "metadata": {},
   "source": [
    "### `scipy.stats`の基礎"
   ]
  },
  {
   "attachments": {},
   "cell_type": "markdown",
   "metadata": {},
   "source": [
    "Pythonには，科学技術計算に特化した `scipy` というライブラリが存在する．\n",
    "確率分布に関する計算（例えば，正規分布に従う乱数の生成など）には，`numpy`を使用することもできるが，`scipy.stats`の方が機能が充実している．\n",
    "ここでは，`scipy`の中で確率分布や乱数に関する機能をまとめた`sciy.stats`の基礎をまとめる．\n",
    "`scipy`のその他の機能についてはその都度解説する．\n",
    "\n",
    "まず，本講義では，`scipy`を`sp`という名前でインポートする："
   ]
  },
  {
   "cell_type": "code",
   "execution_count": 12,
   "metadata": {},
   "outputs": [],
   "source": [
    "import scipy as sp"
   ]
  },
  {
   "attachments": {},
   "cell_type": "markdown",
   "metadata": {},
   "source": [
    "`scipy`には，確率分布の種類別に様々なメソッドが用意されており，\n",
    "\n",
    "```python\n",
    "sp.stats.確率分布名.メソッド名\n",
    "```\n",
    "\n",
    "のように使用する．\n",
    "例えば，標準正規分布（平均0，標準偏差1のNormal Distribution）に従うサイズ10の標本を生成するには以下のように`rvs`メソッドを用いる"
   ]
  },
  {
   "cell_type": "code",
   "execution_count": 13,
   "metadata": {},
   "outputs": [
    {
     "data": {
      "text/plain": [
       "array([ 0.14160215, -0.54994744,  1.13429327,  0.79154247, -0.03539083,\n",
       "       -0.19502139, -1.03818828,  0.44388096,  0.96066003, -0.43036345])"
      ]
     },
     "execution_count": 13,
     "metadata": {},
     "output_type": "execute_result"
    }
   ],
   "source": [
    "sp.stats.norm.rvs(loc=0, scale=1, size=10)"
   ]
  },
  {
   "attachments": {},
   "cell_type": "markdown",
   "metadata": {},
   "source": [
    "**[主要な確率分布](https://docs.scipy.org/doc/scipy/reference/stats.html)**"
   ]
  },
  {
   "attachments": {},
   "cell_type": "markdown",
   "metadata": {},
   "source": [
    "| コマンド | 確率分布 |\n",
    "| --- | --- |\n",
    "| `sp.stats.bernoulli` | ベルヌーイ分布 |\n",
    "| `sp.stats.binom` | 二項分布 |\n",
    "| `sp.stats.poisson` | ポアソン分布 |\n",
    "| `sp.stats.geom` | 幾何分布 |\n",
    "| `sp.stats.norm` | 正規分布 |\n",
    "| `sp.stats.expon` | 指数分布 |\n",
    "| `sp.stats.gamma` | ガンマ分布 |"
   ]
  },
  {
   "attachments": {},
   "cell_type": "markdown",
   "metadata": {},
   "source": [
    "**主なメソッド**"
   ]
  },
  {
   "attachments": {},
   "cell_type": "markdown",
   "metadata": {},
   "source": [
    "| メソッド | 内容 | 備考 |\n",
    "| --- | --- | --- |\n",
    "| `rvs` | 対応する確率分布に従うデータを生成する |\n",
    "| `pmf` | 確率質量関数を計算する | 離散型確率分布のみ |\n",
    "| `pdf` | 確率密度関数を計算する | 連続型確率分布のみ |\n",
    "| `cdf` | 累積分布関数を計算する | |\n",
    "| `ppf` | パーセント点に対応する`x`の値を計算する | |"
   ]
  },
  {
   "attachments": {},
   "cell_type": "markdown",
   "metadata": {},
   "source": [
    "#### 例：ポアソン分布"
   ]
  },
  {
   "cell_type": "code",
   "execution_count": 26,
   "metadata": {},
   "outputs": [],
   "source": [
    "# ポアソン分布に従うサイズ100の標本を生成\n",
    "data = sp.stats.poisson.rvs(mu=3, size=1000)"
   ]
  },
  {
   "cell_type": "code",
   "execution_count": 28,
   "metadata": {},
   "outputs": [
    {
     "data": {
      "image/png": "[encoded data removed]",
      "text/plain": [
       "<Figure size 350x300 with 1 Axes>"
      ]
     },
     "metadata": {},
     "output_type": "display_data"
    }
   ],
   "source": [
    "# ヒストグラムの階級の左端の値\n",
    "k = np.arange(data.max()+2)\n",
    "\n",
    "# ヒストグラムを描画する\n",
    "fig, ax = plt.subplots()\n",
    "ret = ax.hist(data, \n",
    "              bins=k,        # 階級の左端の値を指定\n",
    "              align='left',  # バーの中央を階級の左端に合わせる\n",
    "              density=1,     # 縦軸を相対度数に\n",
    "              color='c',       \n",
    "              edgecolor='k', \n",
    "              rwidth=0.5)\n",
    "\n",
    "# 確率質量関数を描画する\n",
    "fk = sp.stats.poisson.pmf(k, mu=3)\n",
    "ax.plot(k, fk, 'k-o')\n",
    "\n",
    "# 装飾\n",
    "ax.set_xlabel('$k$', fontsize=12)\n",
    "ax.set_ylabel('相対度数', fontsize=12)\n",
    "ax.set_xticks(k);\n",
    "\n",
    "# 保存\n",
    "fig.savefig('./poisson.pdf', bbox_inches=\"tight\", pad_inches=0.2, transparent=False, dpi=300)"
   ]
  },
  {
   "attachments": {},
   "cell_type": "markdown",
   "metadata": {},
   "source": [
    "#### 例：正規分布"
   ]
  },
  {
   "cell_type": "code",
   "execution_count": 23,
   "metadata": {},
   "outputs": [],
   "source": [
    "# 標準正規分布に従うサイズ100の標本を生成\n",
    "data = sp.stats.norm.rvs(size=100)"
   ]
  },
  {
   "cell_type": "code",
   "execution_count": 24,
   "metadata": {},
   "outputs": [
    {
     "data": {
      "image/png": "[encoded data removed]",
      "text/plain": [
       "<Figure size 350x300 with 1 Axes>"
      ]
     },
     "metadata": {},
     "output_type": "display_data"
    }
   ],
   "source": [
    "# ヒストグラムを描画する\n",
    "fig, ax = plt.subplots()\n",
    "ret = ax.hist(data, bins=10, density=1, color='c', edgecolor='k')  # 階級数10\n",
    "\n",
    "# 確率密度関数を描画する\n",
    "x = np.arange(-5, 5, 0.1)\n",
    "fx = sp.stats.norm.pdf(x, loc=0, scale=1)\n",
    "ax.plot(x, fx, 'k-')\n",
    "\n",
    "# 装飾\n",
    "ax.set_xlabel('$x$', fontsize=12)\n",
    "ax.set_ylabel('相対度数', fontsize=12)\n",
    "\n",
    "# 保存\n",
    "fig.savefig('./normal.pdf', bbox_inches=\"tight\", pad_inches=0.2, transparent=False, dpi=300)"
   ]
  }
 ],
 "metadata": {
  "kernelspec": {
   "display_name": "Python 3.9.13 ('myenv')",
   "language": "python",
   "name": "python3"
  },
  "language_info": {
   "codemirror_mode": {
    "name": "ipython",
    "version": 3
   },
   "file_extension": ".py",
   "mimetype": "text/x-python",
   "name": "python",
   "nbconvert_exporter": "python",
   "pygments_lexer": "ipython3",
   "version": "3.9.18"
  },
  "toc-autonumbering": true,
  "toc-showcode": false,
  "toc-showmarkdowntxt": false,
  "toc-showtags": false,
  "vscode": {
   "interpreter": {
    "hash": "911fd4aa1eca4252368dc27db61226a38a6cfe922f9bbc90c7d50e9c97ede316"
   }
  }
 },
 "nbformat": 4,
 "nbformat_minor": 4
}
